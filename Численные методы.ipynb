{
 "cells": [
  {
   "cell_type": "markdown",
   "metadata": {},
   "source": [
    "# Определение стоимости автомобилей"
   ]
  },
  {
   "cell_type": "markdown",
   "metadata": {},
   "source": [
    "Сервис по продаже автомобилей с пробегом «Не бит, не крашен» разрабатывает приложение для привлечения новых клиентов. В нём можно быстро узнать рыночную стоимость своего автомобиля. В вашем распоряжении исторические данные: технические характеристики, комплектации и цены автомобилей. Вам нужно построить модель для определения стоимости. \n",
    "\n",
    "Заказчику важны:\n",
    "\n",
    "- качество предсказания;\n",
    "- скорость предсказания;\n",
    "- время обучения."
   ]
  },
  {
   "cell_type": "markdown",
   "metadata": {},
   "source": [
    "## Описание данных\n",
    "\n",
    "- DateCrawled — дата скачивания анкеты из базы\n",
    "- VehicleType — тип автомобильного кузова\n",
    "- RegistrationYear — год регистрации автомобиля\n",
    "- Gearbox — тип коробки передач\n",
    "- Power — мощность (л. с.)\n",
    "- Model — модель автомобиля\n",
    "- Kilometer — пробег (км)\n",
    "- RegistrationMonth — месяц регистрации автомобиля\n",
    "- FuelType — тип топлива\n",
    "- Brand — марка автомобиля\n",
    "- Repaired — была машина в ремонте или нет\n",
    "- DateCreated — дата создания анкеты\n",
    "- NumberOfPictures — количество фотографий автомобиля\n",
    "- PostalCode — почтовый индекс владельца анкеты (пользователя)\n",
    "- LastSeen — дата последней активности пользователя\n",
    "\n",
    "Целевой признак:\n",
    "- Price — цена (евро)"
   ]
  },
  {
   "cell_type": "markdown",
   "metadata": {},
   "source": [
    "## Подготовка данных"
   ]
  },
  {
   "cell_type": "code",
   "execution_count": 1,
   "metadata": {},
   "outputs": [],
   "source": [
    "# импорт библиотек\n",
    "import pandas as pd\n",
    "from sklearn.preprocessing import OrdinalEncoder\n",
    "from sklearn.preprocessing import OneHotEncoder\n",
    "from sklearn.linear_model import LinearRegression\n",
    "from sklearn.model_selection import train_test_split\n",
    "from sklearn.model_selection import cross_val_score\n",
    "from sklearn.preprocessing import RobustScaler, StandardScaler\n",
    "from sklearn.pipeline import Pipeline\n",
    "from sklearn.tree import DecisionTreeRegressor\n",
    "from sklearn.model_selection import GridSearchCV\n",
    "from catboost import Pool, CatBoostRegressor, cv\n",
    "from lightgbm import LGBMRegressor\n",
    "from sklearn.metrics import mean_squared_error\n",
    "import numpy as np\n",
    "from sklearn.metrics import make_scorer, mean_squared_error"
   ]
  },
  {
   "cell_type": "code",
   "execution_count": 2,
   "metadata": {},
   "outputs": [
    {
     "data": {
      "text/html": [
       "<div>\n",
       "<style scoped>\n",
       "    .dataframe tbody tr th:only-of-type {\n",
       "        vertical-align: middle;\n",
       "    }\n",
       "\n",
       "    .dataframe tbody tr th {\n",
       "        vertical-align: top;\n",
       "    }\n",
       "\n",
       "    .dataframe thead th {\n",
       "        text-align: right;\n",
       "    }\n",
       "</style>\n",
       "<table border=\"1\" class=\"dataframe\">\n",
       "  <thead>\n",
       "    <tr style=\"text-align: right;\">\n",
       "      <th></th>\n",
       "      <th>DateCrawled</th>\n",
       "      <th>Price</th>\n",
       "      <th>VehicleType</th>\n",
       "      <th>RegistrationYear</th>\n",
       "      <th>Gearbox</th>\n",
       "      <th>Power</th>\n",
       "      <th>Model</th>\n",
       "      <th>Kilometer</th>\n",
       "      <th>RegistrationMonth</th>\n",
       "      <th>FuelType</th>\n",
       "      <th>Brand</th>\n",
       "      <th>Repaired</th>\n",
       "      <th>DateCreated</th>\n",
       "      <th>NumberOfPictures</th>\n",
       "      <th>PostalCode</th>\n",
       "      <th>LastSeen</th>\n",
       "    </tr>\n",
       "  </thead>\n",
       "  <tbody>\n",
       "    <tr>\n",
       "      <th>0</th>\n",
       "      <td>2016-03-24 11:52:17</td>\n",
       "      <td>480</td>\n",
       "      <td>NaN</td>\n",
       "      <td>1993</td>\n",
       "      <td>manual</td>\n",
       "      <td>0</td>\n",
       "      <td>golf</td>\n",
       "      <td>150000</td>\n",
       "      <td>0</td>\n",
       "      <td>petrol</td>\n",
       "      <td>volkswagen</td>\n",
       "      <td>NaN</td>\n",
       "      <td>2016-03-24 00:00:00</td>\n",
       "      <td>0</td>\n",
       "      <td>70435</td>\n",
       "      <td>2016-04-07 03:16:57</td>\n",
       "    </tr>\n",
       "    <tr>\n",
       "      <th>1</th>\n",
       "      <td>2016-03-24 10:58:45</td>\n",
       "      <td>18300</td>\n",
       "      <td>coupe</td>\n",
       "      <td>2011</td>\n",
       "      <td>manual</td>\n",
       "      <td>190</td>\n",
       "      <td>NaN</td>\n",
       "      <td>125000</td>\n",
       "      <td>5</td>\n",
       "      <td>gasoline</td>\n",
       "      <td>audi</td>\n",
       "      <td>yes</td>\n",
       "      <td>2016-03-24 00:00:00</td>\n",
       "      <td>0</td>\n",
       "      <td>66954</td>\n",
       "      <td>2016-04-07 01:46:50</td>\n",
       "    </tr>\n",
       "    <tr>\n",
       "      <th>2</th>\n",
       "      <td>2016-03-14 12:52:21</td>\n",
       "      <td>9800</td>\n",
       "      <td>suv</td>\n",
       "      <td>2004</td>\n",
       "      <td>auto</td>\n",
       "      <td>163</td>\n",
       "      <td>grand</td>\n",
       "      <td>125000</td>\n",
       "      <td>8</td>\n",
       "      <td>gasoline</td>\n",
       "      <td>jeep</td>\n",
       "      <td>NaN</td>\n",
       "      <td>2016-03-14 00:00:00</td>\n",
       "      <td>0</td>\n",
       "      <td>90480</td>\n",
       "      <td>2016-04-05 12:47:46</td>\n",
       "    </tr>\n",
       "    <tr>\n",
       "      <th>3</th>\n",
       "      <td>2016-03-17 16:54:04</td>\n",
       "      <td>1500</td>\n",
       "      <td>small</td>\n",
       "      <td>2001</td>\n",
       "      <td>manual</td>\n",
       "      <td>75</td>\n",
       "      <td>golf</td>\n",
       "      <td>150000</td>\n",
       "      <td>6</td>\n",
       "      <td>petrol</td>\n",
       "      <td>volkswagen</td>\n",
       "      <td>no</td>\n",
       "      <td>2016-03-17 00:00:00</td>\n",
       "      <td>0</td>\n",
       "      <td>91074</td>\n",
       "      <td>2016-03-17 17:40:17</td>\n",
       "    </tr>\n",
       "    <tr>\n",
       "      <th>4</th>\n",
       "      <td>2016-03-31 17:25:20</td>\n",
       "      <td>3600</td>\n",
       "      <td>small</td>\n",
       "      <td>2008</td>\n",
       "      <td>manual</td>\n",
       "      <td>69</td>\n",
       "      <td>fabia</td>\n",
       "      <td>90000</td>\n",
       "      <td>7</td>\n",
       "      <td>gasoline</td>\n",
       "      <td>skoda</td>\n",
       "      <td>no</td>\n",
       "      <td>2016-03-31 00:00:00</td>\n",
       "      <td>0</td>\n",
       "      <td>60437</td>\n",
       "      <td>2016-04-06 10:17:21</td>\n",
       "    </tr>\n",
       "  </tbody>\n",
       "</table>\n",
       "</div>"
      ],
      "text/plain": [
       "           DateCrawled  Price VehicleType  RegistrationYear Gearbox  Power  \\\n",
       "0  2016-03-24 11:52:17    480         NaN              1993  manual      0   \n",
       "1  2016-03-24 10:58:45  18300       coupe              2011  manual    190   \n",
       "2  2016-03-14 12:52:21   9800         suv              2004    auto    163   \n",
       "3  2016-03-17 16:54:04   1500       small              2001  manual     75   \n",
       "4  2016-03-31 17:25:20   3600       small              2008  manual     69   \n",
       "\n",
       "   Model  Kilometer  RegistrationMonth  FuelType       Brand Repaired  \\\n",
       "0   golf     150000                  0    petrol  volkswagen      NaN   \n",
       "1    NaN     125000                  5  gasoline        audi      yes   \n",
       "2  grand     125000                  8  gasoline        jeep      NaN   \n",
       "3   golf     150000                  6    petrol  volkswagen       no   \n",
       "4  fabia      90000                  7  gasoline       skoda       no   \n",
       "\n",
       "           DateCreated  NumberOfPictures  PostalCode             LastSeen  \n",
       "0  2016-03-24 00:00:00                 0       70435  2016-04-07 03:16:57  \n",
       "1  2016-03-24 00:00:00                 0       66954  2016-04-07 01:46:50  \n",
       "2  2016-03-14 00:00:00                 0       90480  2016-04-05 12:47:46  \n",
       "3  2016-03-17 00:00:00                 0       91074  2016-03-17 17:40:17  \n",
       "4  2016-03-31 00:00:00                 0       60437  2016-04-06 10:17:21  "
      ]
     },
     "metadata": {},
     "output_type": "display_data"
    },
    {
     "name": "stdout",
     "output_type": "stream",
     "text": [
      "<class 'pandas.core.frame.DataFrame'>\n",
      "RangeIndex: 354369 entries, 0 to 354368\n",
      "Data columns (total 16 columns):\n",
      " #   Column             Non-Null Count   Dtype \n",
      "---  ------             --------------   ----- \n",
      " 0   DateCrawled        354369 non-null  object\n",
      " 1   Price              354369 non-null  int64 \n",
      " 2   VehicleType        316879 non-null  object\n",
      " 3   RegistrationYear   354369 non-null  int64 \n",
      " 4   Gearbox            334536 non-null  object\n",
      " 5   Power              354369 non-null  int64 \n",
      " 6   Model              334664 non-null  object\n",
      " 7   Kilometer          354369 non-null  int64 \n",
      " 8   RegistrationMonth  354369 non-null  int64 \n",
      " 9   FuelType           321474 non-null  object\n",
      " 10  Brand              354369 non-null  object\n",
      " 11  Repaired           283215 non-null  object\n",
      " 12  DateCreated        354369 non-null  object\n",
      " 13  NumberOfPictures   354369 non-null  int64 \n",
      " 14  PostalCode         354369 non-null  int64 \n",
      " 15  LastSeen           354369 non-null  object\n",
      "dtypes: int64(7), object(9)\n",
      "memory usage: 43.3+ MB\n"
     ]
    }
   ],
   "source": [
    "# загрузка данных\n",
    "data = pd.read_csv('/datasets/autos.csv')\n",
    "display(data.head())\n",
    "data.info()"
   ]
  },
  {
   "cell_type": "code",
   "execution_count": 3,
   "metadata": {
    "scrolled": true
   },
   "outputs": [
    {
     "name": "stdout",
     "output_type": "stream",
     "text": [
      "Общих дубликатов: 4\n"
     ]
    }
   ],
   "source": [
    "# посмотрю сколько тут общих дубликатов\n",
    "print('Общих дубликатов:', data.duplicated().sum())"
   ]
  },
  {
   "cell_type": "code",
   "execution_count": 4,
   "metadata": {
    "scrolled": true
   },
   "outputs": [
    {
     "data": {
      "text/html": [
       "<div>\n",
       "<style scoped>\n",
       "    .dataframe tbody tr th:only-of-type {\n",
       "        vertical-align: middle;\n",
       "    }\n",
       "\n",
       "    .dataframe tbody tr th {\n",
       "        vertical-align: top;\n",
       "    }\n",
       "\n",
       "    .dataframe thead th {\n",
       "        text-align: right;\n",
       "    }\n",
       "</style>\n",
       "<table border=\"1\" class=\"dataframe\">\n",
       "  <thead>\n",
       "    <tr style=\"text-align: right;\">\n",
       "      <th></th>\n",
       "      <th>Price</th>\n",
       "      <th>RegistrationYear</th>\n",
       "      <th>Power</th>\n",
       "      <th>Kilometer</th>\n",
       "      <th>RegistrationMonth</th>\n",
       "      <th>NumberOfPictures</th>\n",
       "      <th>PostalCode</th>\n",
       "    </tr>\n",
       "  </thead>\n",
       "  <tbody>\n",
       "    <tr>\n",
       "      <th>count</th>\n",
       "      <td>354369.000000</td>\n",
       "      <td>354369.000000</td>\n",
       "      <td>354369.000000</td>\n",
       "      <td>354369.000000</td>\n",
       "      <td>354369.000000</td>\n",
       "      <td>354369.0</td>\n",
       "      <td>354369.000000</td>\n",
       "    </tr>\n",
       "    <tr>\n",
       "      <th>mean</th>\n",
       "      <td>4416.656776</td>\n",
       "      <td>2004.234448</td>\n",
       "      <td>110.094337</td>\n",
       "      <td>128211.172535</td>\n",
       "      <td>5.714645</td>\n",
       "      <td>0.0</td>\n",
       "      <td>50508.689087</td>\n",
       "    </tr>\n",
       "    <tr>\n",
       "      <th>std</th>\n",
       "      <td>4514.158514</td>\n",
       "      <td>90.227958</td>\n",
       "      <td>189.850405</td>\n",
       "      <td>37905.341530</td>\n",
       "      <td>3.726421</td>\n",
       "      <td>0.0</td>\n",
       "      <td>25783.096248</td>\n",
       "    </tr>\n",
       "    <tr>\n",
       "      <th>min</th>\n",
       "      <td>0.000000</td>\n",
       "      <td>1000.000000</td>\n",
       "      <td>0.000000</td>\n",
       "      <td>5000.000000</td>\n",
       "      <td>0.000000</td>\n",
       "      <td>0.0</td>\n",
       "      <td>1067.000000</td>\n",
       "    </tr>\n",
       "    <tr>\n",
       "      <th>25%</th>\n",
       "      <td>1050.000000</td>\n",
       "      <td>1999.000000</td>\n",
       "      <td>69.000000</td>\n",
       "      <td>125000.000000</td>\n",
       "      <td>3.000000</td>\n",
       "      <td>0.0</td>\n",
       "      <td>30165.000000</td>\n",
       "    </tr>\n",
       "    <tr>\n",
       "      <th>50%</th>\n",
       "      <td>2700.000000</td>\n",
       "      <td>2003.000000</td>\n",
       "      <td>105.000000</td>\n",
       "      <td>150000.000000</td>\n",
       "      <td>6.000000</td>\n",
       "      <td>0.0</td>\n",
       "      <td>49413.000000</td>\n",
       "    </tr>\n",
       "    <tr>\n",
       "      <th>75%</th>\n",
       "      <td>6400.000000</td>\n",
       "      <td>2008.000000</td>\n",
       "      <td>143.000000</td>\n",
       "      <td>150000.000000</td>\n",
       "      <td>9.000000</td>\n",
       "      <td>0.0</td>\n",
       "      <td>71083.000000</td>\n",
       "    </tr>\n",
       "    <tr>\n",
       "      <th>max</th>\n",
       "      <td>20000.000000</td>\n",
       "      <td>9999.000000</td>\n",
       "      <td>20000.000000</td>\n",
       "      <td>150000.000000</td>\n",
       "      <td>12.000000</td>\n",
       "      <td>0.0</td>\n",
       "      <td>99998.000000</td>\n",
       "    </tr>\n",
       "  </tbody>\n",
       "</table>\n",
       "</div>"
      ],
      "text/plain": [
       "               Price  RegistrationYear          Power      Kilometer  \\\n",
       "count  354369.000000     354369.000000  354369.000000  354369.000000   \n",
       "mean     4416.656776       2004.234448     110.094337  128211.172535   \n",
       "std      4514.158514         90.227958     189.850405   37905.341530   \n",
       "min         0.000000       1000.000000       0.000000    5000.000000   \n",
       "25%      1050.000000       1999.000000      69.000000  125000.000000   \n",
       "50%      2700.000000       2003.000000     105.000000  150000.000000   \n",
       "75%      6400.000000       2008.000000     143.000000  150000.000000   \n",
       "max     20000.000000       9999.000000   20000.000000  150000.000000   \n",
       "\n",
       "       RegistrationMonth  NumberOfPictures     PostalCode  \n",
       "count      354369.000000          354369.0  354369.000000  \n",
       "mean            5.714645               0.0   50508.689087  \n",
       "std             3.726421               0.0   25783.096248  \n",
       "min             0.000000               0.0    1067.000000  \n",
       "25%             3.000000               0.0   30165.000000  \n",
       "50%             6.000000               0.0   49413.000000  \n",
       "75%             9.000000               0.0   71083.000000  \n",
       "max            12.000000               0.0   99998.000000  "
      ]
     },
     "execution_count": 4,
     "metadata": {},
     "output_type": "execute_result"
    }
   ],
   "source": [
    "# количественные характеристики датасета\n",
    "data.describe()"
   ]
  },
  {
   "cell_type": "markdown",
   "metadata": {},
   "source": [
    "**Выводы по данным**\n",
    "\n",
    "- Price - есть минимальная цена 0.\n",
    "- RegistrationYear есть некорректные значения года регистрации.\n",
    "- Power - есть некорректные значения мощности двигателя.\n",
    "- Kilometer 50% с пробегом 150 000. Выше этой цифры значений нет, как будто какое-то ограничение на платформе.\n",
    "- RegistrationMonth - есть пропуски в месяце регистрации.\n",
    "\n",
    "\n",
    "**Признаки, которые могут быть значимы для построения прогноза:**\n",
    "\n",
    "- VehicleType. Тип кузова влияет на функционал автомобиля, а значит на стоимость.\n",
    "- RegistrationYear. Год выпуска машины обратно пропорционален цене. Если это конечно не ретро автомобиль.\n",
    "- Gearbox. Разные коробки передач имеют разную надежность и популярность.\n",
    "- Power. Мощность в лошадиных силах напрямую влияет на цену.\n",
    "- Model и Brand. Бренд и модель могут существенно влиять на цену при прочих равных характеристиках.\n",
    "- Kilometer. Чем больше пробег, тем меньше цена.\n",
    "- FuelType. Тип топлива влияет на пользовательские предпочтения.\n",
    "- Repaired. Битая машина теряет в цене."
   ]
  },
  {
   "cell_type": "code",
   "execution_count": 5,
   "metadata": {},
   "outputs": [
    {
     "data": {
      "text/html": [
       "<div>\n",
       "<style scoped>\n",
       "    .dataframe tbody tr th:only-of-type {\n",
       "        vertical-align: middle;\n",
       "    }\n",
       "\n",
       "    .dataframe tbody tr th {\n",
       "        vertical-align: top;\n",
       "    }\n",
       "\n",
       "    .dataframe thead th {\n",
       "        text-align: right;\n",
       "    }\n",
       "</style>\n",
       "<table border=\"1\" class=\"dataframe\">\n",
       "  <thead>\n",
       "    <tr style=\"text-align: right;\">\n",
       "      <th></th>\n",
       "      <th>Price</th>\n",
       "      <th>VehicleType</th>\n",
       "      <th>RegistrationYear</th>\n",
       "      <th>Gearbox</th>\n",
       "      <th>Power</th>\n",
       "      <th>Model</th>\n",
       "      <th>Kilometer</th>\n",
       "      <th>FuelType</th>\n",
       "      <th>Brand</th>\n",
       "      <th>Repaired</th>\n",
       "    </tr>\n",
       "  </thead>\n",
       "  <tbody>\n",
       "    <tr>\n",
       "      <th>0</th>\n",
       "      <td>480</td>\n",
       "      <td>NaN</td>\n",
       "      <td>1993</td>\n",
       "      <td>manual</td>\n",
       "      <td>0</td>\n",
       "      <td>golf</td>\n",
       "      <td>150000</td>\n",
       "      <td>petrol</td>\n",
       "      <td>volkswagen</td>\n",
       "      <td>NaN</td>\n",
       "    </tr>\n",
       "    <tr>\n",
       "      <th>1</th>\n",
       "      <td>18300</td>\n",
       "      <td>coupe</td>\n",
       "      <td>2011</td>\n",
       "      <td>manual</td>\n",
       "      <td>190</td>\n",
       "      <td>NaN</td>\n",
       "      <td>125000</td>\n",
       "      <td>gasoline</td>\n",
       "      <td>audi</td>\n",
       "      <td>yes</td>\n",
       "    </tr>\n",
       "    <tr>\n",
       "      <th>2</th>\n",
       "      <td>9800</td>\n",
       "      <td>suv</td>\n",
       "      <td>2004</td>\n",
       "      <td>auto</td>\n",
       "      <td>163</td>\n",
       "      <td>grand</td>\n",
       "      <td>125000</td>\n",
       "      <td>gasoline</td>\n",
       "      <td>jeep</td>\n",
       "      <td>NaN</td>\n",
       "    </tr>\n",
       "    <tr>\n",
       "      <th>3</th>\n",
       "      <td>1500</td>\n",
       "      <td>small</td>\n",
       "      <td>2001</td>\n",
       "      <td>manual</td>\n",
       "      <td>75</td>\n",
       "      <td>golf</td>\n",
       "      <td>150000</td>\n",
       "      <td>petrol</td>\n",
       "      <td>volkswagen</td>\n",
       "      <td>no</td>\n",
       "    </tr>\n",
       "    <tr>\n",
       "      <th>4</th>\n",
       "      <td>3600</td>\n",
       "      <td>small</td>\n",
       "      <td>2008</td>\n",
       "      <td>manual</td>\n",
       "      <td>69</td>\n",
       "      <td>fabia</td>\n",
       "      <td>90000</td>\n",
       "      <td>gasoline</td>\n",
       "      <td>skoda</td>\n",
       "      <td>no</td>\n",
       "    </tr>\n",
       "  </tbody>\n",
       "</table>\n",
       "</div>"
      ],
      "text/plain": [
       "   Price VehicleType  RegistrationYear Gearbox  Power  Model  Kilometer  \\\n",
       "0    480         NaN              1993  manual      0   golf     150000   \n",
       "1  18300       coupe              2011  manual    190    NaN     125000   \n",
       "2   9800         suv              2004    auto    163  grand     125000   \n",
       "3   1500       small              2001  manual     75   golf     150000   \n",
       "4   3600       small              2008  manual     69  fabia      90000   \n",
       "\n",
       "   FuelType       Brand Repaired  \n",
       "0    petrol  volkswagen      NaN  \n",
       "1  gasoline        audi      yes  \n",
       "2  gasoline        jeep      NaN  \n",
       "3    petrol  volkswagen       no  \n",
       "4  gasoline       skoda       no  "
      ]
     },
     "execution_count": 5,
     "metadata": {},
     "output_type": "execute_result"
    }
   ],
   "source": [
    "# создам новый датафрейм с нужными столбцами для построения моделей\n",
    "df = data.drop(['DateCrawled','RegistrationMonth','DateCreated','NumberOfPictures','PostalCode','LastSeen'],axis=1)\n",
    "df.head()"
   ]
  },
  {
   "cell_type": "code",
   "execution_count": 6,
   "metadata": {},
   "outputs": [
    {
     "name": "stdout",
     "output_type": "stream",
     "text": [
      "<class 'pandas.core.frame.DataFrame'>\n",
      "RangeIndex: 354369 entries, 0 to 354368\n",
      "Data columns (total 10 columns):\n",
      " #   Column            Non-Null Count   Dtype \n",
      "---  ------            --------------   ----- \n",
      " 0   Price             354369 non-null  int64 \n",
      " 1   VehicleType       316879 non-null  object\n",
      " 2   RegistrationYear  354369 non-null  int64 \n",
      " 3   Gearbox           334536 non-null  object\n",
      " 4   Power             354369 non-null  int64 \n",
      " 5   Model             334664 non-null  object\n",
      " 6   Kilometer         354369 non-null  int64 \n",
      " 7   FuelType          321474 non-null  object\n",
      " 8   Brand             354369 non-null  object\n",
      " 9   Repaired          283215 non-null  object\n",
      "dtypes: int64(4), object(6)\n",
      "memory usage: 27.0+ MB\n"
     ]
    }
   ],
   "source": [
    "df.info()\n",
    "# типы данных в столбцах корректные"
   ]
  },
  {
   "cell_type": "code",
   "execution_count": 7,
   "metadata": {
    "scrolled": true
   },
   "outputs": [
    {
     "data": {
      "text/plain": [
       "45040"
      ]
     },
     "execution_count": 7,
     "metadata": {},
     "output_type": "execute_result"
    }
   ],
   "source": [
    "df.duplicated().sum()\n",
    "#45 тысяч общих дубликатов, удалю их"
   ]
  },
  {
   "cell_type": "code",
   "execution_count": 8,
   "metadata": {},
   "outputs": [
    {
     "data": {
      "text/plain": [
       "0"
      ]
     },
     "execution_count": 8,
     "metadata": {},
     "output_type": "execute_result"
    }
   ],
   "source": [
    "df = df.drop_duplicates()\n",
    "df.duplicated().sum()"
   ]
  },
  {
   "cell_type": "code",
   "execution_count": 9,
   "metadata": {
    "scrolled": true
   },
   "outputs": [
    {
     "data": {
      "image/png": "[encoded data removed]",
      "text/plain": [
       "<Figure size 864x648 with 1 Axes>"
      ]
     },
     "metadata": {
      "needs_background": "light"
     },
     "output_type": "display_data"
    }
   ],
   "source": [
    "#теперь посмотрю целевой признак\n",
    "df['Price'].hist(bins=80, figsize=(12,9));"
   ]
  },
  {
   "cell_type": "code",
   "execution_count": 10,
   "metadata": {
    "scrolled": true
   },
   "outputs": [
    {
     "data": {
      "text/html": [
       "<div>\n",
       "<style scoped>\n",
       "    .dataframe tbody tr th:only-of-type {\n",
       "        vertical-align: middle;\n",
       "    }\n",
       "\n",
       "    .dataframe tbody tr th {\n",
       "        vertical-align: top;\n",
       "    }\n",
       "\n",
       "    .dataframe thead th {\n",
       "        text-align: right;\n",
       "    }\n",
       "</style>\n",
       "<table border=\"1\" class=\"dataframe\">\n",
       "  <thead>\n",
       "    <tr style=\"text-align: right;\">\n",
       "      <th></th>\n",
       "      <th>Price</th>\n",
       "      <th>VehicleType</th>\n",
       "      <th>RegistrationYear</th>\n",
       "      <th>Gearbox</th>\n",
       "      <th>Power</th>\n",
       "      <th>Model</th>\n",
       "      <th>Kilometer</th>\n",
       "      <th>FuelType</th>\n",
       "      <th>Brand</th>\n",
       "      <th>Repaired</th>\n",
       "    </tr>\n",
       "  </thead>\n",
       "  <tbody>\n",
       "    <tr>\n",
       "      <th>7</th>\n",
       "      <td>0</td>\n",
       "      <td>sedan</td>\n",
       "      <td>1980</td>\n",
       "      <td>manual</td>\n",
       "      <td>50</td>\n",
       "      <td>other</td>\n",
       "      <td>40000</td>\n",
       "      <td>petrol</td>\n",
       "      <td>volkswagen</td>\n",
       "      <td>no</td>\n",
       "    </tr>\n",
       "    <tr>\n",
       "      <th>40</th>\n",
       "      <td>0</td>\n",
       "      <td>NaN</td>\n",
       "      <td>1990</td>\n",
       "      <td>NaN</td>\n",
       "      <td>0</td>\n",
       "      <td>corsa</td>\n",
       "      <td>150000</td>\n",
       "      <td>petrol</td>\n",
       "      <td>opel</td>\n",
       "      <td>NaN</td>\n",
       "    </tr>\n",
       "    <tr>\n",
       "      <th>111</th>\n",
       "      <td>0</td>\n",
       "      <td>NaN</td>\n",
       "      <td>2017</td>\n",
       "      <td>manual</td>\n",
       "      <td>0</td>\n",
       "      <td>golf</td>\n",
       "      <td>5000</td>\n",
       "      <td>petrol</td>\n",
       "      <td>volkswagen</td>\n",
       "      <td>NaN</td>\n",
       "    </tr>\n",
       "    <tr>\n",
       "      <th>115</th>\n",
       "      <td>0</td>\n",
       "      <td>small</td>\n",
       "      <td>1999</td>\n",
       "      <td>NaN</td>\n",
       "      <td>0</td>\n",
       "      <td>NaN</td>\n",
       "      <td>5000</td>\n",
       "      <td>petrol</td>\n",
       "      <td>volkswagen</td>\n",
       "      <td>NaN</td>\n",
       "    </tr>\n",
       "    <tr>\n",
       "      <th>152</th>\n",
       "      <td>0</td>\n",
       "      <td>bus</td>\n",
       "      <td>2004</td>\n",
       "      <td>manual</td>\n",
       "      <td>101</td>\n",
       "      <td>meriva</td>\n",
       "      <td>150000</td>\n",
       "      <td>lpg</td>\n",
       "      <td>opel</td>\n",
       "      <td>yes</td>\n",
       "    </tr>\n",
       "    <tr>\n",
       "      <th>...</th>\n",
       "      <td>...</td>\n",
       "      <td>...</td>\n",
       "      <td>...</td>\n",
       "      <td>...</td>\n",
       "      <td>...</td>\n",
       "      <td>...</td>\n",
       "      <td>...</td>\n",
       "      <td>...</td>\n",
       "      <td>...</td>\n",
       "      <td>...</td>\n",
       "    </tr>\n",
       "    <tr>\n",
       "      <th>354205</th>\n",
       "      <td>0</td>\n",
       "      <td>NaN</td>\n",
       "      <td>2000</td>\n",
       "      <td>manual</td>\n",
       "      <td>65</td>\n",
       "      <td>corsa</td>\n",
       "      <td>150000</td>\n",
       "      <td>NaN</td>\n",
       "      <td>opel</td>\n",
       "      <td>yes</td>\n",
       "    </tr>\n",
       "    <tr>\n",
       "      <th>354238</th>\n",
       "      <td>0</td>\n",
       "      <td>small</td>\n",
       "      <td>2002</td>\n",
       "      <td>manual</td>\n",
       "      <td>60</td>\n",
       "      <td>fiesta</td>\n",
       "      <td>150000</td>\n",
       "      <td>petrol</td>\n",
       "      <td>ford</td>\n",
       "      <td>NaN</td>\n",
       "    </tr>\n",
       "    <tr>\n",
       "      <th>354248</th>\n",
       "      <td>0</td>\n",
       "      <td>small</td>\n",
       "      <td>1999</td>\n",
       "      <td>manual</td>\n",
       "      <td>53</td>\n",
       "      <td>swift</td>\n",
       "      <td>150000</td>\n",
       "      <td>petrol</td>\n",
       "      <td>suzuki</td>\n",
       "      <td>NaN</td>\n",
       "    </tr>\n",
       "    <tr>\n",
       "      <th>354277</th>\n",
       "      <td>0</td>\n",
       "      <td>small</td>\n",
       "      <td>1999</td>\n",
       "      <td>manual</td>\n",
       "      <td>37</td>\n",
       "      <td>arosa</td>\n",
       "      <td>150000</td>\n",
       "      <td>petrol</td>\n",
       "      <td>seat</td>\n",
       "      <td>yes</td>\n",
       "    </tr>\n",
       "    <tr>\n",
       "      <th>354364</th>\n",
       "      <td>0</td>\n",
       "      <td>NaN</td>\n",
       "      <td>2005</td>\n",
       "      <td>manual</td>\n",
       "      <td>0</td>\n",
       "      <td>colt</td>\n",
       "      <td>150000</td>\n",
       "      <td>petrol</td>\n",
       "      <td>mitsubishi</td>\n",
       "      <td>yes</td>\n",
       "    </tr>\n",
       "  </tbody>\n",
       "</table>\n",
       "<p>8904 rows × 10 columns</p>\n",
       "</div>"
      ],
      "text/plain": [
       "        Price VehicleType  RegistrationYear Gearbox  Power   Model  Kilometer  \\\n",
       "7           0       sedan              1980  manual     50   other      40000   \n",
       "40          0         NaN              1990     NaN      0   corsa     150000   \n",
       "111         0         NaN              2017  manual      0    golf       5000   \n",
       "115         0       small              1999     NaN      0     NaN       5000   \n",
       "152         0         bus              2004  manual    101  meriva     150000   \n",
       "...       ...         ...               ...     ...    ...     ...        ...   \n",
       "354205      0         NaN              2000  manual     65   corsa     150000   \n",
       "354238      0       small              2002  manual     60  fiesta     150000   \n",
       "354248      0       small              1999  manual     53   swift     150000   \n",
       "354277      0       small              1999  manual     37   arosa     150000   \n",
       "354364      0         NaN              2005  manual      0    colt     150000   \n",
       "\n",
       "       FuelType       Brand Repaired  \n",
       "7        petrol  volkswagen       no  \n",
       "40       petrol        opel      NaN  \n",
       "111      petrol  volkswagen      NaN  \n",
       "115      petrol  volkswagen      NaN  \n",
       "152         lpg        opel      yes  \n",
       "...         ...         ...      ...  \n",
       "354205      NaN        opel      yes  \n",
       "354238   petrol        ford      NaN  \n",
       "354248   petrol      suzuki      NaN  \n",
       "354277   petrol        seat      yes  \n",
       "354364   petrol  mitsubishi      yes  \n",
       "\n",
       "[8904 rows x 10 columns]"
      ]
     },
     "execution_count": 10,
     "metadata": {},
     "output_type": "execute_result"
    }
   ],
   "source": [
    "df.query('Price ==0')\n",
    "#почти 9 тысяч строк с нулевой ценой. Их тоже придется удалить"
   ]
  },
  {
   "cell_type": "code",
   "execution_count": 11,
   "metadata": {
    "scrolled": false
   },
   "outputs": [
    {
     "data": {
      "text/html": [
       "<div>\n",
       "<style scoped>\n",
       "    .dataframe tbody tr th:only-of-type {\n",
       "        vertical-align: middle;\n",
       "    }\n",
       "\n",
       "    .dataframe tbody tr th {\n",
       "        vertical-align: top;\n",
       "    }\n",
       "\n",
       "    .dataframe thead th {\n",
       "        text-align: right;\n",
       "    }\n",
       "</style>\n",
       "<table border=\"1\" class=\"dataframe\">\n",
       "  <thead>\n",
       "    <tr style=\"text-align: right;\">\n",
       "      <th></th>\n",
       "      <th>Price</th>\n",
       "      <th>RegistrationYear</th>\n",
       "      <th>Power</th>\n",
       "      <th>Kilometer</th>\n",
       "    </tr>\n",
       "  </thead>\n",
       "  <tbody>\n",
       "    <tr>\n",
       "      <th>count</th>\n",
       "      <td>300425.000000</td>\n",
       "      <td>300425.000000</td>\n",
       "      <td>300425.000000</td>\n",
       "      <td>300425.000000</td>\n",
       "    </tr>\n",
       "    <tr>\n",
       "      <th>mean</th>\n",
       "      <td>4619.921098</td>\n",
       "      <td>2004.244916</td>\n",
       "      <td>111.722247</td>\n",
       "      <td>127307.464425</td>\n",
       "    </tr>\n",
       "    <tr>\n",
       "      <th>std</th>\n",
       "      <td>4565.205287</td>\n",
       "      <td>83.004128</td>\n",
       "      <td>199.047743</td>\n",
       "      <td>38220.756977</td>\n",
       "    </tr>\n",
       "    <tr>\n",
       "      <th>min</th>\n",
       "      <td>1.000000</td>\n",
       "      <td>1000.000000</td>\n",
       "      <td>0.000000</td>\n",
       "      <td>5000.000000</td>\n",
       "    </tr>\n",
       "    <tr>\n",
       "      <th>25%</th>\n",
       "      <td>1200.000000</td>\n",
       "      <td>1999.000000</td>\n",
       "      <td>69.000000</td>\n",
       "      <td>125000.000000</td>\n",
       "    </tr>\n",
       "    <tr>\n",
       "      <th>50%</th>\n",
       "      <td>2900.000000</td>\n",
       "      <td>2003.000000</td>\n",
       "      <td>105.000000</td>\n",
       "      <td>150000.000000</td>\n",
       "    </tr>\n",
       "    <tr>\n",
       "      <th>75%</th>\n",
       "      <td>6650.000000</td>\n",
       "      <td>2008.000000</td>\n",
       "      <td>143.000000</td>\n",
       "      <td>150000.000000</td>\n",
       "    </tr>\n",
       "    <tr>\n",
       "      <th>max</th>\n",
       "      <td>20000.000000</td>\n",
       "      <td>9999.000000</td>\n",
       "      <td>20000.000000</td>\n",
       "      <td>150000.000000</td>\n",
       "    </tr>\n",
       "  </tbody>\n",
       "</table>\n",
       "</div>"
      ],
      "text/plain": [
       "               Price  RegistrationYear          Power      Kilometer\n",
       "count  300425.000000     300425.000000  300425.000000  300425.000000\n",
       "mean     4619.921098       2004.244916     111.722247  127307.464425\n",
       "std      4565.205287         83.004128     199.047743   38220.756977\n",
       "min         1.000000       1000.000000       0.000000    5000.000000\n",
       "25%      1200.000000       1999.000000      69.000000  125000.000000\n",
       "50%      2900.000000       2003.000000     105.000000  150000.000000\n",
       "75%      6650.000000       2008.000000     143.000000  150000.000000\n",
       "max     20000.000000       9999.000000   20000.000000  150000.000000"
      ]
     },
     "execution_count": 11,
     "metadata": {},
     "output_type": "execute_result"
    }
   ],
   "source": [
    "df = df.query('Price !=0')\n",
    "df.describe()"
   ]
  },
  {
   "cell_type": "code",
   "execution_count": 12,
   "metadata": {
    "scrolled": true
   },
   "outputs": [
    {
     "data": {
      "image/png": "[encoded data removed]",
      "text/plain": [
       "<Figure size 432x288 with 1 Axes>"
      ]
     },
     "metadata": {
      "needs_background": "light"
     },
     "output_type": "display_data"
    }
   ],
   "source": [
    "df.query('Price <600').hist('Price');\n",
    "#исходя из логики, машины дешевле 100 евро кажется нереалистичным вариантом. Для целей моделирования уберу эти значения"
   ]
  },
  {
   "cell_type": "code",
   "execution_count": 13,
   "metadata": {},
   "outputs": [
    {
     "name": "stdout",
     "output_type": "stream",
     "text": [
      "<class 'pandas.core.frame.DataFrame'>\n",
      "Int64Index: 297109 entries, 0 to 354368\n",
      "Data columns (total 10 columns):\n",
      " #   Column            Non-Null Count   Dtype \n",
      "---  ------            --------------   ----- \n",
      " 0   Price             297109 non-null  int64 \n",
      " 1   VehicleType       266807 non-null  object\n",
      " 2   RegistrationYear  297109 non-null  int64 \n",
      " 3   Gearbox           282846 non-null  object\n",
      " 4   Power             297109 non-null  int64 \n",
      " 5   Model             280997 non-null  object\n",
      " 6   Kilometer         297109 non-null  int64 \n",
      " 7   FuelType          270363 non-null  object\n",
      " 8   Brand             297109 non-null  object\n",
      " 9   Repaired          238630 non-null  object\n",
      "dtypes: int64(4), object(6)\n",
      "memory usage: 24.9+ MB\n"
     ]
    }
   ],
   "source": [
    "df = df.query('Price >100')\n",
    "df.info()"
   ]
  },
  {
   "cell_type": "markdown",
   "metadata": {},
   "source": [
    "С ценой разобрался. Теперь пройдусь по остальным столбцам:\n",
    "- VehicleType - поищу аналогичные модели и заполню пропуски\n",
    "- Gearbox - аналогичные модели\n",
    "- FuelType - аналогичные модели\n",
    "- Repaired - для всех пропусков установлю значение no\n",
    "- Model - для всех пропусков установилю значение 'unknown'."
   ]
  },
  {
   "cell_type": "code",
   "execution_count": 14,
   "metadata": {
    "scrolled": true
   },
   "outputs": [
    {
     "name": "stdout",
     "output_type": "stream",
     "text": [
      "<class 'pandas.core.frame.DataFrame'>\n",
      "Int64Index: 297109 entries, 0 to 354368\n",
      "Data columns (total 10 columns):\n",
      " #   Column            Non-Null Count   Dtype \n",
      "---  ------            --------------   ----- \n",
      " 0   Price             297109 non-null  int64 \n",
      " 1   VehicleType       292201 non-null  object\n",
      " 2   RegistrationYear  297109 non-null  int64 \n",
      " 3   Gearbox           282846 non-null  object\n",
      " 4   Power             297109 non-null  int64 \n",
      " 5   Model             280997 non-null  object\n",
      " 6   Kilometer         297109 non-null  int64 \n",
      " 7   FuelType          270363 non-null  object\n",
      " 8   Brand             297109 non-null  object\n",
      " 9   Repaired          238630 non-null  object\n",
      "dtypes: int64(4), object(6)\n",
      "memory usage: 24.9+ MB\n"
     ]
    }
   ],
   "source": [
    "#VehicleType\n",
    "#сделаю сводную таблицу, найду популярные типы кузова по каждой модели и заполню пропуски\n",
    "vt_pivot = df.pivot_table(index='Model',columns = 'VehicleType',values='Kilometer',aggfunc='count')\n",
    "type = vt_pivot.idxmax(axis=1)\n",
    "mapped_types = df['Model'].map(type)\n",
    "df['VehicleType'] = df['VehicleType'].fillna(mapped_types)\n",
    "df.info()"
   ]
  },
  {
   "cell_type": "code",
   "execution_count": 15,
   "metadata": {
    "scrolled": true
   },
   "outputs": [
    {
     "name": "stdout",
     "output_type": "stream",
     "text": [
      "<class 'pandas.core.frame.DataFrame'>\n",
      "Int64Index: 297109 entries, 0 to 354368\n",
      "Data columns (total 10 columns):\n",
      " #   Column            Non-Null Count   Dtype \n",
      "---  ------            --------------   ----- \n",
      " 0   Price             297109 non-null  int64 \n",
      " 1   VehicleType       292201 non-null  object\n",
      " 2   RegistrationYear  297109 non-null  int64 \n",
      " 3   Gearbox           294587 non-null  object\n",
      " 4   Power             297109 non-null  int64 \n",
      " 5   Model             280997 non-null  object\n",
      " 6   Kilometer         297109 non-null  int64 \n",
      " 7   FuelType          270363 non-null  object\n",
      " 8   Brand             297109 non-null  object\n",
      " 9   Repaired          238630 non-null  object\n",
      "dtypes: int64(4), object(6)\n",
      "memory usage: 24.9+ MB\n"
     ]
    }
   ],
   "source": [
    "#Gearbox\n",
    "gb_pivot = df.pivot_table(index='Model',columns = 'Gearbox',values='Kilometer',aggfunc='count')\n",
    "gearbox = vt_pivot.idxmax(axis=1)\n",
    "mapped_gearbox = df['Model'].map(gearbox)\n",
    "df['Gearbox'] = df['Gearbox'].fillna(mapped_gearbox)\n",
    "df.info()"
   ]
  },
  {
   "cell_type": "code",
   "execution_count": 16,
   "metadata": {},
   "outputs": [
    {
     "name": "stdout",
     "output_type": "stream",
     "text": [
      "<class 'pandas.core.frame.DataFrame'>\n",
      "Int64Index: 297109 entries, 0 to 354368\n",
      "Data columns (total 10 columns):\n",
      " #   Column            Non-Null Count   Dtype \n",
      "---  ------            --------------   ----- \n",
      " 0   Price             297109 non-null  int64 \n",
      " 1   VehicleType       292201 non-null  object\n",
      " 2   RegistrationYear  297109 non-null  int64 \n",
      " 3   Gearbox           294587 non-null  object\n",
      " 4   Power             297109 non-null  int64 \n",
      " 5   Model             280997 non-null  object\n",
      " 6   Kilometer         297109 non-null  int64 \n",
      " 7   FuelType          291898 non-null  object\n",
      " 8   Brand             297109 non-null  object\n",
      " 9   Repaired          238630 non-null  object\n",
      "dtypes: int64(4), object(6)\n",
      "memory usage: 24.9+ MB\n"
     ]
    }
   ],
   "source": [
    "#FuelType\n",
    "ft_pivot = df.pivot_table(index='Model',columns = 'FuelType',values='Kilometer',aggfunc='count')\n",
    "FuelType = vt_pivot.idxmax(axis=1)\n",
    "mapped_fueltype = df['Model'].map(FuelType)\n",
    "df['FuelType'] = df['FuelType'].fillna(mapped_fueltype)\n",
    "df.info()"
   ]
  },
  {
   "cell_type": "code",
   "execution_count": 17,
   "metadata": {
    "scrolled": true
   },
   "outputs": [
    {
     "name": "stdout",
     "output_type": "stream",
     "text": [
      "<class 'pandas.core.frame.DataFrame'>\n",
      "Int64Index: 297109 entries, 0 to 354368\n",
      "Data columns (total 10 columns):\n",
      " #   Column            Non-Null Count   Dtype \n",
      "---  ------            --------------   ----- \n",
      " 0   Price             297109 non-null  int64 \n",
      " 1   VehicleType       292201 non-null  object\n",
      " 2   RegistrationYear  297109 non-null  int64 \n",
      " 3   Gearbox           294587 non-null  object\n",
      " 4   Power             297109 non-null  int64 \n",
      " 5   Model             280997 non-null  object\n",
      " 6   Kilometer         297109 non-null  int64 \n",
      " 7   FuelType          291898 non-null  object\n",
      " 8   Brand             297109 non-null  object\n",
      " 9   Repaired          297109 non-null  object\n",
      "dtypes: int64(4), object(6)\n",
      "memory usage: 24.9+ MB\n"
     ]
    }
   ],
   "source": [
    "#Repaired\n",
    "df['Repaired'] = df['Repaired'].fillna('no')\n",
    "df.info()"
   ]
  },
  {
   "cell_type": "code",
   "execution_count": 18,
   "metadata": {
    "scrolled": true
   },
   "outputs": [
    {
     "name": "stdout",
     "output_type": "stream",
     "text": [
      "<class 'pandas.core.frame.DataFrame'>\n",
      "Int64Index: 297109 entries, 0 to 354368\n",
      "Data columns (total 10 columns):\n",
      " #   Column            Non-Null Count   Dtype \n",
      "---  ------            --------------   ----- \n",
      " 0   Price             297109 non-null  int64 \n",
      " 1   VehicleType       292201 non-null  object\n",
      " 2   RegistrationYear  297109 non-null  int64 \n",
      " 3   Gearbox           294587 non-null  object\n",
      " 4   Power             297109 non-null  int64 \n",
      " 5   Model             297109 non-null  object\n",
      " 6   Kilometer         297109 non-null  int64 \n",
      " 7   FuelType          291898 non-null  object\n",
      " 8   Brand             297109 non-null  object\n",
      " 9   Repaired          297109 non-null  object\n",
      "dtypes: int64(4), object(6)\n",
      "memory usage: 24.9+ MB\n"
     ]
    }
   ],
   "source": [
    "#Model\n",
    "df['Model'] = df['Model'].fillna('unknown')\n",
    "df.info()"
   ]
  },
  {
   "cell_type": "code",
   "execution_count": 19,
   "metadata": {
    "scrolled": true
   },
   "outputs": [
    {
     "name": "stdout",
     "output_type": "stream",
     "text": [
      "<class 'pandas.core.frame.DataFrame'>\n",
      "Int64Index: 289330 entries, 0 to 354368\n",
      "Data columns (total 10 columns):\n",
      " #   Column            Non-Null Count   Dtype \n",
      "---  ------            --------------   ----- \n",
      " 0   Price             289330 non-null  int64 \n",
      " 1   VehicleType       289330 non-null  object\n",
      " 2   RegistrationYear  289330 non-null  int64 \n",
      " 3   Gearbox           289330 non-null  object\n",
      " 4   Power             289330 non-null  int64 \n",
      " 5   Model             289330 non-null  object\n",
      " 6   Kilometer         289330 non-null  int64 \n",
      " 7   FuelType          289330 non-null  object\n",
      " 8   Brand             289330 non-null  object\n",
      " 9   Repaired          289330 non-null  object\n",
      "dtypes: int64(4), object(6)\n",
      "memory usage: 24.3+ MB\n"
     ]
    }
   ],
   "source": [
    "#все значения заполнить не удалось, оставшиеся пропуски придется просто удалить\n",
    "df = df.dropna()\n",
    "df.info()"
   ]
  },
  {
   "cell_type": "code",
   "execution_count": 20,
   "metadata": {
    "scrolled": true
   },
   "outputs": [
    {
     "data": {
      "text/html": [
       "<div>\n",
       "<style scoped>\n",
       "    .dataframe tbody tr th:only-of-type {\n",
       "        vertical-align: middle;\n",
       "    }\n",
       "\n",
       "    .dataframe tbody tr th {\n",
       "        vertical-align: top;\n",
       "    }\n",
       "\n",
       "    .dataframe thead th {\n",
       "        text-align: right;\n",
       "    }\n",
       "</style>\n",
       "<table border=\"1\" class=\"dataframe\">\n",
       "  <thead>\n",
       "    <tr style=\"text-align: right;\">\n",
       "      <th></th>\n",
       "      <th>Price</th>\n",
       "      <th>RegistrationYear</th>\n",
       "      <th>Power</th>\n",
       "      <th>Kilometer</th>\n",
       "    </tr>\n",
       "  </thead>\n",
       "  <tbody>\n",
       "    <tr>\n",
       "      <th>count</th>\n",
       "      <td>289330.000000</td>\n",
       "      <td>289330.000000</td>\n",
       "      <td>289330.000000</td>\n",
       "      <td>289330.000000</td>\n",
       "    </tr>\n",
       "    <tr>\n",
       "      <th>mean</th>\n",
       "      <td>4721.915073</td>\n",
       "      <td>2003.771071</td>\n",
       "      <td>113.382335</td>\n",
       "      <td>127559.361283</td>\n",
       "    </tr>\n",
       "    <tr>\n",
       "      <th>std</th>\n",
       "      <td>4580.191970</td>\n",
       "      <td>58.238646</td>\n",
       "      <td>199.907704</td>\n",
       "      <td>37638.744802</td>\n",
       "    </tr>\n",
       "    <tr>\n",
       "      <th>min</th>\n",
       "      <td>101.000000</td>\n",
       "      <td>1000.000000</td>\n",
       "      <td>0.000000</td>\n",
       "      <td>5000.000000</td>\n",
       "    </tr>\n",
       "    <tr>\n",
       "      <th>25%</th>\n",
       "      <td>1250.000000</td>\n",
       "      <td>1999.000000</td>\n",
       "      <td>73.000000</td>\n",
       "      <td>125000.000000</td>\n",
       "    </tr>\n",
       "    <tr>\n",
       "      <th>50%</th>\n",
       "      <td>2999.000000</td>\n",
       "      <td>2003.000000</td>\n",
       "      <td>105.000000</td>\n",
       "      <td>150000.000000</td>\n",
       "    </tr>\n",
       "    <tr>\n",
       "      <th>75%</th>\n",
       "      <td>6800.000000</td>\n",
       "      <td>2008.000000</td>\n",
       "      <td>143.000000</td>\n",
       "      <td>150000.000000</td>\n",
       "    </tr>\n",
       "    <tr>\n",
       "      <th>max</th>\n",
       "      <td>20000.000000</td>\n",
       "      <td>9999.000000</td>\n",
       "      <td>20000.000000</td>\n",
       "      <td>150000.000000</td>\n",
       "    </tr>\n",
       "  </tbody>\n",
       "</table>\n",
       "</div>"
      ],
      "text/plain": [
       "               Price  RegistrationYear          Power      Kilometer\n",
       "count  289330.000000     289330.000000  289330.000000  289330.000000\n",
       "mean     4721.915073       2003.771071     113.382335  127559.361283\n",
       "std      4580.191970         58.238646     199.907704   37638.744802\n",
       "min       101.000000       1000.000000       0.000000    5000.000000\n",
       "25%      1250.000000       1999.000000      73.000000  125000.000000\n",
       "50%      2999.000000       2003.000000     105.000000  150000.000000\n",
       "75%      6800.000000       2008.000000     143.000000  150000.000000\n",
       "max     20000.000000       9999.000000   20000.000000  150000.000000"
      ]
     },
     "execution_count": 20,
     "metadata": {},
     "output_type": "execute_result"
    }
   ],
   "source": [
    "df.describe()"
   ]
  },
  {
   "cell_type": "code",
   "execution_count": 21,
   "metadata": {
    "scrolled": true
   },
   "outputs": [
    {
     "data": {
      "image/png": "[encoded data removed]",
      "text/plain": [
       "<Figure size 720x720 with 1 Axes>"
      ]
     },
     "metadata": {
      "needs_background": "light"
     },
     "output_type": "display_data"
    }
   ],
   "source": [
    "#посмотрю данные по году - там минимальное значение 1000\n",
    "df['RegistrationYear'].hist(bins=100,figsize=(10,10));"
   ]
  },
  {
   "cell_type": "code",
   "execution_count": 22,
   "metadata": {},
   "outputs": [
    {
     "data": {
      "text/plain": [
       "<AxesSubplot:>"
      ]
     },
     "metadata": {},
     "output_type": "display_data"
    },
    {
     "data": {
      "image/png": "[encoded data removed]",
      "text/plain": [
       "<Figure size 432x288 with 1 Axes>"
      ]
     },
     "metadata": {
      "needs_background": "light"
     },
     "output_type": "display_data"
    }
   ],
   "source": [
    "display(df.boxplot('RegistrationYear'))"
   ]
  },
  {
   "cell_type": "code",
   "execution_count": 23,
   "metadata": {
    "scrolled": true
   },
   "outputs": [
    {
     "data": {
      "text/html": [
       "<div>\n",
       "<style scoped>\n",
       "    .dataframe tbody tr th:only-of-type {\n",
       "        vertical-align: middle;\n",
       "    }\n",
       "\n",
       "    .dataframe tbody tr th {\n",
       "        vertical-align: top;\n",
       "    }\n",
       "\n",
       "    .dataframe thead th {\n",
       "        text-align: right;\n",
       "    }\n",
       "</style>\n",
       "<table border=\"1\" class=\"dataframe\">\n",
       "  <thead>\n",
       "    <tr style=\"text-align: right;\">\n",
       "      <th></th>\n",
       "      <th>Price</th>\n",
       "      <th>RegistrationYear</th>\n",
       "      <th>Power</th>\n",
       "      <th>Kilometer</th>\n",
       "    </tr>\n",
       "  </thead>\n",
       "  <tbody>\n",
       "    <tr>\n",
       "      <th>count</th>\n",
       "      <td>286204.000000</td>\n",
       "      <td>286204.000000</td>\n",
       "      <td>286204.000000</td>\n",
       "      <td>286204.000000</td>\n",
       "    </tr>\n",
       "    <tr>\n",
       "      <th>mean</th>\n",
       "      <td>4692.203268</td>\n",
       "      <td>2003.581956</td>\n",
       "      <td>113.724385</td>\n",
       "      <td>127996.289360</td>\n",
       "    </tr>\n",
       "    <tr>\n",
       "      <th>std</th>\n",
       "      <td>4561.121871</td>\n",
       "      <td>6.491594</td>\n",
       "      <td>198.488167</td>\n",
       "      <td>37217.697084</td>\n",
       "    </tr>\n",
       "    <tr>\n",
       "      <th>min</th>\n",
       "      <td>101.000000</td>\n",
       "      <td>1981.000000</td>\n",
       "      <td>0.000000</td>\n",
       "      <td>5000.000000</td>\n",
       "    </tr>\n",
       "    <tr>\n",
       "      <th>25%</th>\n",
       "      <td>1250.000000</td>\n",
       "      <td>1999.000000</td>\n",
       "      <td>75.000000</td>\n",
       "      <td>125000.000000</td>\n",
       "    </tr>\n",
       "    <tr>\n",
       "      <th>50%</th>\n",
       "      <td>2999.000000</td>\n",
       "      <td>2003.000000</td>\n",
       "      <td>105.000000</td>\n",
       "      <td>150000.000000</td>\n",
       "    </tr>\n",
       "    <tr>\n",
       "      <th>75%</th>\n",
       "      <td>6790.000000</td>\n",
       "      <td>2008.000000</td>\n",
       "      <td>143.000000</td>\n",
       "      <td>150000.000000</td>\n",
       "    </tr>\n",
       "    <tr>\n",
       "      <th>max</th>\n",
       "      <td>20000.000000</td>\n",
       "      <td>2019.000000</td>\n",
       "      <td>20000.000000</td>\n",
       "      <td>150000.000000</td>\n",
       "    </tr>\n",
       "  </tbody>\n",
       "</table>\n",
       "</div>"
      ],
      "text/plain": [
       "               Price  RegistrationYear          Power      Kilometer\n",
       "count  286204.000000     286204.000000  286204.000000  286204.000000\n",
       "mean     4692.203268       2003.581956     113.724385  127996.289360\n",
       "std      4561.121871          6.491594     198.488167   37217.697084\n",
       "min       101.000000       1981.000000       0.000000    5000.000000\n",
       "25%      1250.000000       1999.000000      75.000000  125000.000000\n",
       "50%      2999.000000       2003.000000     105.000000  150000.000000\n",
       "75%      6790.000000       2008.000000     143.000000  150000.000000\n",
       "max     20000.000000       2019.000000   20000.000000  150000.000000"
      ]
     },
     "execution_count": 23,
     "metadata": {},
     "output_type": "execute_result"
    }
   ],
   "source": [
    "#ящик с усами показывает, что много выбросов. Оставлю \"период\" с 1980 по 2024 год\n",
    "df = df.query('1980 < RegistrationYear <2024')\n",
    "df.describe()"
   ]
  },
  {
   "cell_type": "code",
   "execution_count": 24,
   "metadata": {
    "scrolled": true
   },
   "outputs": [
    {
     "data": {
      "text/plain": [
       "<AxesSubplot:>"
      ]
     },
     "execution_count": 24,
     "metadata": {},
     "output_type": "execute_result"
    },
    {
     "data": {
      "image/png": "[encoded data removed]",
      "text/plain": [
       "<Figure size 432x288 with 1 Axes>"
      ]
     },
     "metadata": {
      "needs_background": "light"
     },
     "output_type": "display_data"
    }
   ],
   "source": [
    "#теперь посмотрю нулевые знаения по мощности двигателей\n",
    "df.boxplot('Power')"
   ]
  },
  {
   "cell_type": "code",
   "execution_count": 25,
   "metadata": {
    "scrolled": false
   },
   "outputs": [
    {
     "data": {
      "text/html": [
       "<div>\n",
       "<style scoped>\n",
       "    .dataframe tbody tr th:only-of-type {\n",
       "        vertical-align: middle;\n",
       "    }\n",
       "\n",
       "    .dataframe tbody tr th {\n",
       "        vertical-align: top;\n",
       "    }\n",
       "\n",
       "    .dataframe thead th {\n",
       "        text-align: right;\n",
       "    }\n",
       "</style>\n",
       "<table border=\"1\" class=\"dataframe\">\n",
       "  <thead>\n",
       "    <tr style=\"text-align: right;\">\n",
       "      <th></th>\n",
       "      <th>Price</th>\n",
       "      <th>RegistrationYear</th>\n",
       "      <th>Power</th>\n",
       "      <th>Kilometer</th>\n",
       "    </tr>\n",
       "  </thead>\n",
       "  <tbody>\n",
       "    <tr>\n",
       "      <th>count</th>\n",
       "      <td>258323.000000</td>\n",
       "      <td>258323.000000</td>\n",
       "      <td>258323.000000</td>\n",
       "      <td>258323.000000</td>\n",
       "    </tr>\n",
       "    <tr>\n",
       "      <th>mean</th>\n",
       "      <td>4926.545755</td>\n",
       "      <td>2003.628086</td>\n",
       "      <td>121.368484</td>\n",
       "      <td>127637.008706</td>\n",
       "    </tr>\n",
       "    <tr>\n",
       "      <th>std</th>\n",
       "      <td>4625.459898</td>\n",
       "      <td>6.339382</td>\n",
       "      <td>53.233871</td>\n",
       "      <td>37056.149137</td>\n",
       "    </tr>\n",
       "    <tr>\n",
       "      <th>min</th>\n",
       "      <td>101.000000</td>\n",
       "      <td>1981.000000</td>\n",
       "      <td>1.000000</td>\n",
       "      <td>5000.000000</td>\n",
       "    </tr>\n",
       "    <tr>\n",
       "      <th>25%</th>\n",
       "      <td>1400.000000</td>\n",
       "      <td>1999.000000</td>\n",
       "      <td>80.000000</td>\n",
       "      <td>125000.000000</td>\n",
       "    </tr>\n",
       "    <tr>\n",
       "      <th>50%</th>\n",
       "      <td>3290.000000</td>\n",
       "      <td>2004.000000</td>\n",
       "      <td>114.000000</td>\n",
       "      <td>150000.000000</td>\n",
       "    </tr>\n",
       "    <tr>\n",
       "      <th>75%</th>\n",
       "      <td>7000.000000</td>\n",
       "      <td>2008.000000</td>\n",
       "      <td>150.000000</td>\n",
       "      <td>150000.000000</td>\n",
       "    </tr>\n",
       "    <tr>\n",
       "      <th>max</th>\n",
       "      <td>20000.000000</td>\n",
       "      <td>2019.000000</td>\n",
       "      <td>490.000000</td>\n",
       "      <td>150000.000000</td>\n",
       "    </tr>\n",
       "  </tbody>\n",
       "</table>\n",
       "</div>"
      ],
      "text/plain": [
       "               Price  RegistrationYear          Power      Kilometer\n",
       "count  258323.000000     258323.000000  258323.000000  258323.000000\n",
       "mean     4926.545755       2003.628086     121.368484  127637.008706\n",
       "std      4625.459898          6.339382      53.233871   37056.149137\n",
       "min       101.000000       1981.000000       1.000000    5000.000000\n",
       "25%      1400.000000       1999.000000      80.000000  125000.000000\n",
       "50%      3290.000000       2004.000000     114.000000  150000.000000\n",
       "75%      7000.000000       2008.000000     150.000000  150000.000000\n",
       "max     20000.000000       2019.000000     490.000000  150000.000000"
      ]
     },
     "execution_count": 25,
     "metadata": {},
     "output_type": "execute_result"
    }
   ],
   "source": [
    "#опять много выбросов. Оставлю интервал (0,500)\n",
    "df = df.query('0<Power<500')\n",
    "df.describe()"
   ]
  },
  {
   "cell_type": "markdown",
   "metadata": {},
   "source": [
    "**Вывод**\n",
    "\n",
    "Данные обработаны. Я убрал аномалии, заполнил пропуски, где это было возможно.\n",
    "\n",
    "Оставил необходимые для обучения модели столбцы, убрал лишние."
   ]
  },
  {
   "cell_type": "markdown",
   "metadata": {},
   "source": [
    "## Обучение моделей"
   ]
  },
  {
   "cell_type": "code",
   "execution_count": 26,
   "metadata": {
    "scrolled": true
   },
   "outputs": [
    {
     "data": {
      "text/html": [
       "<div>\n",
       "<style scoped>\n",
       "    .dataframe tbody tr th:only-of-type {\n",
       "        vertical-align: middle;\n",
       "    }\n",
       "\n",
       "    .dataframe tbody tr th {\n",
       "        vertical-align: top;\n",
       "    }\n",
       "\n",
       "    .dataframe thead th {\n",
       "        text-align: right;\n",
       "    }\n",
       "</style>\n",
       "<table border=\"1\" class=\"dataframe\">\n",
       "  <thead>\n",
       "    <tr style=\"text-align: right;\">\n",
       "      <th></th>\n",
       "      <th>VehicleType</th>\n",
       "      <th>Gearbox</th>\n",
       "      <th>Model</th>\n",
       "      <th>FuelType</th>\n",
       "      <th>Brand</th>\n",
       "      <th>Repaired</th>\n",
       "      <th>index</th>\n",
       "      <th>RegistrationYear</th>\n",
       "      <th>Power</th>\n",
       "      <th>Kilometer</th>\n",
       "    </tr>\n",
       "  </thead>\n",
       "  <tbody>\n",
       "    <tr>\n",
       "      <th>0</th>\n",
       "      <td>2.0</td>\n",
       "      <td>4.0</td>\n",
       "      <td>74.0</td>\n",
       "      <td>9.0</td>\n",
       "      <td>20.0</td>\n",
       "      <td>0.0</td>\n",
       "      <td>9676</td>\n",
       "      <td>2002</td>\n",
       "      <td>163</td>\n",
       "      <td>150000</td>\n",
       "    </tr>\n",
       "    <tr>\n",
       "      <th>1</th>\n",
       "      <td>4.0</td>\n",
       "      <td>4.0</td>\n",
       "      <td>116.0</td>\n",
       "      <td>9.0</td>\n",
       "      <td>38.0</td>\n",
       "      <td>0.0</td>\n",
       "      <td>206634</td>\n",
       "      <td>1998</td>\n",
       "      <td>90</td>\n",
       "      <td>150000</td>\n",
       "    </tr>\n",
       "    <tr>\n",
       "      <th>2</th>\n",
       "      <td>0.0</td>\n",
       "      <td>4.0</td>\n",
       "      <td>166.0</td>\n",
       "      <td>5.0</td>\n",
       "      <td>27.0</td>\n",
       "      <td>0.0</td>\n",
       "      <td>335718</td>\n",
       "      <td>2006</td>\n",
       "      <td>101</td>\n",
       "      <td>150000</td>\n",
       "    </tr>\n",
       "    <tr>\n",
       "      <th>3</th>\n",
       "      <td>7.0</td>\n",
       "      <td>4.0</td>\n",
       "      <td>29.0</td>\n",
       "      <td>5.0</td>\n",
       "      <td>1.0</td>\n",
       "      <td>0.0</td>\n",
       "      <td>310383</td>\n",
       "      <td>2006</td>\n",
       "      <td>140</td>\n",
       "      <td>150000</td>\n",
       "    </tr>\n",
       "    <tr>\n",
       "      <th>4</th>\n",
       "      <td>7.0</td>\n",
       "      <td>4.0</td>\n",
       "      <td>44.0</td>\n",
       "      <td>5.0</td>\n",
       "      <td>36.0</td>\n",
       "      <td>0.0</td>\n",
       "      <td>26754</td>\n",
       "      <td>2012</td>\n",
       "      <td>124</td>\n",
       "      <td>70000</td>\n",
       "    </tr>\n",
       "    <tr>\n",
       "      <th>...</th>\n",
       "      <td>...</td>\n",
       "      <td>...</td>\n",
       "      <td>...</td>\n",
       "      <td>...</td>\n",
       "      <td>...</td>\n",
       "      <td>...</td>\n",
       "      <td>...</td>\n",
       "      <td>...</td>\n",
       "      <td>...</td>\n",
       "      <td>...</td>\n",
       "    </tr>\n",
       "    <tr>\n",
       "      <th>64576</th>\n",
       "      <td>4.0</td>\n",
       "      <td>4.0</td>\n",
       "      <td>42.0</td>\n",
       "      <td>9.0</td>\n",
       "      <td>24.0</td>\n",
       "      <td>0.0</td>\n",
       "      <td>34746</td>\n",
       "      <td>1999</td>\n",
       "      <td>75</td>\n",
       "      <td>125000</td>\n",
       "    </tr>\n",
       "    <tr>\n",
       "      <th>64577</th>\n",
       "      <td>5.0</td>\n",
       "      <td>4.0</td>\n",
       "      <td>8.0</td>\n",
       "      <td>9.0</td>\n",
       "      <td>25.0</td>\n",
       "      <td>0.0</td>\n",
       "      <td>73559</td>\n",
       "      <td>2010</td>\n",
       "      <td>75</td>\n",
       "      <td>100000</td>\n",
       "    </tr>\n",
       "    <tr>\n",
       "      <th>64578</th>\n",
       "      <td>0.0</td>\n",
       "      <td>0.0</td>\n",
       "      <td>220.0</td>\n",
       "      <td>9.0</td>\n",
       "      <td>38.0</td>\n",
       "      <td>0.0</td>\n",
       "      <td>258170</td>\n",
       "      <td>2005</td>\n",
       "      <td>115</td>\n",
       "      <td>125000</td>\n",
       "    </tr>\n",
       "    <tr>\n",
       "      <th>64579</th>\n",
       "      <td>7.0</td>\n",
       "      <td>4.0</td>\n",
       "      <td>228.0</td>\n",
       "      <td>5.0</td>\n",
       "      <td>39.0</td>\n",
       "      <td>0.0</td>\n",
       "      <td>213855</td>\n",
       "      <td>2002</td>\n",
       "      <td>116</td>\n",
       "      <td>150000</td>\n",
       "    </tr>\n",
       "    <tr>\n",
       "      <th>64580</th>\n",
       "      <td>6.0</td>\n",
       "      <td>4.0</td>\n",
       "      <td>84.0</td>\n",
       "      <td>5.0</td>\n",
       "      <td>11.0</td>\n",
       "      <td>0.0</td>\n",
       "      <td>299334</td>\n",
       "      <td>2007</td>\n",
       "      <td>140</td>\n",
       "      <td>150000</td>\n",
       "    </tr>\n",
       "  </tbody>\n",
       "</table>\n",
       "<p>64581 rows × 10 columns</p>\n",
       "</div>"
      ],
      "text/plain": [
       "       VehicleType  Gearbox  Model  FuelType  Brand  Repaired   index  \\\n",
       "0              2.0      4.0   74.0       9.0   20.0       0.0    9676   \n",
       "1              4.0      4.0  116.0       9.0   38.0       0.0  206634   \n",
       "2              0.0      4.0  166.0       5.0   27.0       0.0  335718   \n",
       "3              7.0      4.0   29.0       5.0    1.0       0.0  310383   \n",
       "4              7.0      4.0   44.0       5.0   36.0       0.0   26754   \n",
       "...            ...      ...    ...       ...    ...       ...     ...   \n",
       "64576          4.0      4.0   42.0       9.0   24.0       0.0   34746   \n",
       "64577          5.0      4.0    8.0       9.0   25.0       0.0   73559   \n",
       "64578          0.0      0.0  220.0       9.0   38.0       0.0  258170   \n",
       "64579          7.0      4.0  228.0       5.0   39.0       0.0  213855   \n",
       "64580          6.0      4.0   84.0       5.0   11.0       0.0  299334   \n",
       "\n",
       "       RegistrationYear  Power  Kilometer  \n",
       "0                  2002    163     150000  \n",
       "1                  1998     90     150000  \n",
       "2                  2006    101     150000  \n",
       "3                  2006    140     150000  \n",
       "4                  2012    124      70000  \n",
       "...                 ...    ...        ...  \n",
       "64576              1999     75     125000  \n",
       "64577              2010     75     100000  \n",
       "64578              2005    115     125000  \n",
       "64579              2002    116     150000  \n",
       "64580              2007    140     150000  \n",
       "\n",
       "[64581 rows x 10 columns]"
      ]
     },
     "execution_count": 26,
     "metadata": {},
     "output_type": "execute_result"
    }
   ],
   "source": [
    "RANDOM_STATE = 42\n",
    "TEST_SIZE = 0.25\n",
    "\n",
    "cat_columns = ['VehicleType','Gearbox','Model','FuelType','Brand','Repaired']\n",
    "num_columns = ['RegistrationYear','Power','Kilometer']\n",
    "\n",
    "# Делаю разбивку на тренировочные и тестовые выборки\n",
    "X_train, X_test, y_train, y_test = train_test_split(\n",
    "    df.drop(['Price'], axis=1),\n",
    "    df['Price'],\n",
    "    test_size = TEST_SIZE, \n",
    "    random_state = RANDOM_STATE,\n",
    "    )\n",
    "\n",
    "# Кодирование категориальных признаков для линейной регрессии - OneHotEncoder\n",
    "encoder = OneHotEncoder(drop='first',sparse=False)\n",
    "X_train_ohe = encoder.fit_transform(X_train[cat_columns])\n",
    "X_test_ohe = encoder.transform(X_test[cat_columns])\n",
    "\n",
    "encoder_col_names = encoder.get_feature_names()\n",
    "\n",
    "X_train_ohe = pd.DataFrame(X_train_ohe, columns=encoder_col_names)\n",
    "X_test_ohe = pd.DataFrame(X_test_ohe, columns=encoder_col_names)\n",
    "X_train_num = X_train[num_columns].reset_index()\n",
    "X_test_num = X_test[num_columns].reset_index()\n",
    "\n",
    "X_train_lr = pd.concat([X_train_ohe, X_train_num], axis=1)\n",
    "X_test_lr = pd.concat([X_test_ohe, X_test_num], axis=1)\n",
    "# X_train_lr\n",
    "# X_test_lr\n",
    "\n",
    "# Кодирование категориальных признаков для остальных моделей - OrdinalEncoder\n",
    "encoder = OrdinalEncoder(handle_unknown='use_encoded_value',unknown_value=np.nan)\n",
    "X_train_oe = encoder.fit_transform(X_train[cat_columns])\n",
    "X_test_oe = encoder.transform(X_test[cat_columns])\n",
    "\n",
    "\n",
    "encoder_col_names = cat_columns\n",
    "\n",
    "X_train_oe = pd.DataFrame(X_train_oe, columns=encoder_col_names)\n",
    "X_test_oe = pd.DataFrame(X_test_oe, columns=encoder_col_names)\n",
    "X_train_num = X_train[num_columns].reset_index()\n",
    "X_test_num = X_test[num_columns].reset_index()\n",
    "\n",
    "X_train = pd.concat([X_train_oe, X_train_num], axis=1)\n",
    "X_test = pd.concat([X_test_oe, X_test_num], axis=1)\n",
    "\n",
    "# X_train\n",
    "X_test"
   ]
  },
  {
   "cell_type": "markdown",
   "metadata": {},
   "source": [
    "Выборки подготовлены, разбиты на тренировочную и тестовую, категориальные признаки закодированы. Теперь перейду к обучению моделей. Так же создам фунцию для оценки метрики RMSE."
   ]
  },
  {
   "cell_type": "code",
   "execution_count": 27,
   "metadata": {},
   "outputs": [],
   "source": [
    "# Создаю функцию для RMSE\n",
    "def rmse(y_true, y_pred):\n",
    "    return np.sqrt(mean_squared_error(y_true, y_pred))\n",
    "\n",
    "# Создам объект-скорер для RMSE\n",
    "scorer = make_scorer(rmse, greater_is_better=False)"
   ]
  },
  {
   "cell_type": "markdown",
   "metadata": {},
   "source": [
    "**Линейная регрессия**"
   ]
  },
  {
   "cell_type": "code",
   "execution_count": 28,
   "metadata": {},
   "outputs": [
    {
     "name": "stdout",
     "output_type": "stream",
     "text": [
      "Лучшие параметры:\n",
      "{}\n",
      "\n",
      "Лучшее RMSE: 2581.4431277401986\n",
      "\n",
      "Среднее время обучения (сек): [15.45257874]\n",
      "Среднее время предсказания (сек): [0.16888208]\n",
      "CPU times: user 1min 15s, sys: 25.3 s, total: 1min 40s\n",
      "Wall time: 1min 40s\n"
     ]
    }
   ],
   "source": [
    "%%time\n",
    "\n",
    "# Создаем регрессор\n",
    "regressor = LinearRegression()\n",
    "\n",
    "# Определяем гиперпараметры для поиска\n",
    "hyperparams = {}\n",
    "\n",
    "# Создаем GridSearchCV\n",
    "clf = GridSearchCV(regressor, hyperparams, scoring=scorer, return_train_score=True)\n",
    "\n",
    "# Обучаем модель и выполняем кросс-валидацию\n",
    "clf.fit(X_train_lr, y_train)\n",
    "\n",
    "# Извлекаем результаты из cv_results_\n",
    "results = clf.cv_results_\n",
    "\n",
    "# Извлекаем лучшие параметры и RMSE\n",
    "best_params = clf.best_params_\n",
    "best_rmse_LR = -clf.best_score_\n",
    "\n",
    "# Извлекаем время обучения и предсказания из cv_results_\n",
    "mean_fit_time_LR = results['mean_fit_time']\n",
    "mean_score_time_LR = results['mean_score_time']\n",
    "\n",
    "# Выводим результаты\n",
    "print(\"Лучшие параметры:\")\n",
    "print(best_params)\n",
    "print()\n",
    "print(\"Лучшее RMSE:\", best_rmse_LR)\n",
    "print()\n",
    "print(\"Среднее время обучения (сек):\", mean_fit_time_LR)\n",
    "print(\"Среднее время предсказания (сек):\", mean_score_time_LR)"
   ]
  },
  {
   "cell_type": "markdown",
   "metadata": {},
   "source": [
    "**DecissionTree регрессия**"
   ]
  },
  {
   "cell_type": "code",
   "execution_count": 29,
   "metadata": {},
   "outputs": [
    {
     "name": "stdout",
     "output_type": "stream",
     "text": [
      "Лучшие параметры:\n",
      "{'criterion': 'mse', 'max_depth': 9, 'random_state': 42}\n",
      "\n",
      "Лучшее RMSE: 2043.043617080203\n",
      "\n",
      "Среднее время обучения (сек): [0.13373938 0.17415676 0.22413297 0.27282677 0.31540408 0.35963354\n",
      " 0.39893064 0.45155725]\n",
      "Среднее время предсказания (сек): [0.00402002 0.004423   0.0046586  0.00513048 0.00508747 0.00568991\n",
      " 0.0061336  0.00629706]\n",
      "CPU times: user 13 s, sys: 0 ns, total: 13 s\n",
      "Wall time: 13 s\n"
     ]
    }
   ],
   "source": [
    "%%time\n",
    "\n",
    "# Создаем регрессор и список значений max_depth\n",
    "regressor = DecisionTreeRegressor()\n",
    "max_depth_list = [x for x in range(2, 10)]\n",
    "\n",
    "# Задаем гиперпараметры для GridSearchCV\n",
    "hyperparams = [{'criterion': ['mse'], \n",
    "                'max_depth': max_depth_list, \n",
    "                'random_state': [RANDOM_STATE]}]\n",
    "\n",
    "# Создаем GridSearchCV\n",
    "clf = GridSearchCV(regressor, hyperparams, scoring=scorer, return_train_score=True)\n",
    "\n",
    "# Обучаем модель и выполняем кросс-валидацию\n",
    "clf.fit(X_train, y_train)\n",
    "\n",
    "# Извлекаем результаты из cv_results_\n",
    "results = clf.cv_results_\n",
    "\n",
    "# Извлекаем лучшие параметры и RMSE\n",
    "best_params = clf.best_params_\n",
    "best_rmse_DT = -clf.best_score_\n",
    "\n",
    "# Извлекаем время обучения и предсказания из cv_results_\n",
    "mean_fit_time_DT = results['mean_fit_time']\n",
    "mean_score_time_DT = results['mean_score_time']\n",
    "\n",
    "# Выводим результаты\n",
    "print(\"Лучшие параметры:\")\n",
    "print(best_params)\n",
    "print()\n",
    "print(\"Лучшее RMSE:\", best_rmse_DT)\n",
    "print()\n",
    "print(\"Среднее время обучения (сек):\", mean_fit_time_DT)\n",
    "print(\"Среднее время предсказания (сек):\", mean_score_time_DT)\n"
   ]
  },
  {
   "cell_type": "markdown",
   "metadata": {},
   "source": [
    "**Регрессия CatBoostRegressor**"
   ]
  },
  {
   "cell_type": "code",
   "execution_count": 30,
   "metadata": {},
   "outputs": [
    {
     "name": "stdout",
     "output_type": "stream",
     "text": [
      "Лучшие параметры:\n",
      "{'learning_rate': 0.3, 'random_state': 42, 'verbose': False}\n",
      "\n",
      "Лучшее RMSE: 1590.8947268927695\n",
      "\n",
      "Среднее время обучения (сек): [22.30264254 22.21101546]\n",
      "Среднее время предсказания (сек): [0.04316664 0.04341526]\n",
      "CPU times: user 4min 3s, sys: 0 ns, total: 4min 3s\n",
      "Wall time: 4min 12s\n"
     ]
    }
   ],
   "source": [
    "%%time\n",
    "\n",
    "# Модель на данных, закодированных по методу OE\n",
    "\n",
    "regressor = CatBoostRegressor() \n",
    "hyperparams = [{'learning_rate':[0.3, 0.6],\n",
    "                'random_state':[RANDOM_STATE],\n",
    "                'verbose':[False]}]\n",
    "\n",
    "# Создаем GridSearchCV\n",
    "clf = GridSearchCV(regressor, hyperparams, scoring=scorer, return_train_score=True)\n",
    "\n",
    "# Обучаем модель и выполняем кросс-валидацию\n",
    "clf.fit(X_train, y_train)\n",
    "\n",
    "# Извлекаем результаты из cv_results_\n",
    "results = clf.cv_results_\n",
    "\n",
    "# Извлекаем лучшие параметры и RMSE\n",
    "best_params = clf.best_params_\n",
    "best_rmse_CB = -clf.best_score_\n",
    "\n",
    "# Извлекаем время обучения и предсказания из cv_results_\n",
    "mean_fit_time_CB = results['mean_fit_time']\n",
    "mean_score_time_CB = results['mean_score_time']\n",
    "\n",
    "# Выводим результаты\n",
    "print(\"Лучшие параметры:\")\n",
    "print(best_params)\n",
    "print()\n",
    "print(\"Лучшее RMSE:\", best_rmse_CB)\n",
    "print()\n",
    "print(\"Среднее время обучения (сек):\", mean_fit_time_CB)\n",
    "print(\"Среднее время предсказания (сек):\", mean_score_time_CB)"
   ]
  },
  {
   "cell_type": "markdown",
   "metadata": {},
   "source": [
    "<!-- Модель CatBoostRegressor в конечном итоге у меня не обучилась, Jupyter не рассчитывает результат. -->"
   ]
  },
  {
   "cell_type": "markdown",
   "metadata": {},
   "source": [
    "**Регрессия LGBM**"
   ]
  },
  {
   "cell_type": "code",
   "execution_count": 31,
   "metadata": {},
   "outputs": [
    {
     "name": "stdout",
     "output_type": "stream",
     "text": [
      "Лучшие параметры:\n",
      "{'learning_rate': 0.3, 'num_leaves': 100, 'random_state': 42}\n",
      "\n",
      "Лучшее RMSE: 1611.1563962289908\n",
      "\n",
      "Среднее время обучения (сек): [2.98047361 5.46310091 7.85587049]\n",
      "Среднее время предсказания (сек): [0.27609277 0.26569576 0.30411563]\n",
      "CPU times: user 1min 48s, sys: 0 ns, total: 1min 48s\n",
      "Wall time: 1min 49s\n"
     ]
    }
   ],
   "source": [
    "%%time\n",
    "\n",
    "regressor = LGBMRegressor() \n",
    "hyperparams = [{'num_leaves':[11, 50, 100], \n",
    "                'learning_rate':[0.3],\n",
    "                'random_state':[RANDOM_STATE]}]\n",
    "\n",
    "# Создаем GridSearchCV\n",
    "clf = GridSearchCV(regressor, hyperparams, scoring=scorer, return_train_score=True)\n",
    "\n",
    "# Обучаем модель и выполняем кросс-валидацию\n",
    "clf.fit(X_train, y_train)\n",
    "\n",
    "# Извлекаем результаты из cv_results_\n",
    "results = clf.cv_results_\n",
    "\n",
    "# Извлекаем лучшие параметры и RMSE\n",
    "best_params = clf.best_params_\n",
    "best_rmse_LGBM = -clf.best_score_\n",
    "\n",
    "# Извлекаем время обучения и предсказания из cv_results_\n",
    "mean_fit_time_LGBM = results['mean_fit_time']\n",
    "mean_score_time_LGBM = results['mean_score_time']\n",
    "\n",
    "# Выводим результаты\n",
    "print(\"Лучшие параметры:\")\n",
    "print(best_params)\n",
    "print()\n",
    "print(\"Лучшее RMSE:\", best_rmse_LGBM)\n",
    "print()\n",
    "print(\"Среднее время обучения (сек):\", mean_fit_time_LGBM)\n",
    "print(\"Среднее время предсказания (сек):\", mean_score_time_LGBM)"
   ]
  },
  {
   "cell_type": "markdown",
   "metadata": {},
   "source": [
    "В итоге результаты подбора параметров следующие:\n",
    "- DecissionTree {'criterion': 'mse', 'max_depth': 9, 'random_state': 42}\n",
    "- CatBoostRegressor {'learning_rate': 0.3, 'random_state': 42, 'verbose': False}\n",
    "- LGBM {'learning_rate': 0.3, 'num_leaves': 100, 'random_state': 42}"
   ]
  },
  {
   "cell_type": "markdown",
   "metadata": {},
   "source": [
    "## Анализ моделей"
   ]
  },
  {
   "cell_type": "code",
   "execution_count": 44,
   "metadata": {
    "scrolled": false
   },
   "outputs": [
    {
     "data": {
      "text/html": [
       "<div>\n",
       "<style scoped>\n",
       "    .dataframe tbody tr th:only-of-type {\n",
       "        vertical-align: middle;\n",
       "    }\n",
       "\n",
       "    .dataframe tbody tr th {\n",
       "        vertical-align: top;\n",
       "    }\n",
       "\n",
       "    .dataframe thead th {\n",
       "        text-align: right;\n",
       "    }\n",
       "</style>\n",
       "<table border=\"1\" class=\"dataframe\">\n",
       "  <thead>\n",
       "    <tr style=\"text-align: right;\">\n",
       "      <th></th>\n",
       "      <th>Время обучения, сек</th>\n",
       "      <th>Время предсказания, сек</th>\n",
       "      <th>RMSE, евро</th>\n",
       "    </tr>\n",
       "  </thead>\n",
       "  <tbody>\n",
       "    <tr>\n",
       "      <th>DecisionTreeRegressor</th>\n",
       "      <td>0.451557</td>\n",
       "      <td>0.006297</td>\n",
       "      <td>2043.043617</td>\n",
       "    </tr>\n",
       "    <tr>\n",
       "      <th>LGBMRegressor</th>\n",
       "      <td>7.855870</td>\n",
       "      <td>0.304116</td>\n",
       "      <td>1611.156396</td>\n",
       "    </tr>\n",
       "    <tr>\n",
       "      <th>LinearRegression</th>\n",
       "      <td>15.452579</td>\n",
       "      <td>0.168882</td>\n",
       "      <td>2581.443128</td>\n",
       "    </tr>\n",
       "    <tr>\n",
       "      <th>CatBoostRegressor</th>\n",
       "      <td>22.302643</td>\n",
       "      <td>0.043167</td>\n",
       "      <td>1590.894727</td>\n",
       "    </tr>\n",
       "  </tbody>\n",
       "</table>\n",
       "</div>"
      ],
      "text/plain": [
       "                       Время обучения, сек  Время предсказания, сек  \\\n",
       "DecisionTreeRegressor             0.451557                 0.006297   \n",
       "LGBMRegressor                     7.855870                 0.304116   \n",
       "LinearRegression                 15.452579                 0.168882   \n",
       "CatBoostRegressor                22.302643                 0.043167   \n",
       "\n",
       "                        RMSE, евро  \n",
       "DecisionTreeRegressor  2043.043617  \n",
       "LGBMRegressor          1611.156396  \n",
       "LinearRegression       2581.443128  \n",
       "CatBoostRegressor      1590.894727  "
      ]
     },
     "execution_count": 44,
     "metadata": {},
     "output_type": "execute_result"
    }
   ],
   "source": [
    "# Сведу все полученные результаты в одном месте\n",
    "index = ['LinearRegression',\n",
    "         'DecisionTreeRegressor',\n",
    "         'CatBoostRegressor',\n",
    "         'LGBMRegressor']\n",
    "data = {'Время обучения, сек':[mean_fit_time_LR[0],\n",
    "                              mean_fit_time_DT[7],\n",
    "                              mean_fit_time_CB[0],\n",
    "                              mean_fit_time_LGBM[2]],\n",
    "        'Время предсказания, сек':[mean_score_time_LR[0],\n",
    "                                  mean_score_time_DT[7],\n",
    "                                  mean_score_time_CB[0],\n",
    "                                  mean_score_time_LGBM[2]],\n",
    "        'RMSE, евро':[best_rmse_LR,\n",
    "                                                best_rmse_DT,\n",
    "                                                best_rmse_CB,\n",
    "                                                best_rmse_LGBM]}\n",
    "scores_data = pd.DataFrame(data=data, index=index)\n",
    "scores_data.sort_values(by='Время обучения, сек')"
   ]
  },
  {
   "cell_type": "markdown",
   "metadata": {},
   "source": [
    "Лучшая модель по времени обучения и предсказания - Дерево решений. RMSE подходит под критерий - меньше 2500. На этой модели с лучшими параметрами проверю качество на тестовой выборке. "
   ]
  },
  {
   "cell_type": "code",
   "execution_count": 45,
   "metadata": {},
   "outputs": [
    {
     "name": "stdout",
     "output_type": "stream",
     "text": [
      "CPU times: user 553 ms, sys: 0 ns, total: 553 ms\n",
      "Wall time: 552 ms\n"
     ]
    },
    {
     "data": {
      "text/plain": [
       "DecisionTreeRegressor(max_depth=9, random_state=42)"
      ]
     },
     "execution_count": 45,
     "metadata": {},
     "output_type": "execute_result"
    }
   ],
   "source": [
    "%%time\n",
    "\n",
    "# Обучение\n",
    "model = DecisionTreeRegressor(criterion='mse', \n",
    "                              max_depth=9, \n",
    "                              random_state=RANDOM_STATE) \n",
    "model.fit(X_train, y_train)"
   ]
  },
  {
   "cell_type": "code",
   "execution_count": 46,
   "metadata": {},
   "outputs": [
    {
     "name": "stdout",
     "output_type": "stream",
     "text": [
      "CPU times: user 10.2 ms, sys: 0 ns, total: 10.2 ms\n",
      "Wall time: 8.93 ms\n"
     ]
    }
   ],
   "source": [
    "%%time\n",
    "\n",
    "# Предсказание\n",
    "prediction = model.predict(X_test)"
   ]
  },
  {
   "cell_type": "code",
   "execution_count": 47,
   "metadata": {},
   "outputs": [
    {
     "data": {
      "text/plain": [
       "2042.4691463665426"
      ]
     },
     "execution_count": 47,
     "metadata": {},
     "output_type": "execute_result"
    }
   ],
   "source": [
    "# Метрика RMSE\n",
    "final_RMSE_DTR = mean_squared_error(y_test, prediction) ** 0.5\n",
    "final_RMSE_DTR"
   ]
  },
  {
   "cell_type": "markdown",
   "metadata": {},
   "source": [
    "На тестовой выборке лучшая модель показала такие же хорошие результаты:\n",
    "- Время обучения 577 мс (VS 445 мс на кросс-валидации)\n",
    "- Время предсказания 11 мс (VS 6 мс на кросс-валидации)\n",
    "- RMSE 2042 (VS 2043 на кросс-валидации)"
   ]
  },
  {
   "cell_type": "markdown",
   "metadata": {},
   "source": [
    "# Выводы\n",
    "\n",
    "Я рассмотрел 4 модели: линейная регрессия, дерево решений, градиентный бустинг и LightGBM.\n",
    "\n",
    "У заказчика 3 главных критерия: качество предсказания, время обучения и предсказания.\n",
    "В итоговой таблице приведены сравнительные характеристики 4-х моделей. Исходя из критериев, быстрее всего обучается линейная регрессия. Но она дает не точный результат - RMSE больше заявленных 2500.\n",
    "Дерево решений дает отличный результат предсказания и небольшое время обучения.\n",
    "Самый точный результат дает CatBoostRegressor, однако и время обучения у нее самое большое.\n",
    "\n",
    "Как итог, следует выбрать модель **Дерева решений**. Мгновенное обучение и предсказание, что важно для использования в приложении. А так же хорошая точност предсказания - RMSE 2042 при пороговом значении <2500."
   ]
  }
 ],
 "metadata": {
  "ExecuteTimeLog": [
   {
    "duration": 429,
    "start_time": "2024-04-05T16:52:13.684Z"
   },
   {
    "duration": 114,
    "start_time": "2024-04-05T16:52:42.710Z"
   },
   {
    "duration": 1256,
    "start_time": "2024-04-05T16:52:52.092Z"
   },
   {
    "duration": 1111,
    "start_time": "2024-04-05T16:54:04.291Z"
   },
   {
    "duration": 1107,
    "start_time": "2024-04-08T15:46:09.877Z"
   },
   {
    "duration": 1028,
    "start_time": "2024-04-08T15:48:48.826Z"
   },
   {
    "duration": 1414,
    "start_time": "2024-04-08T15:49:06.174Z"
   },
   {
    "duration": 1148,
    "start_time": "2024-04-08T15:49:17.882Z"
   },
   {
    "duration": 1116,
    "start_time": "2024-04-08T15:49:45.086Z"
   },
   {
    "duration": 109,
    "start_time": "2024-04-08T16:08:35.107Z"
   },
   {
    "duration": 521,
    "start_time": "2024-04-08T16:08:45.982Z"
   },
   {
    "duration": 506,
    "start_time": "2024-04-08T16:10:05.844Z"
   },
   {
    "duration": 478,
    "start_time": "2024-04-08T16:10:24.325Z"
   },
   {
    "duration": 494,
    "start_time": "2024-04-08T16:10:38.011Z"
   },
   {
    "duration": 102,
    "start_time": "2024-04-08T16:10:45.522Z"
   },
   {
    "duration": 89,
    "start_time": "2024-04-08T16:10:48.046Z"
   },
   {
    "duration": 506,
    "start_time": "2024-04-08T16:10:55.173Z"
   },
   {
    "duration": 97,
    "start_time": "2024-04-08T16:11:17.559Z"
   },
   {
    "duration": 101,
    "start_time": "2024-04-08T16:11:34.602Z"
   },
   {
    "duration": 3,
    "start_time": "2024-04-08T17:21:22.109Z"
   },
   {
    "duration": 15,
    "start_time": "2024-04-08T17:23:55.947Z"
   },
   {
    "duration": 11,
    "start_time": "2024-04-08T17:24:15.508Z"
   },
   {
    "duration": 3956,
    "start_time": "2024-04-08T17:26:24.136Z"
   },
   {
    "duration": 2626,
    "start_time": "2024-04-08T17:26:40.758Z"
   },
   {
    "duration": 389,
    "start_time": "2024-04-08T17:26:45.912Z"
   },
   {
    "duration": 1455,
    "start_time": "2024-04-08T17:26:46.303Z"
   },
   {
    "duration": 544,
    "start_time": "2024-04-08T17:26:47.760Z"
   },
   {
    "duration": 104,
    "start_time": "2024-04-08T17:26:48.306Z"
   },
   {
    "duration": 2659,
    "start_time": "2024-04-08T17:26:51.489Z"
   },
   {
    "duration": 50,
    "start_time": "2024-04-08T17:30:57.420Z"
   },
   {
    "duration": 81,
    "start_time": "2024-04-08T17:31:09.258Z"
   },
   {
    "duration": 84,
    "start_time": "2024-04-08T17:31:19.589Z"
   },
   {
    "duration": 6,
    "start_time": "2024-04-08T17:31:26.139Z"
   },
   {
    "duration": 6,
    "start_time": "2024-04-08T17:31:35.441Z"
   },
   {
    "duration": 1314,
    "start_time": "2024-04-08T17:31:41.734Z"
   },
   {
    "duration": 1401,
    "start_time": "2024-04-08T17:31:43.050Z"
   },
   {
    "duration": 494,
    "start_time": "2024-04-08T17:31:44.453Z"
   },
   {
    "duration": 107,
    "start_time": "2024-04-08T17:31:44.948Z"
   },
   {
    "duration": 86,
    "start_time": "2024-04-08T17:31:45.058Z"
   },
   {
    "duration": 9,
    "start_time": "2024-04-08T17:31:54.568Z"
   },
   {
    "duration": 26,
    "start_time": "2024-04-08T17:32:08.838Z"
   },
   {
    "duration": 37,
    "start_time": "2024-04-08T17:32:15.111Z"
   },
   {
    "duration": 121,
    "start_time": "2024-04-08T17:33:23.529Z"
   },
   {
    "duration": 9,
    "start_time": "2024-04-08T17:33:43.205Z"
   },
   {
    "duration": 197,
    "start_time": "2024-04-08T17:33:48.778Z"
   },
   {
    "duration": 381,
    "start_time": "2024-04-08T17:34:40.509Z"
   },
   {
    "duration": 434,
    "start_time": "2024-04-08T23:35:10.712Z"
   },
   {
    "duration": 267,
    "start_time": "2024-04-08T23:35:18.558Z"
   },
   {
    "duration": 358,
    "start_time": "2024-04-08T23:35:38.728Z"
   },
   {
    "duration": 288,
    "start_time": "2024-04-08T23:35:50.436Z"
   },
   {
    "duration": 19,
    "start_time": "2024-04-08T23:36:47.552Z"
   },
   {
    "duration": 26,
    "start_time": "2024-04-08T23:36:56.547Z"
   },
   {
    "duration": 22,
    "start_time": "2024-04-08T23:37:38.773Z"
   },
   {
    "duration": 22,
    "start_time": "2024-04-08T23:38:15.884Z"
   },
   {
    "duration": 118,
    "start_time": "2024-04-08T23:38:21.032Z"
   },
   {
    "duration": 32,
    "start_time": "2024-04-08T23:44:19.250Z"
   },
   {
    "duration": 69,
    "start_time": "2024-04-08T23:46:28.884Z"
   },
   {
    "duration": 24,
    "start_time": "2024-04-08T23:47:26.487Z"
   },
   {
    "duration": 22,
    "start_time": "2024-04-08T23:47:32.286Z"
   },
   {
    "duration": 20,
    "start_time": "2024-04-08T23:47:35.973Z"
   },
   {
    "duration": 23,
    "start_time": "2024-04-08T23:47:55.345Z"
   },
   {
    "duration": 18,
    "start_time": "2024-04-08T23:47:59.275Z"
   },
   {
    "duration": 377,
    "start_time": "2024-04-08T23:49:16.525Z"
   },
   {
    "duration": 376,
    "start_time": "2024-04-08T23:49:29.083Z"
   },
   {
    "duration": 142,
    "start_time": "2024-04-08T23:49:59.540Z"
   },
   {
    "duration": 150,
    "start_time": "2024-04-08T23:51:29.323Z"
   },
   {
    "duration": 26,
    "start_time": "2024-04-08T23:51:46.195Z"
   },
   {
    "duration": 111,
    "start_time": "2024-04-08T23:51:52.147Z"
   },
   {
    "duration": 18,
    "start_time": "2024-04-08T23:54:12.831Z"
   },
   {
    "duration": 50,
    "start_time": "2024-04-08T23:54:24.218Z"
   },
   {
    "duration": 21,
    "start_time": "2024-04-08T23:54:57.848Z"
   },
   {
    "duration": 20,
    "start_time": "2024-04-08T23:55:29.056Z"
   },
   {
    "duration": 24,
    "start_time": "2024-04-08T23:55:34.788Z"
   },
   {
    "duration": 100,
    "start_time": "2024-04-08T23:55:55.139Z"
   },
   {
    "duration": 81,
    "start_time": "2024-04-08T23:56:17.529Z"
   },
   {
    "duration": 84,
    "start_time": "2024-04-08T23:58:59.709Z"
   },
   {
    "duration": 18,
    "start_time": "2024-04-09T00:02:26.417Z"
   },
   {
    "duration": 17,
    "start_time": "2024-04-09T00:04:29.792Z"
   },
   {
    "duration": 86,
    "start_time": "2024-04-09T00:04:33.913Z"
   },
   {
    "duration": 82,
    "start_time": "2024-04-09T00:06:17.718Z"
   },
   {
    "duration": 72,
    "start_time": "2024-04-09T00:06:36.809Z"
   },
   {
    "duration": 74,
    "start_time": "2024-04-09T00:07:10.933Z"
   },
   {
    "duration": 81,
    "start_time": "2024-04-09T00:08:08.452Z"
   },
   {
    "duration": 76,
    "start_time": "2024-04-09T00:08:39.378Z"
   },
   {
    "duration": 82,
    "start_time": "2024-04-09T00:08:47.346Z"
   },
   {
    "duration": 75,
    "start_time": "2024-04-09T00:09:23.735Z"
   },
   {
    "duration": 81,
    "start_time": "2024-04-09T00:09:58.102Z"
   },
   {
    "duration": 71,
    "start_time": "2024-04-09T00:10:03.528Z"
   },
   {
    "duration": 80,
    "start_time": "2024-04-09T00:10:11.007Z"
   },
   {
    "duration": 86,
    "start_time": "2024-04-09T00:10:19.873Z"
   },
   {
    "duration": 81,
    "start_time": "2024-04-09T00:12:07.691Z"
   },
   {
    "duration": 1492,
    "start_time": "2024-04-09T00:15:39.310Z"
   },
   {
    "duration": 70,
    "start_time": "2024-04-09T00:15:51.978Z"
   },
   {
    "duration": 82,
    "start_time": "2024-04-09T00:15:58.987Z"
   },
   {
    "duration": 73,
    "start_time": "2024-04-09T00:17:56.258Z"
   },
   {
    "duration": 80,
    "start_time": "2024-04-09T00:17:59.744Z"
   },
   {
    "duration": 1446,
    "start_time": "2024-04-09T00:18:31.558Z"
   },
   {
    "duration": 77,
    "start_time": "2024-04-09T00:18:43.391Z"
   },
   {
    "duration": 1517,
    "start_time": "2024-04-09T00:18:48.998Z"
   },
   {
    "duration": 69,
    "start_time": "2024-04-09T00:19:15.138Z"
   },
   {
    "duration": 84,
    "start_time": "2024-04-09T00:19:44.014Z"
   },
   {
    "duration": 78,
    "start_time": "2024-04-09T00:20:24.608Z"
   },
   {
    "duration": 69,
    "start_time": "2024-04-09T00:25:32.238Z"
   },
   {
    "duration": 453,
    "start_time": "2024-04-09T00:26:03.415Z"
   },
   {
    "duration": 473,
    "start_time": "2024-04-09T00:26:10.556Z"
   },
   {
    "duration": 78,
    "start_time": "2024-04-09T00:26:19.970Z"
   },
   {
    "duration": 74,
    "start_time": "2024-04-09T00:26:34.218Z"
   },
   {
    "duration": 441,
    "start_time": "2024-04-09T00:26:47.036Z"
   },
   {
    "duration": 71,
    "start_time": "2024-04-09T00:36:20.403Z"
   },
   {
    "duration": 124,
    "start_time": "2024-04-09T00:37:16.408Z"
   },
   {
    "duration": 145,
    "start_time": "2024-04-09T00:37:38.598Z"
   },
   {
    "duration": 204,
    "start_time": "2024-04-09T00:37:53.563Z"
   },
   {
    "duration": 210,
    "start_time": "2024-04-09T00:38:29.483Z"
   },
   {
    "duration": 180,
    "start_time": "2024-04-09T00:44:01.101Z"
   },
   {
    "duration": 198,
    "start_time": "2024-04-09T00:44:39.966Z"
   },
   {
    "duration": 107,
    "start_time": "2024-04-09T01:13:30.382Z"
   },
   {
    "duration": 204,
    "start_time": "2024-04-09T01:13:37.073Z"
   },
   {
    "duration": 210,
    "start_time": "2024-04-09T01:15:02.105Z"
   },
   {
    "duration": 115,
    "start_time": "2024-04-09T01:16:05.317Z"
   },
   {
    "duration": 118,
    "start_time": "2024-04-09T01:16:20.004Z"
   },
   {
    "duration": 105,
    "start_time": "2024-04-09T01:17:00.997Z"
   },
   {
    "duration": 116,
    "start_time": "2024-04-09T01:17:07.183Z"
   },
   {
    "duration": 107,
    "start_time": "2024-04-09T01:18:53.721Z"
   },
   {
    "duration": 194,
    "start_time": "2024-04-09T01:18:59.136Z"
   },
   {
    "duration": 1309,
    "start_time": "2024-04-09T01:19:51.248Z"
   },
   {
    "duration": 100,
    "start_time": "2024-04-09T01:19:59.425Z"
   },
   {
    "duration": 25,
    "start_time": "2024-04-09T01:20:09.526Z"
   },
   {
    "duration": 1006,
    "start_time": "2024-04-09T01:20:25.970Z"
   },
   {
    "duration": 4,
    "start_time": "2024-04-09T01:20:38.559Z"
   },
   {
    "duration": 1096,
    "start_time": "2024-04-09T01:20:38.565Z"
   },
   {
    "duration": 416,
    "start_time": "2024-04-09T01:20:39.663Z"
   },
   {
    "duration": 103,
    "start_time": "2024-04-09T01:20:40.081Z"
   },
   {
    "duration": 25,
    "start_time": "2024-04-09T01:20:40.186Z"
   },
   {
    "duration": 126,
    "start_time": "2024-04-09T01:20:40.213Z"
   },
   {
    "duration": 191,
    "start_time": "2024-04-09T01:20:40.341Z"
   },
   {
    "duration": 378,
    "start_time": "2024-04-09T01:20:40.533Z"
   },
   {
    "duration": 435,
    "start_time": "2024-04-09T01:20:40.913Z"
   },
   {
    "duration": 30,
    "start_time": "2024-04-09T01:20:41.350Z"
   },
   {
    "duration": 68,
    "start_time": "2024-04-09T01:20:41.382Z"
   },
   {
    "duration": 163,
    "start_time": "2024-04-09T01:20:41.452Z"
   },
   {
    "duration": 111,
    "start_time": "2024-04-09T01:20:41.616Z"
   },
   {
    "duration": 208,
    "start_time": "2024-04-09T01:20:41.729Z"
   },
   {
    "duration": 211,
    "start_time": "2024-04-09T01:20:41.939Z"
   },
   {
    "duration": 210,
    "start_time": "2024-04-09T01:20:42.152Z"
   },
   {
    "duration": 112,
    "start_time": "2024-04-09T01:20:42.364Z"
   },
   {
    "duration": 105,
    "start_time": "2024-04-09T01:20:42.478Z"
   },
   {
    "duration": 121,
    "start_time": "2024-04-09T01:20:47.202Z"
   },
   {
    "duration": 201,
    "start_time": "2024-04-09T01:22:07.700Z"
   },
   {
    "duration": 205,
    "start_time": "2024-04-09T01:22:18.023Z"
   },
   {
    "duration": 187,
    "start_time": "2024-04-09T01:22:52.286Z"
   },
   {
    "duration": 180,
    "start_time": "2024-04-09T01:22:57.468Z"
   },
   {
    "duration": 10,
    "start_time": "2024-04-09T01:23:42.719Z"
   },
   {
    "duration": 9,
    "start_time": "2024-04-09T01:23:55.445Z"
   },
   {
    "duration": 1348,
    "start_time": "2024-04-09T11:43:08.396Z"
   },
   {
    "duration": 1116,
    "start_time": "2024-04-09T11:43:09.746Z"
   },
   {
    "duration": 501,
    "start_time": "2024-04-09T11:43:10.863Z"
   },
   {
    "duration": 107,
    "start_time": "2024-04-09T11:43:11.366Z"
   },
   {
    "duration": 35,
    "start_time": "2024-04-09T11:43:11.475Z"
   },
   {
    "duration": 113,
    "start_time": "2024-04-09T11:43:11.511Z"
   },
   {
    "duration": 256,
    "start_time": "2024-04-09T11:43:11.626Z"
   },
   {
    "duration": 431,
    "start_time": "2024-04-09T11:43:11.883Z"
   },
   {
    "duration": 435,
    "start_time": "2024-04-09T11:43:12.316Z"
   },
   {
    "duration": 34,
    "start_time": "2024-04-09T11:43:12.752Z"
   },
   {
    "duration": 87,
    "start_time": "2024-04-09T11:43:12.787Z"
   },
   {
    "duration": 152,
    "start_time": "2024-04-09T11:43:12.875Z"
   },
   {
    "duration": 122,
    "start_time": "2024-04-09T11:43:13.028Z"
   },
   {
    "duration": 216,
    "start_time": "2024-04-09T11:43:13.153Z"
   },
   {
    "duration": 216,
    "start_time": "2024-04-09T11:43:13.373Z"
   },
   {
    "duration": 210,
    "start_time": "2024-04-09T11:43:13.590Z"
   },
   {
    "duration": 115,
    "start_time": "2024-04-09T11:43:13.801Z"
   },
   {
    "duration": 117,
    "start_time": "2024-04-09T11:43:13.917Z"
   },
   {
    "duration": 197,
    "start_time": "2024-04-09T11:43:14.036Z"
   },
   {
    "duration": 123,
    "start_time": "2024-04-09T11:43:14.235Z"
   },
   {
    "duration": 10,
    "start_time": "2024-04-09T11:43:30.349Z"
   },
   {
    "duration": 51,
    "start_time": "2024-04-09T11:43:36.317Z"
   },
   {
    "duration": 139,
    "start_time": "2024-04-09T11:45:06.569Z"
   },
   {
    "duration": 195,
    "start_time": "2024-04-09T11:45:26.182Z"
   },
   {
    "duration": 131,
    "start_time": "2024-04-09T11:45:40.254Z"
   },
   {
    "duration": 137,
    "start_time": "2024-04-09T11:45:48.392Z"
   },
   {
    "duration": 6,
    "start_time": "2024-04-09T11:46:07.738Z"
   },
   {
    "duration": 24,
    "start_time": "2024-04-09T11:46:25.762Z"
   },
   {
    "duration": 10,
    "start_time": "2024-04-09T11:46:46.490Z"
   },
   {
    "duration": 1256,
    "start_time": "2024-04-09T11:48:10.001Z"
   },
   {
    "duration": 390,
    "start_time": "2024-04-09T11:48:22.035Z"
   },
   {
    "duration": 137,
    "start_time": "2024-04-09T11:51:21.903Z"
   },
   {
    "duration": 238,
    "start_time": "2024-04-09T11:51:33.554Z"
   },
   {
    "duration": 258,
    "start_time": "2024-04-09T11:51:50.538Z"
   },
   {
    "duration": 618,
    "start_time": "2024-04-09T11:52:46.046Z"
   },
   {
    "duration": 535,
    "start_time": "2024-04-09T11:53:05.477Z"
   },
   {
    "duration": 262,
    "start_time": "2024-04-09T11:53:24.250Z"
   },
   {
    "duration": 269,
    "start_time": "2024-04-09T11:53:26.769Z"
   },
   {
    "duration": 366,
    "start_time": "2024-04-09T11:53:33.557Z"
   },
   {
    "duration": 42,
    "start_time": "2024-04-09T11:54:10.954Z"
   },
   {
    "duration": 42,
    "start_time": "2024-04-09T11:54:49.060Z"
   },
   {
    "duration": 50,
    "start_time": "2024-04-09T11:55:07.543Z"
   },
   {
    "duration": 45,
    "start_time": "2024-04-09T11:55:57.684Z"
   },
   {
    "duration": 43,
    "start_time": "2024-04-09T11:56:00.603Z"
   },
   {
    "duration": 83,
    "start_time": "2024-04-09T11:56:10.445Z"
   },
   {
    "duration": 323,
    "start_time": "2024-04-09T11:57:35.416Z"
   },
   {
    "duration": 38,
    "start_time": "2024-04-09T11:58:04.523Z"
   },
   {
    "duration": 71,
    "start_time": "2024-04-09T11:58:57.690Z"
   },
   {
    "duration": 65,
    "start_time": "2024-04-09T11:59:41.705Z"
   },
   {
    "duration": 11,
    "start_time": "2024-04-09T12:00:01.313Z"
   },
   {
    "duration": 27,
    "start_time": "2024-04-09T12:00:32.192Z"
   },
   {
    "duration": 538,
    "start_time": "2024-04-09T12:24:16.827Z"
   },
   {
    "duration": 419,
    "start_time": "2024-04-09T12:29:12.109Z"
   },
   {
    "duration": 423,
    "start_time": "2024-04-09T12:29:38.702Z"
   },
   {
    "duration": 670,
    "start_time": "2024-04-09T12:30:46.722Z"
   },
   {
    "duration": 633,
    "start_time": "2024-04-09T12:30:52.677Z"
   },
   {
    "duration": 629,
    "start_time": "2024-04-09T12:31:40.595Z"
   },
   {
    "duration": 557,
    "start_time": "2024-04-09T12:32:06.241Z"
   },
   {
    "duration": 588,
    "start_time": "2024-04-09T12:32:13.283Z"
   },
   {
    "duration": 537,
    "start_time": "2024-04-09T12:32:41.548Z"
   },
   {
    "duration": 89,
    "start_time": "2024-04-09T12:34:31.055Z"
   },
   {
    "duration": 886,
    "start_time": "2024-04-09T12:35:08.118Z"
   },
   {
    "duration": 836,
    "start_time": "2024-04-09T12:50:27.261Z"
   },
   {
    "duration": 120,
    "start_time": "2024-04-09T14:45:32.974Z"
   },
   {
    "duration": 1179,
    "start_time": "2024-04-09T14:45:43.214Z"
   },
   {
    "duration": 1056,
    "start_time": "2024-04-09T14:45:44.395Z"
   },
   {
    "duration": 347,
    "start_time": "2024-04-09T14:45:45.452Z"
   },
   {
    "duration": 100,
    "start_time": "2024-04-09T14:45:45.800Z"
   },
   {
    "duration": 29,
    "start_time": "2024-04-09T14:45:45.902Z"
   },
   {
    "duration": 73,
    "start_time": "2024-04-09T14:45:45.932Z"
   },
   {
    "duration": 158,
    "start_time": "2024-04-09T14:45:46.006Z"
   },
   {
    "duration": 312,
    "start_time": "2024-04-09T14:45:46.166Z"
   },
   {
    "duration": 490,
    "start_time": "2024-04-09T14:45:46.480Z"
   },
   {
    "duration": 29,
    "start_time": "2024-04-09T14:45:46.972Z"
   },
   {
    "duration": 71,
    "start_time": "2024-04-09T14:45:47.002Z"
   },
   {
    "duration": 121,
    "start_time": "2024-04-09T14:45:47.074Z"
   },
   {
    "duration": 78,
    "start_time": "2024-04-09T14:45:47.196Z"
   },
   {
    "duration": 199,
    "start_time": "2024-04-09T14:45:47.284Z"
   },
   {
    "duration": 138,
    "start_time": "2024-04-09T14:45:47.484Z"
   },
   {
    "duration": 145,
    "start_time": "2024-04-09T14:45:47.623Z"
   },
   {
    "duration": 71,
    "start_time": "2024-04-09T14:45:47.769Z"
   },
   {
    "duration": 72,
    "start_time": "2024-04-09T14:45:47.841Z"
   },
   {
    "duration": 123,
    "start_time": "2024-04-09T14:45:47.914Z"
   },
   {
    "duration": 52,
    "start_time": "2024-04-09T14:45:48.038Z"
   },
   {
    "duration": 204,
    "start_time": "2024-04-09T14:45:48.092Z"
   },
   {
    "duration": 249,
    "start_time": "2024-04-09T14:45:48.297Z"
   },
   {
    "duration": 64,
    "start_time": "2024-04-09T14:45:48.547Z"
   },
   {
    "duration": 245,
    "start_time": "2024-04-09T14:45:48.612Z"
   },
   {
    "duration": 63,
    "start_time": "2024-04-09T14:45:48.858Z"
   },
   {
    "duration": 398,
    "start_time": "2024-04-09T14:45:48.922Z"
   },
   {
    "duration": 870,
    "start_time": "2024-04-09T14:45:49.321Z"
   },
   {
    "duration": 135,
    "start_time": "2024-04-09T14:45:53.411Z"
   },
   {
    "duration": 85,
    "start_time": "2024-04-09T14:46:05.285Z"
   },
   {
    "duration": 86,
    "start_time": "2024-04-09T14:47:09.684Z"
   },
   {
    "duration": 82,
    "start_time": "2024-04-09T14:48:15.914Z"
   },
   {
    "duration": 80,
    "start_time": "2024-04-09T14:48:34.811Z"
   },
   {
    "duration": 83,
    "start_time": "2024-04-09T14:48:52.934Z"
   },
   {
    "duration": 74,
    "start_time": "2024-04-09T14:49:57.989Z"
   },
   {
    "duration": 100,
    "start_time": "2024-04-09T14:53:08.353Z"
   },
   {
    "duration": 84,
    "start_time": "2024-04-09T14:57:40.678Z"
   },
   {
    "duration": 6821,
    "start_time": "2024-04-09T14:58:19.429Z"
   },
   {
    "duration": 85,
    "start_time": "2024-04-09T15:01:58.497Z"
   },
   {
    "duration": 1586,
    "start_time": "2024-04-09T15:02:07.314Z"
   },
   {
    "duration": 1109,
    "start_time": "2024-04-09T15:06:44.619Z"
   },
   {
    "duration": 796,
    "start_time": "2024-04-09T15:06:45.730Z"
   },
   {
    "duration": 354,
    "start_time": "2024-04-09T15:06:46.527Z"
   },
   {
    "duration": 79,
    "start_time": "2024-04-09T15:06:46.893Z"
   },
   {
    "duration": 33,
    "start_time": "2024-04-09T15:06:46.973Z"
   },
   {
    "duration": 63,
    "start_time": "2024-04-09T15:06:47.008Z"
   },
   {
    "duration": 182,
    "start_time": "2024-04-09T15:06:47.073Z"
   },
   {
    "duration": 303,
    "start_time": "2024-04-09T15:06:47.256Z"
   },
   {
    "duration": 338,
    "start_time": "2024-04-09T15:06:47.561Z"
   },
   {
    "duration": 19,
    "start_time": "2024-04-09T15:06:47.901Z"
   },
   {
    "duration": 80,
    "start_time": "2024-04-09T15:06:47.921Z"
   },
   {
    "duration": 120,
    "start_time": "2024-04-09T15:06:48.002Z"
   },
   {
    "duration": 88,
    "start_time": "2024-04-09T15:06:48.123Z"
   },
   {
    "duration": 147,
    "start_time": "2024-04-09T15:06:48.212Z"
   },
   {
    "duration": 154,
    "start_time": "2024-04-09T15:06:48.360Z"
   },
   {
    "duration": 146,
    "start_time": "2024-04-09T15:06:48.515Z"
   },
   {
    "duration": 83,
    "start_time": "2024-04-09T15:06:48.662Z"
   },
   {
    "duration": 74,
    "start_time": "2024-04-09T15:06:48.746Z"
   },
   {
    "duration": 125,
    "start_time": "2024-04-09T15:06:48.821Z"
   },
   {
    "duration": 52,
    "start_time": "2024-04-09T15:06:48.947Z"
   },
   {
    "duration": 261,
    "start_time": "2024-04-09T15:06:49.000Z"
   },
   {
    "duration": 288,
    "start_time": "2024-04-09T15:06:49.263Z"
   },
   {
    "duration": 75,
    "start_time": "2024-04-09T15:06:49.552Z"
   },
   {
    "duration": 261,
    "start_time": "2024-04-09T15:06:49.629Z"
   },
   {
    "duration": 60,
    "start_time": "2024-04-09T15:06:49.891Z"
   },
   {
    "duration": 418,
    "start_time": "2024-04-09T15:06:49.952Z"
   },
   {
    "duration": 731,
    "start_time": "2024-04-09T15:06:50.371Z"
   },
   {
    "duration": 6964,
    "start_time": "2024-04-09T15:06:51.106Z"
   },
   {
    "duration": 1159,
    "start_time": "2024-04-09T15:10:55.367Z"
   },
   {
    "duration": 798,
    "start_time": "2024-04-09T15:10:56.528Z"
   },
   {
    "duration": 347,
    "start_time": "2024-04-09T15:10:57.327Z"
   },
   {
    "duration": 86,
    "start_time": "2024-04-09T15:10:57.676Z"
   },
   {
    "duration": 41,
    "start_time": "2024-04-09T15:10:57.763Z"
   },
   {
    "duration": 71,
    "start_time": "2024-04-09T15:10:57.805Z"
   },
   {
    "duration": 176,
    "start_time": "2024-04-09T15:10:57.878Z"
   },
   {
    "duration": 314,
    "start_time": "2024-04-09T15:10:58.055Z"
   },
   {
    "duration": 335,
    "start_time": "2024-04-09T15:10:58.370Z"
   },
   {
    "duration": 18,
    "start_time": "2024-04-09T15:10:58.708Z"
   },
   {
    "duration": 75,
    "start_time": "2024-04-09T15:10:58.727Z"
   },
   {
    "duration": 117,
    "start_time": "2024-04-09T15:10:58.803Z"
   },
   {
    "duration": 87,
    "start_time": "2024-04-09T15:10:58.921Z"
   },
   {
    "duration": 146,
    "start_time": "2024-04-09T15:10:59.009Z"
   },
   {
    "duration": 162,
    "start_time": "2024-04-09T15:10:59.157Z"
   },
   {
    "duration": 137,
    "start_time": "2024-04-09T15:10:59.321Z"
   },
   {
    "duration": 78,
    "start_time": "2024-04-09T15:10:59.459Z"
   },
   {
    "duration": 83,
    "start_time": "2024-04-09T15:10:59.538Z"
   },
   {
    "duration": 124,
    "start_time": "2024-04-09T15:10:59.623Z"
   },
   {
    "duration": 50,
    "start_time": "2024-04-09T15:10:59.748Z"
   },
   {
    "duration": 256,
    "start_time": "2024-04-09T15:10:59.799Z"
   },
   {
    "duration": 300,
    "start_time": "2024-04-09T15:11:00.056Z"
   },
   {
    "duration": 71,
    "start_time": "2024-04-09T15:11:00.358Z"
   },
   {
    "duration": 267,
    "start_time": "2024-04-09T15:11:00.431Z"
   },
   {
    "duration": 56,
    "start_time": "2024-04-09T15:11:00.699Z"
   },
   {
    "duration": 446,
    "start_time": "2024-04-09T15:11:00.757Z"
   },
   {
    "duration": 698,
    "start_time": "2024-04-09T15:11:01.204Z"
   },
   {
    "duration": 5,
    "start_time": "2024-04-09T15:11:24.499Z"
   },
   {
    "duration": 758,
    "start_time": "2024-04-09T15:11:24.506Z"
   },
   {
    "duration": 330,
    "start_time": "2024-04-09T15:11:25.266Z"
   },
   {
    "duration": 74,
    "start_time": "2024-04-09T15:11:25.601Z"
   },
   {
    "duration": 30,
    "start_time": "2024-04-09T15:11:25.677Z"
   },
   {
    "duration": 66,
    "start_time": "2024-04-09T15:11:25.708Z"
   },
   {
    "duration": 143,
    "start_time": "2024-04-09T15:11:25.776Z"
   },
   {
    "duration": 278,
    "start_time": "2024-04-09T15:11:25.920Z"
   },
   {
    "duration": 200,
    "start_time": "2024-04-09T15:11:26.199Z"
   },
   {
    "duration": 17,
    "start_time": "2024-04-09T15:11:26.400Z"
   },
   {
    "duration": 80,
    "start_time": "2024-04-09T15:11:26.418Z"
   },
   {
    "duration": 115,
    "start_time": "2024-04-09T15:11:26.499Z"
   },
   {
    "duration": 115,
    "start_time": "2024-04-09T15:11:26.616Z"
   },
   {
    "duration": 148,
    "start_time": "2024-04-09T15:11:26.734Z"
   },
   {
    "duration": 150,
    "start_time": "2024-04-09T15:11:26.884Z"
   },
   {
    "duration": 161,
    "start_time": "2024-04-09T15:11:27.035Z"
   },
   {
    "duration": 69,
    "start_time": "2024-04-09T15:11:27.198Z"
   },
   {
    "duration": 75,
    "start_time": "2024-04-09T15:11:27.268Z"
   },
   {
    "duration": 123,
    "start_time": "2024-04-09T15:11:27.345Z"
   },
   {
    "duration": 43,
    "start_time": "2024-04-09T15:11:27.469Z"
   },
   {
    "duration": 210,
    "start_time": "2024-04-09T15:11:27.514Z"
   },
   {
    "duration": 263,
    "start_time": "2024-04-09T15:11:27.726Z"
   },
   {
    "duration": 62,
    "start_time": "2024-04-09T15:11:27.991Z"
   },
   {
    "duration": 270,
    "start_time": "2024-04-09T15:11:28.054Z"
   },
   {
    "duration": 54,
    "start_time": "2024-04-09T15:11:28.325Z"
   },
   {
    "duration": 414,
    "start_time": "2024-04-09T15:11:28.384Z"
   },
   {
    "duration": 803,
    "start_time": "2024-04-09T15:11:28.800Z"
   },
   {
    "duration": 7016,
    "start_time": "2024-04-09T15:11:29.605Z"
   },
   {
    "duration": 2,
    "start_time": "2024-04-09T15:11:36.623Z"
   },
   {
    "duration": 95,
    "start_time": "2024-04-09T15:11:36.627Z"
   },
   {
    "duration": 88899,
    "start_time": "2024-04-09T15:12:08.593Z"
   },
   {
    "duration": 797,
    "start_time": "2024-04-09T15:15:34.096Z"
   },
   {
    "duration": 854,
    "start_time": "2024-04-09T15:16:00.143Z"
   },
   {
    "duration": 6611,
    "start_time": "2024-04-09T15:16:52.854Z"
   },
   {
    "duration": 88263,
    "start_time": "2024-04-09T15:17:56.022Z"
   },
   {
    "duration": 0,
    "start_time": "2024-04-09T15:23:03.969Z"
   },
   {
    "duration": 0,
    "start_time": "2024-04-09T15:23:03.970Z"
   },
   {
    "duration": 0,
    "start_time": "2024-04-09T15:23:03.971Z"
   },
   {
    "duration": 0,
    "start_time": "2024-04-09T15:23:03.972Z"
   },
   {
    "duration": 0,
    "start_time": "2024-04-09T15:23:03.973Z"
   },
   {
    "duration": 0,
    "start_time": "2024-04-09T15:23:03.975Z"
   },
   {
    "duration": 0,
    "start_time": "2024-04-09T15:23:03.976Z"
   },
   {
    "duration": 0,
    "start_time": "2024-04-09T15:23:03.977Z"
   },
   {
    "duration": 0,
    "start_time": "2024-04-09T15:23:03.978Z"
   },
   {
    "duration": 0,
    "start_time": "2024-04-09T15:23:03.979Z"
   },
   {
    "duration": 0,
    "start_time": "2024-04-09T15:23:03.980Z"
   },
   {
    "duration": 0,
    "start_time": "2024-04-09T15:23:03.982Z"
   },
   {
    "duration": 0,
    "start_time": "2024-04-09T15:23:03.982Z"
   },
   {
    "duration": 0,
    "start_time": "2024-04-09T15:23:03.983Z"
   },
   {
    "duration": 0,
    "start_time": "2024-04-09T15:23:03.984Z"
   },
   {
    "duration": 0,
    "start_time": "2024-04-09T15:23:03.985Z"
   },
   {
    "duration": 0,
    "start_time": "2024-04-09T15:23:03.986Z"
   },
   {
    "duration": 0,
    "start_time": "2024-04-09T15:23:03.986Z"
   },
   {
    "duration": 0,
    "start_time": "2024-04-09T15:23:03.987Z"
   },
   {
    "duration": 0,
    "start_time": "2024-04-09T15:23:03.988Z"
   },
   {
    "duration": 0,
    "start_time": "2024-04-09T15:23:03.989Z"
   },
   {
    "duration": 0,
    "start_time": "2024-04-09T15:23:03.990Z"
   },
   {
    "duration": 0,
    "start_time": "2024-04-09T15:23:03.991Z"
   },
   {
    "duration": 0,
    "start_time": "2024-04-09T15:23:03.991Z"
   },
   {
    "duration": 0,
    "start_time": "2024-04-09T15:23:03.993Z"
   },
   {
    "duration": 0,
    "start_time": "2024-04-09T15:23:03.994Z"
   },
   {
    "duration": 0,
    "start_time": "2024-04-09T15:23:03.995Z"
   },
   {
    "duration": 0,
    "start_time": "2024-04-09T15:23:03.996Z"
   },
   {
    "duration": 0,
    "start_time": "2024-04-09T15:23:03.997Z"
   },
   {
    "duration": 0,
    "start_time": "2024-04-09T15:23:03.998Z"
   },
   {
    "duration": 3,
    "start_time": "2024-04-09T15:23:10.950Z"
   },
   {
    "duration": 732,
    "start_time": "2024-04-09T15:23:10.955Z"
   },
   {
    "duration": 298,
    "start_time": "2024-04-09T15:23:11.688Z"
   },
   {
    "duration": 72,
    "start_time": "2024-04-09T15:23:11.987Z"
   },
   {
    "duration": 33,
    "start_time": "2024-04-09T15:23:12.061Z"
   },
   {
    "duration": 68,
    "start_time": "2024-04-09T15:23:12.095Z"
   },
   {
    "duration": 150,
    "start_time": "2024-04-09T15:23:12.165Z"
   },
   {
    "duration": 255,
    "start_time": "2024-04-09T15:23:12.317Z"
   },
   {
    "duration": 310,
    "start_time": "2024-04-09T15:23:12.574Z"
   },
   {
    "duration": 18,
    "start_time": "2024-04-09T15:23:12.887Z"
   },
   {
    "duration": 62,
    "start_time": "2024-04-09T15:23:12.907Z"
   },
   {
    "duration": 114,
    "start_time": "2024-04-09T15:23:12.984Z"
   },
   {
    "duration": 71,
    "start_time": "2024-04-09T15:23:13.100Z"
   },
   {
    "duration": 144,
    "start_time": "2024-04-09T15:23:13.173Z"
   },
   {
    "duration": 141,
    "start_time": "2024-04-09T15:23:13.319Z"
   },
   {
    "duration": 144,
    "start_time": "2024-04-09T15:23:13.461Z"
   },
   {
    "duration": 67,
    "start_time": "2024-04-09T15:23:13.607Z"
   },
   {
    "duration": 74,
    "start_time": "2024-04-09T15:23:13.675Z"
   },
   {
    "duration": 122,
    "start_time": "2024-04-09T15:23:13.750Z"
   },
   {
    "duration": 44,
    "start_time": "2024-04-09T15:23:13.873Z"
   },
   {
    "duration": 205,
    "start_time": "2024-04-09T15:23:13.919Z"
   },
   {
    "duration": 250,
    "start_time": "2024-04-09T15:23:14.125Z"
   },
   {
    "duration": 62,
    "start_time": "2024-04-09T15:23:14.376Z"
   },
   {
    "duration": 247,
    "start_time": "2024-04-09T15:23:14.439Z"
   },
   {
    "duration": 55,
    "start_time": "2024-04-09T15:23:14.688Z"
   },
   {
    "duration": 411,
    "start_time": "2024-04-09T15:23:14.745Z"
   },
   {
    "duration": 839,
    "start_time": "2024-04-09T15:23:15.157Z"
   },
   {
    "duration": 6828,
    "start_time": "2024-04-09T15:23:16.002Z"
   },
   {
    "duration": 2,
    "start_time": "2024-04-09T15:23:22.832Z"
   },
   {
    "duration": 84460,
    "start_time": "2024-04-09T15:23:22.836Z"
   },
   {
    "duration": 91,
    "start_time": "2024-04-09T15:29:18.588Z"
   },
   {
    "duration": 9,
    "start_time": "2024-04-09T15:29:38.313Z"
   },
   {
    "duration": 32,
    "start_time": "2024-04-09T15:29:55.319Z"
   },
   {
    "duration": 7,
    "start_time": "2024-04-09T15:30:09.220Z"
   },
   {
    "duration": 6,
    "start_time": "2024-04-09T15:30:46.221Z"
   },
   {
    "duration": 3,
    "start_time": "2024-04-09T15:33:14.379Z"
   },
   {
    "duration": 3,
    "start_time": "2024-04-09T15:33:56.837Z"
   },
   {
    "duration": 1124,
    "start_time": "2024-04-09T15:34:08.148Z"
   },
   {
    "duration": 776,
    "start_time": "2024-04-09T15:34:09.274Z"
   },
   {
    "duration": 359,
    "start_time": "2024-04-09T15:34:10.052Z"
   },
   {
    "duration": 85,
    "start_time": "2024-04-09T15:34:10.412Z"
   },
   {
    "duration": 28,
    "start_time": "2024-04-09T15:34:10.498Z"
   },
   {
    "duration": 80,
    "start_time": "2024-04-09T15:34:10.528Z"
   },
   {
    "duration": 161,
    "start_time": "2024-04-09T15:34:10.610Z"
   },
   {
    "duration": 296,
    "start_time": "2024-04-09T15:34:10.773Z"
   },
   {
    "duration": 339,
    "start_time": "2024-04-09T15:34:11.071Z"
   },
   {
    "duration": 47,
    "start_time": "2024-04-09T15:34:11.413Z"
   },
   {
    "duration": 67,
    "start_time": "2024-04-09T15:34:11.462Z"
   },
   {
    "duration": 112,
    "start_time": "2024-04-09T15:34:11.530Z"
   },
   {
    "duration": 89,
    "start_time": "2024-04-09T15:34:11.644Z"
   },
   {
    "duration": 143,
    "start_time": "2024-04-09T15:34:11.735Z"
   },
   {
    "duration": 144,
    "start_time": "2024-04-09T15:34:11.884Z"
   },
   {
    "duration": 159,
    "start_time": "2024-04-09T15:34:12.030Z"
   },
   {
    "duration": 70,
    "start_time": "2024-04-09T15:34:12.190Z"
   },
   {
    "duration": 79,
    "start_time": "2024-04-09T15:34:12.262Z"
   },
   {
    "duration": 123,
    "start_time": "2024-04-09T15:34:12.342Z"
   },
   {
    "duration": 49,
    "start_time": "2024-04-09T15:34:12.467Z"
   },
   {
    "duration": 272,
    "start_time": "2024-04-09T15:34:12.517Z"
   },
   {
    "duration": 261,
    "start_time": "2024-04-09T15:34:12.791Z"
   },
   {
    "duration": 70,
    "start_time": "2024-04-09T15:34:13.053Z"
   },
   {
    "duration": 250,
    "start_time": "2024-04-09T15:34:13.124Z"
   },
   {
    "duration": 64,
    "start_time": "2024-04-09T15:34:13.376Z"
   },
   {
    "duration": 427,
    "start_time": "2024-04-09T15:34:13.441Z"
   },
   {
    "duration": 827,
    "start_time": "2024-04-09T15:34:13.869Z"
   },
   {
    "duration": 6991,
    "start_time": "2024-04-09T15:34:14.699Z"
   },
   {
    "duration": 2,
    "start_time": "2024-04-09T15:34:21.691Z"
   },
   {
    "duration": 86291,
    "start_time": "2024-04-09T15:34:21.694Z"
   },
   {
    "duration": 4,
    "start_time": "2024-04-09T15:35:47.986Z"
   },
   {
    "duration": 0,
    "start_time": "2024-04-09T15:35:47.991Z"
   },
   {
    "duration": 4,
    "start_time": "2024-04-09T15:36:09.131Z"
   },
   {
    "duration": 4,
    "start_time": "2024-04-09T15:36:42.943Z"
   },
   {
    "duration": 53,
    "start_time": "2024-04-09T15:37:21.033Z"
   },
   {
    "duration": 389,
    "start_time": "2024-04-09T15:40:02.221Z"
   },
   {
    "duration": 387,
    "start_time": "2024-04-09T15:40:07.909Z"
   },
   {
    "duration": 294,
    "start_time": "2024-04-09T15:40:51.439Z"
   },
   {
    "duration": 3368,
    "start_time": "2024-04-09T15:43:39.621Z"
   },
   {
    "duration": 3398,
    "start_time": "2024-04-09T15:43:46.287Z"
   },
   {
    "duration": 96,
    "start_time": "2024-04-09T15:45:17.362Z"
   },
   {
    "duration": 23,
    "start_time": "2024-04-09T15:45:48.119Z"
   },
   {
    "duration": 14,
    "start_time": "2024-04-09T15:46:09.254Z"
   },
   {
    "duration": 13,
    "start_time": "2024-04-09T15:46:24.721Z"
   },
   {
    "duration": 9,
    "start_time": "2024-04-09T15:46:27.691Z"
   },
   {
    "duration": 9,
    "start_time": "2024-04-09T15:48:23.265Z"
   },
   {
    "duration": 1126,
    "start_time": "2024-04-09T15:59:38.640Z"
   },
   {
    "duration": 766,
    "start_time": "2024-04-09T15:59:39.767Z"
   },
   {
    "duration": 356,
    "start_time": "2024-04-09T15:59:40.534Z"
   },
   {
    "duration": 75,
    "start_time": "2024-04-09T15:59:40.892Z"
   },
   {
    "duration": 39,
    "start_time": "2024-04-09T15:59:40.968Z"
   },
   {
    "duration": 76,
    "start_time": "2024-04-09T15:59:41.008Z"
   },
   {
    "duration": 151,
    "start_time": "2024-04-09T15:59:41.086Z"
   },
   {
    "duration": 302,
    "start_time": "2024-04-09T15:59:41.239Z"
   },
   {
    "duration": 321,
    "start_time": "2024-04-09T15:59:41.542Z"
   },
   {
    "duration": 41,
    "start_time": "2024-04-09T15:59:41.866Z"
   },
   {
    "duration": 65,
    "start_time": "2024-04-09T15:59:41.909Z"
   },
   {
    "duration": 110,
    "start_time": "2024-04-09T15:59:41.976Z"
   },
   {
    "duration": 82,
    "start_time": "2024-04-09T15:59:42.087Z"
   },
   {
    "duration": 156,
    "start_time": "2024-04-09T15:59:42.170Z"
   },
   {
    "duration": 141,
    "start_time": "2024-04-09T15:59:42.327Z"
   },
   {
    "duration": 155,
    "start_time": "2024-04-09T15:59:42.469Z"
   },
   {
    "duration": 75,
    "start_time": "2024-04-09T15:59:42.625Z"
   },
   {
    "duration": 85,
    "start_time": "2024-04-09T15:59:42.701Z"
   },
   {
    "duration": 121,
    "start_time": "2024-04-09T15:59:42.788Z"
   },
   {
    "duration": 42,
    "start_time": "2024-04-09T15:59:42.911Z"
   },
   {
    "duration": 254,
    "start_time": "2024-04-09T15:59:42.955Z"
   },
   {
    "duration": 260,
    "start_time": "2024-04-09T15:59:43.211Z"
   },
   {
    "duration": 66,
    "start_time": "2024-04-09T15:59:43.473Z"
   },
   {
    "duration": 255,
    "start_time": "2024-04-09T15:59:43.541Z"
   },
   {
    "duration": 56,
    "start_time": "2024-04-09T15:59:43.797Z"
   },
   {
    "duration": 405,
    "start_time": "2024-04-09T15:59:43.854Z"
   },
   {
    "duration": 836,
    "start_time": "2024-04-09T15:59:44.260Z"
   },
   {
    "duration": 6764,
    "start_time": "2024-04-09T15:59:45.099Z"
   },
   {
    "duration": 2,
    "start_time": "2024-04-09T15:59:51.864Z"
   },
   {
    "duration": 79618,
    "start_time": "2024-04-09T15:59:51.867Z"
   },
   {
    "duration": 35,
    "start_time": "2024-04-09T16:01:11.486Z"
   },
   {
    "duration": 458,
    "start_time": "2024-04-09T16:01:11.523Z"
   },
   {
    "duration": 4204,
    "start_time": "2024-04-09T16:01:11.982Z"
   },
   {
    "duration": 24,
    "start_time": "2024-04-09T16:01:16.188Z"
   },
   {
    "duration": 3692,
    "start_time": "2024-04-09T16:59:03.641Z"
   },
   {
    "duration": 1262,
    "start_time": "2024-04-09T16:59:07.335Z"
   },
   {
    "duration": 437,
    "start_time": "2024-04-09T16:59:08.598Z"
   },
   {
    "duration": 87,
    "start_time": "2024-04-09T16:59:09.037Z"
   },
   {
    "duration": 28,
    "start_time": "2024-04-09T16:59:09.126Z"
   },
   {
    "duration": 116,
    "start_time": "2024-04-09T16:59:09.156Z"
   },
   {
    "duration": 228,
    "start_time": "2024-04-09T16:59:09.274Z"
   },
   {
    "duration": 384,
    "start_time": "2024-04-09T16:59:09.503Z"
   },
   {
    "duration": 546,
    "start_time": "2024-04-09T16:59:09.888Z"
   },
   {
    "duration": 23,
    "start_time": "2024-04-09T16:59:10.435Z"
   },
   {
    "duration": 88,
    "start_time": "2024-04-09T16:59:10.459Z"
   },
   {
    "duration": 138,
    "start_time": "2024-04-09T16:59:10.548Z"
   },
   {
    "duration": 112,
    "start_time": "2024-04-09T16:59:10.687Z"
   },
   {
    "duration": 190,
    "start_time": "2024-04-09T16:59:10.801Z"
   },
   {
    "duration": 279,
    "start_time": "2024-04-09T16:59:10.992Z"
   },
   {
    "duration": 182,
    "start_time": "2024-04-09T16:59:11.272Z"
   },
   {
    "duration": 98,
    "start_time": "2024-04-09T16:59:11.456Z"
   },
   {
    "duration": 98,
    "start_time": "2024-04-09T16:59:11.555Z"
   },
   {
    "duration": 170,
    "start_time": "2024-04-09T16:59:11.655Z"
   },
   {
    "duration": 46,
    "start_time": "2024-04-09T16:59:11.826Z"
   },
   {
    "duration": 248,
    "start_time": "2024-04-09T16:59:11.873Z"
   },
   {
    "duration": 341,
    "start_time": "2024-04-09T16:59:12.123Z"
   },
   {
    "duration": 70,
    "start_time": "2024-04-09T16:59:12.466Z"
   },
   {
    "duration": 300,
    "start_time": "2024-04-09T16:59:12.538Z"
   },
   {
    "duration": 70,
    "start_time": "2024-04-09T16:59:12.839Z"
   },
   {
    "duration": 490,
    "start_time": "2024-04-09T16:59:12.910Z"
   },
   {
    "duration": 48415,
    "start_time": "2024-04-09T16:59:16.844Z"
   },
   {
    "duration": 12836,
    "start_time": "2024-04-09T17:00:10.946Z"
   },
   {
    "duration": 4,
    "start_time": "2024-04-09T17:00:27.706Z"
   },
   {
    "duration": 3,
    "start_time": "2024-04-09T17:07:16.561Z"
   },
   {
    "duration": 701,
    "start_time": "2024-04-09T17:07:16.566Z"
   },
   {
    "duration": 300,
    "start_time": "2024-04-09T17:07:17.269Z"
   },
   {
    "duration": 76,
    "start_time": "2024-04-09T17:07:17.570Z"
   },
   {
    "duration": 22,
    "start_time": "2024-04-09T17:07:17.648Z"
   },
   {
    "duration": 65,
    "start_time": "2024-04-09T17:07:17.684Z"
   },
   {
    "duration": 142,
    "start_time": "2024-04-09T17:07:17.750Z"
   },
   {
    "duration": 253,
    "start_time": "2024-04-09T17:07:17.893Z"
   },
   {
    "duration": 215,
    "start_time": "2024-04-09T17:07:18.147Z"
   },
   {
    "duration": 25,
    "start_time": "2024-04-09T17:07:18.363Z"
   },
   {
    "duration": 64,
    "start_time": "2024-04-09T17:07:18.389Z"
   },
   {
    "duration": 113,
    "start_time": "2024-04-09T17:07:18.454Z"
   },
   {
    "duration": 79,
    "start_time": "2024-04-09T17:07:18.569Z"
   },
   {
    "duration": 151,
    "start_time": "2024-04-09T17:07:18.649Z"
   },
   {
    "duration": 144,
    "start_time": "2024-04-09T17:07:18.802Z"
   },
   {
    "duration": 146,
    "start_time": "2024-04-09T17:07:18.948Z"
   },
   {
    "duration": 67,
    "start_time": "2024-04-09T17:07:19.095Z"
   },
   {
    "duration": 75,
    "start_time": "2024-04-09T17:07:19.163Z"
   },
   {
    "duration": 134,
    "start_time": "2024-04-09T17:07:19.239Z"
   },
   {
    "duration": 45,
    "start_time": "2024-04-09T17:07:19.374Z"
   },
   {
    "duration": 208,
    "start_time": "2024-04-09T17:07:19.421Z"
   },
   {
    "duration": 258,
    "start_time": "2024-04-09T17:07:19.630Z"
   },
   {
    "duration": 58,
    "start_time": "2024-04-09T17:07:19.889Z"
   },
   {
    "duration": 255,
    "start_time": "2024-04-09T17:07:19.949Z"
   },
   {
    "duration": 55,
    "start_time": "2024-04-09T17:07:20.205Z"
   },
   {
    "duration": 392,
    "start_time": "2024-04-09T17:07:20.261Z"
   },
   {
    "duration": 932,
    "start_time": "2024-04-09T17:07:20.654Z"
   },
   {
    "duration": 6776,
    "start_time": "2024-04-09T17:07:21.589Z"
   },
   {
    "duration": 2,
    "start_time": "2024-04-09T17:07:28.366Z"
   },
   {
    "duration": 80622,
    "start_time": "2024-04-09T17:07:28.370Z"
   },
   {
    "duration": 111,
    "start_time": "2024-04-09T17:08:48.993Z"
   },
   {
    "duration": 392,
    "start_time": "2024-04-09T17:08:49.183Z"
   },
   {
    "duration": 3021,
    "start_time": "2024-04-09T17:08:49.576Z"
   },
   {
    "duration": 102,
    "start_time": "2024-04-09T17:08:52.599Z"
   },
   {
    "duration": 0,
    "start_time": "2024-04-09T17:08:54.084Z"
   },
   {
    "duration": 1380,
    "start_time": "2024-04-09T17:08:57.563Z"
   },
   {
    "duration": 21,
    "start_time": "2024-04-09T17:09:11.260Z"
   },
   {
    "duration": 8,
    "start_time": "2024-04-09T17:20:20.898Z"
   },
   {
    "duration": 7,
    "start_time": "2024-04-09T17:21:00.081Z"
   },
   {
    "duration": 1163,
    "start_time": "2024-04-09T17:21:08.288Z"
   },
   {
    "duration": 773,
    "start_time": "2024-04-09T17:21:09.452Z"
   },
   {
    "duration": 346,
    "start_time": "2024-04-09T17:21:10.226Z"
   },
   {
    "duration": 82,
    "start_time": "2024-04-09T17:21:10.573Z"
   },
   {
    "duration": 40,
    "start_time": "2024-04-09T17:21:10.656Z"
   },
   {
    "duration": 64,
    "start_time": "2024-04-09T17:21:10.698Z"
   },
   {
    "duration": 178,
    "start_time": "2024-04-09T17:21:10.763Z"
   },
   {
    "duration": 296,
    "start_time": "2024-04-09T17:21:10.942Z"
   },
   {
    "duration": 326,
    "start_time": "2024-04-09T17:21:11.239Z"
   },
   {
    "duration": 32,
    "start_time": "2024-04-09T17:21:11.567Z"
   },
   {
    "duration": 64,
    "start_time": "2024-04-09T17:21:11.600Z"
   },
   {
    "duration": 123,
    "start_time": "2024-04-09T17:21:11.666Z"
   },
   {
    "duration": 76,
    "start_time": "2024-04-09T17:21:11.791Z"
   },
   {
    "duration": 160,
    "start_time": "2024-04-09T17:21:11.869Z"
   },
   {
    "duration": 143,
    "start_time": "2024-04-09T17:21:12.030Z"
   },
   {
    "duration": 148,
    "start_time": "2024-04-09T17:21:12.174Z"
   },
   {
    "duration": 74,
    "start_time": "2024-04-09T17:21:12.323Z"
   },
   {
    "duration": 64,
    "start_time": "2024-04-09T17:21:12.398Z"
   },
   {
    "duration": 131,
    "start_time": "2024-04-09T17:21:12.463Z"
   },
   {
    "duration": 39,
    "start_time": "2024-04-09T17:21:12.596Z"
   },
   {
    "duration": 263,
    "start_time": "2024-04-09T17:21:12.637Z"
   },
   {
    "duration": 289,
    "start_time": "2024-04-09T17:21:12.901Z"
   },
   {
    "duration": 59,
    "start_time": "2024-04-09T17:21:13.192Z"
   },
   {
    "duration": 10,
    "start_time": "2024-04-09T17:21:13.252Z"
   },
   {
    "duration": 257,
    "start_time": "2024-04-09T17:21:13.263Z"
   },
   {
    "duration": 54,
    "start_time": "2024-04-09T17:21:13.521Z"
   },
   {
    "duration": 390,
    "start_time": "2024-04-09T17:21:13.584Z"
   },
   {
    "duration": 820,
    "start_time": "2024-04-09T17:21:13.977Z"
   },
   {
    "duration": 6802,
    "start_time": "2024-04-09T17:21:14.799Z"
   },
   {
    "duration": 3,
    "start_time": "2024-04-09T17:21:21.602Z"
   },
   {
    "duration": 79488,
    "start_time": "2024-04-09T17:21:21.606Z"
   },
   {
    "duration": 35,
    "start_time": "2024-04-09T17:22:41.185Z"
   },
   {
    "duration": 450,
    "start_time": "2024-04-09T17:22:41.222Z"
   },
   {
    "duration": 3623,
    "start_time": "2024-04-09T17:22:41.673Z"
   },
   {
    "duration": 87,
    "start_time": "2024-04-09T17:22:45.298Z"
   },
   {
    "duration": 0,
    "start_time": "2024-04-09T17:22:45.491Z"
   },
   {
    "duration": 7,
    "start_time": "2024-04-09T17:22:49.166Z"
   },
   {
    "duration": 131,
    "start_time": "2024-04-09T17:23:16.371Z"
   },
   {
    "duration": 6,
    "start_time": "2024-04-09T17:23:19.402Z"
   },
   {
    "duration": 7,
    "start_time": "2024-04-09T17:23:32.781Z"
   },
   {
    "duration": 1100,
    "start_time": "2024-04-09T17:23:43.092Z"
   },
   {
    "duration": 764,
    "start_time": "2024-04-09T17:23:44.194Z"
   },
   {
    "duration": 353,
    "start_time": "2024-04-09T17:23:44.959Z"
   },
   {
    "duration": 83,
    "start_time": "2024-04-09T17:23:45.313Z"
   },
   {
    "duration": 30,
    "start_time": "2024-04-09T17:23:45.398Z"
   },
   {
    "duration": 82,
    "start_time": "2024-04-09T17:23:45.429Z"
   },
   {
    "duration": 156,
    "start_time": "2024-04-09T17:23:45.512Z"
   },
   {
    "duration": 293,
    "start_time": "2024-04-09T17:23:45.669Z"
   },
   {
    "duration": 323,
    "start_time": "2024-04-09T17:23:45.963Z"
   },
   {
    "duration": 25,
    "start_time": "2024-04-09T17:23:46.288Z"
   },
   {
    "duration": 82,
    "start_time": "2024-04-09T17:23:46.314Z"
   },
   {
    "duration": 115,
    "start_time": "2024-04-09T17:23:46.397Z"
   },
   {
    "duration": 80,
    "start_time": "2024-04-09T17:23:46.513Z"
   },
   {
    "duration": 139,
    "start_time": "2024-04-09T17:23:46.596Z"
   },
   {
    "duration": 140,
    "start_time": "2024-04-09T17:23:46.736Z"
   },
   {
    "duration": 146,
    "start_time": "2024-04-09T17:23:46.877Z"
   },
   {
    "duration": 70,
    "start_time": "2024-04-09T17:23:47.024Z"
   },
   {
    "duration": 63,
    "start_time": "2024-04-09T17:23:47.095Z"
   },
   {
    "duration": 126,
    "start_time": "2024-04-09T17:23:47.159Z"
   },
   {
    "duration": 40,
    "start_time": "2024-04-09T17:23:47.286Z"
   },
   {
    "duration": 250,
    "start_time": "2024-04-09T17:23:47.327Z"
   },
   {
    "duration": 246,
    "start_time": "2024-04-09T17:23:47.584Z"
   },
   {
    "duration": 63,
    "start_time": "2024-04-09T17:23:47.832Z"
   },
   {
    "duration": 4,
    "start_time": "2024-04-09T17:23:54.127Z"
   },
   {
    "duration": 4,
    "start_time": "2024-04-09T17:25:08.881Z"
   },
   {
    "duration": 1191,
    "start_time": "2024-04-09T17:29:05.685Z"
   },
   {
    "duration": 1023,
    "start_time": "2024-04-09T17:29:06.877Z"
   },
   {
    "duration": 344,
    "start_time": "2024-04-09T17:29:07.901Z"
   },
   {
    "duration": 85,
    "start_time": "2024-04-09T17:29:08.247Z"
   },
   {
    "duration": 27,
    "start_time": "2024-04-09T17:29:08.333Z"
   },
   {
    "duration": 87,
    "start_time": "2024-04-09T17:29:08.361Z"
   },
   {
    "duration": 153,
    "start_time": "2024-04-09T17:29:08.449Z"
   },
   {
    "duration": 308,
    "start_time": "2024-04-09T17:29:08.603Z"
   },
   {
    "duration": 328,
    "start_time": "2024-04-09T17:29:08.913Z"
   },
   {
    "duration": 17,
    "start_time": "2024-04-09T17:29:09.243Z"
   },
   {
    "duration": 77,
    "start_time": "2024-04-09T17:29:09.261Z"
   },
   {
    "duration": 118,
    "start_time": "2024-04-09T17:29:09.339Z"
   },
   {
    "duration": 93,
    "start_time": "2024-04-09T17:29:09.459Z"
   },
   {
    "duration": 156,
    "start_time": "2024-04-09T17:29:09.554Z"
   },
   {
    "duration": 140,
    "start_time": "2024-04-09T17:29:09.712Z"
   },
   {
    "duration": 137,
    "start_time": "2024-04-09T17:29:09.853Z"
   },
   {
    "duration": 66,
    "start_time": "2024-04-09T17:29:09.991Z"
   },
   {
    "duration": 89,
    "start_time": "2024-04-09T17:29:10.059Z"
   },
   {
    "duration": 117,
    "start_time": "2024-04-09T17:29:10.149Z"
   },
   {
    "duration": 47,
    "start_time": "2024-04-09T17:29:10.267Z"
   },
   {
    "duration": 248,
    "start_time": "2024-04-09T17:29:10.316Z"
   },
   {
    "duration": 263,
    "start_time": "2024-04-09T17:29:10.565Z"
   },
   {
    "duration": 61,
    "start_time": "2024-04-09T17:29:10.829Z"
   },
   {
    "duration": 105,
    "start_time": "2024-04-09T17:29:10.891Z"
   },
   {
    "duration": 0,
    "start_time": "2024-04-09T17:29:10.997Z"
   },
   {
    "duration": 0,
    "start_time": "2024-04-09T17:29:10.998Z"
   },
   {
    "duration": 0,
    "start_time": "2024-04-09T17:29:10.999Z"
   },
   {
    "duration": 0,
    "start_time": "2024-04-09T17:29:11.000Z"
   },
   {
    "duration": 0,
    "start_time": "2024-04-09T17:29:11.000Z"
   },
   {
    "duration": 0,
    "start_time": "2024-04-09T17:29:11.001Z"
   },
   {
    "duration": 0,
    "start_time": "2024-04-09T17:29:11.002Z"
   },
   {
    "duration": 0,
    "start_time": "2024-04-09T17:29:11.003Z"
   },
   {
    "duration": 0,
    "start_time": "2024-04-09T17:29:11.003Z"
   },
   {
    "duration": 0,
    "start_time": "2024-04-09T17:29:11.004Z"
   },
   {
    "duration": 0,
    "start_time": "2024-04-09T17:29:11.005Z"
   },
   {
    "duration": 62,
    "start_time": "2024-04-09T17:30:41.339Z"
   },
   {
    "duration": 161,
    "start_time": "2024-04-09T17:30:46.525Z"
   },
   {
    "duration": 58,
    "start_time": "2024-04-09T17:31:59.458Z"
   },
   {
    "duration": 3,
    "start_time": "2024-04-09T17:55:30.502Z"
   },
   {
    "duration": 816,
    "start_time": "2024-04-09T17:55:30.506Z"
   },
   {
    "duration": 296,
    "start_time": "2024-04-09T17:55:31.324Z"
   },
   {
    "duration": 83,
    "start_time": "2024-04-09T17:55:31.622Z"
   },
   {
    "duration": 22,
    "start_time": "2024-04-09T17:55:31.706Z"
   },
   {
    "duration": 78,
    "start_time": "2024-04-09T17:55:31.730Z"
   },
   {
    "duration": 138,
    "start_time": "2024-04-09T17:55:31.809Z"
   },
   {
    "duration": 267,
    "start_time": "2024-04-09T17:55:31.949Z"
   },
   {
    "duration": 222,
    "start_time": "2024-04-09T17:55:32.217Z"
   },
   {
    "duration": 16,
    "start_time": "2024-04-09T17:55:32.441Z"
   },
   {
    "duration": 70,
    "start_time": "2024-04-09T17:55:32.459Z"
   },
   {
    "duration": 116,
    "start_time": "2024-04-09T17:55:32.530Z"
   },
   {
    "duration": 103,
    "start_time": "2024-04-09T17:55:32.647Z"
   },
   {
    "duration": 144,
    "start_time": "2024-04-09T17:55:32.752Z"
   },
   {
    "duration": 139,
    "start_time": "2024-04-09T17:55:32.897Z"
   },
   {
    "duration": 143,
    "start_time": "2024-04-09T17:55:33.038Z"
   },
   {
    "duration": 71,
    "start_time": "2024-04-09T17:55:33.184Z"
   },
   {
    "duration": 71,
    "start_time": "2024-04-09T17:55:33.256Z"
   },
   {
    "duration": 121,
    "start_time": "2024-04-09T17:55:33.329Z"
   },
   {
    "duration": 45,
    "start_time": "2024-04-09T17:55:33.451Z"
   },
   {
    "duration": 201,
    "start_time": "2024-04-09T17:55:33.498Z"
   },
   {
    "duration": 256,
    "start_time": "2024-04-09T17:55:33.700Z"
   },
   {
    "duration": 60,
    "start_time": "2024-04-09T17:55:33.957Z"
   },
   {
    "duration": 243,
    "start_time": "2024-04-09T17:55:34.018Z"
   },
   {
    "duration": 62,
    "start_time": "2024-04-09T17:55:34.262Z"
   },
   {
    "duration": 404,
    "start_time": "2024-04-09T17:55:34.325Z"
   },
   {
    "duration": 776,
    "start_time": "2024-04-09T17:55:34.730Z"
   },
   {
    "duration": 6773,
    "start_time": "2024-04-09T17:55:35.509Z"
   },
   {
    "duration": 3,
    "start_time": "2024-04-09T17:55:42.284Z"
   },
   {
    "duration": 87604,
    "start_time": "2024-04-09T17:55:42.288Z"
   },
   {
    "duration": 110,
    "start_time": "2024-04-09T17:57:09.894Z"
   },
   {
    "duration": 392,
    "start_time": "2024-04-09T17:57:10.085Z"
   },
   {
    "duration": 3218,
    "start_time": "2024-04-09T17:57:10.478Z"
   },
   {
    "duration": 92,
    "start_time": "2024-04-09T17:57:13.698Z"
   },
   {
    "duration": 47,
    "start_time": "2024-04-09T17:59:24.376Z"
   },
   {
    "duration": 4,
    "start_time": "2024-04-09T18:00:04.711Z"
   },
   {
    "duration": 775,
    "start_time": "2024-04-09T18:00:12.077Z"
   },
   {
    "duration": 96,
    "start_time": "2024-04-09T18:01:28.965Z"
   },
   {
    "duration": 741,
    "start_time": "2024-04-09T18:01:36.238Z"
   },
   {
    "duration": 2008,
    "start_time": "2024-04-09T18:04:48.902Z"
   },
   {
    "duration": 2550,
    "start_time": "2024-04-09T18:05:45.108Z"
   },
   {
    "duration": 1035,
    "start_time": "2024-04-09T18:06:07.920Z"
   },
   {
    "duration": 1099,
    "start_time": "2024-04-09T18:06:23.917Z"
   },
   {
    "duration": 1032,
    "start_time": "2024-04-09T18:06:52.379Z"
   },
   {
    "duration": 1052,
    "start_time": "2024-04-09T18:07:11.336Z"
   },
   {
    "duration": 1145,
    "start_time": "2024-04-09T18:07:45.298Z"
   },
   {
    "duration": 1013,
    "start_time": "2024-04-09T18:07:46.445Z"
   },
   {
    "duration": 337,
    "start_time": "2024-04-09T18:07:47.459Z"
   },
   {
    "duration": 77,
    "start_time": "2024-04-09T18:07:47.798Z"
   },
   {
    "duration": 27,
    "start_time": "2024-04-09T18:07:47.883Z"
   },
   {
    "duration": 63,
    "start_time": "2024-04-09T18:07:47.911Z"
   },
   {
    "duration": 156,
    "start_time": "2024-04-09T18:07:47.985Z"
   },
   {
    "duration": 302,
    "start_time": "2024-04-09T18:07:48.142Z"
   },
   {
    "duration": 324,
    "start_time": "2024-04-09T18:07:48.446Z"
   },
   {
    "duration": 32,
    "start_time": "2024-04-09T18:07:48.771Z"
   },
   {
    "duration": 69,
    "start_time": "2024-04-09T18:07:48.805Z"
   },
   {
    "duration": 116,
    "start_time": "2024-04-09T18:07:48.875Z"
   },
   {
    "duration": 76,
    "start_time": "2024-04-09T18:07:48.992Z"
   },
   {
    "duration": 147,
    "start_time": "2024-04-09T18:07:49.070Z"
   },
   {
    "duration": 134,
    "start_time": "2024-04-09T18:07:49.218Z"
   },
   {
    "duration": 141,
    "start_time": "2024-04-09T18:07:49.353Z"
   },
   {
    "duration": 66,
    "start_time": "2024-04-09T18:07:49.495Z"
   },
   {
    "duration": 80,
    "start_time": "2024-04-09T18:07:49.563Z"
   },
   {
    "duration": 117,
    "start_time": "2024-04-09T18:07:49.644Z"
   },
   {
    "duration": 53,
    "start_time": "2024-04-09T18:07:49.762Z"
   },
   {
    "duration": 249,
    "start_time": "2024-04-09T18:07:49.816Z"
   },
   {
    "duration": 280,
    "start_time": "2024-04-09T18:07:50.067Z"
   },
   {
    "duration": 64,
    "start_time": "2024-04-09T18:07:50.348Z"
   },
   {
    "duration": 240,
    "start_time": "2024-04-09T18:07:50.413Z"
   },
   {
    "duration": 66,
    "start_time": "2024-04-09T18:07:50.654Z"
   },
   {
    "duration": 1811,
    "start_time": "2024-04-09T18:07:50.721Z"
   },
   {
    "duration": 173,
    "start_time": "2024-04-09T18:07:52.533Z"
   },
   {
    "duration": 1327,
    "start_time": "2024-04-09T18:07:52.707Z"
   },
   {
    "duration": 2,
    "start_time": "2024-04-09T18:07:54.035Z"
   },
   {
    "duration": 296,
    "start_time": "2024-04-09T18:07:54.038Z"
   },
   {
    "duration": 108,
    "start_time": "2024-04-09T18:07:54.335Z"
   },
   {
    "duration": 94,
    "start_time": "2024-04-09T18:07:54.444Z"
   },
   {
    "duration": 82,
    "start_time": "2024-04-09T18:07:54.540Z"
   },
   {
    "duration": 11,
    "start_time": "2024-04-09T18:07:54.623Z"
   },
   {
    "duration": 1828,
    "start_time": "2024-04-09T18:09:51.309Z"
   },
   {
    "duration": 1922,
    "start_time": "2024-04-09T18:10:11.551Z"
   },
   {
    "duration": 46,
    "start_time": "2024-04-09T18:10:47.143Z"
   },
   {
    "duration": 1180,
    "start_time": "2024-04-09T18:10:53.870Z"
   },
   {
    "duration": 1029,
    "start_time": "2024-04-09T18:10:55.052Z"
   },
   {
    "duration": 349,
    "start_time": "2024-04-09T18:10:56.082Z"
   },
   {
    "duration": 86,
    "start_time": "2024-04-09T18:10:56.433Z"
   },
   {
    "duration": 28,
    "start_time": "2024-04-09T18:10:56.521Z"
   },
   {
    "duration": 73,
    "start_time": "2024-04-09T18:10:56.551Z"
   },
   {
    "duration": 164,
    "start_time": "2024-04-09T18:10:56.625Z"
   },
   {
    "duration": 311,
    "start_time": "2024-04-09T18:10:56.790Z"
   },
   {
    "duration": 317,
    "start_time": "2024-04-09T18:10:57.102Z"
   },
   {
    "duration": 19,
    "start_time": "2024-04-09T18:10:57.421Z"
   },
   {
    "duration": 76,
    "start_time": "2024-04-09T18:10:57.442Z"
   },
   {
    "duration": 114,
    "start_time": "2024-04-09T18:10:57.519Z"
   },
   {
    "duration": 73,
    "start_time": "2024-04-09T18:10:57.634Z"
   },
   {
    "duration": 143,
    "start_time": "2024-04-09T18:10:57.708Z"
   },
   {
    "duration": 141,
    "start_time": "2024-04-09T18:10:57.853Z"
   },
   {
    "duration": 140,
    "start_time": "2024-04-09T18:10:57.995Z"
   },
   {
    "duration": 76,
    "start_time": "2024-04-09T18:10:58.136Z"
   },
   {
    "duration": 71,
    "start_time": "2024-04-09T18:10:58.213Z"
   },
   {
    "duration": 116,
    "start_time": "2024-04-09T18:10:58.286Z"
   },
   {
    "duration": 39,
    "start_time": "2024-04-09T18:10:58.404Z"
   },
   {
    "duration": 254,
    "start_time": "2024-04-09T18:10:58.444Z"
   },
   {
    "duration": 257,
    "start_time": "2024-04-09T18:10:58.699Z"
   },
   {
    "duration": 69,
    "start_time": "2024-04-09T18:10:58.957Z"
   },
   {
    "duration": 258,
    "start_time": "2024-04-09T18:10:59.027Z"
   },
   {
    "duration": 58,
    "start_time": "2024-04-09T18:10:59.286Z"
   },
   {
    "duration": 1063,
    "start_time": "2024-04-09T18:11:09.230Z"
   },
   {
    "duration": 1077,
    "start_time": "2024-04-09T18:12:21.009Z"
   },
   {
    "duration": 1147,
    "start_time": "2024-04-09T18:12:52.151Z"
   },
   {
    "duration": 6348,
    "start_time": "2024-04-09T18:13:14.893Z"
   },
   {
    "duration": 6396,
    "start_time": "2024-04-09T18:13:26.823Z"
   },
   {
    "duration": 1098,
    "start_time": "2024-04-09T18:13:57.952Z"
   },
   {
    "duration": 774,
    "start_time": "2024-04-09T18:13:59.051Z"
   },
   {
    "duration": 348,
    "start_time": "2024-04-09T18:13:59.827Z"
   },
   {
    "duration": 83,
    "start_time": "2024-04-09T18:14:00.177Z"
   },
   {
    "duration": 33,
    "start_time": "2024-04-09T18:14:00.261Z"
   },
   {
    "duration": 134,
    "start_time": "2024-04-09T18:14:00.295Z"
   },
   {
    "duration": 176,
    "start_time": "2024-04-09T18:14:00.431Z"
   },
   {
    "duration": 347,
    "start_time": "2024-04-09T18:14:00.608Z"
   },
   {
    "duration": 331,
    "start_time": "2024-04-09T18:14:00.956Z"
   },
   {
    "duration": 19,
    "start_time": "2024-04-09T18:14:01.289Z"
   },
   {
    "duration": 89,
    "start_time": "2024-04-09T18:14:01.309Z"
   },
   {
    "duration": 111,
    "start_time": "2024-04-09T18:14:01.399Z"
   },
   {
    "duration": 84,
    "start_time": "2024-04-09T18:14:01.511Z"
   },
   {
    "duration": 137,
    "start_time": "2024-04-09T18:14:01.597Z"
   },
   {
    "duration": 148,
    "start_time": "2024-04-09T18:14:01.736Z"
   },
   {
    "duration": 141,
    "start_time": "2024-04-09T18:14:01.885Z"
   },
   {
    "duration": 75,
    "start_time": "2024-04-09T18:14:02.027Z"
   },
   {
    "duration": 68,
    "start_time": "2024-04-09T18:14:02.103Z"
   },
   {
    "duration": 128,
    "start_time": "2024-04-09T18:14:02.172Z"
   },
   {
    "duration": 41,
    "start_time": "2024-04-09T18:14:02.301Z"
   },
   {
    "duration": 247,
    "start_time": "2024-04-09T18:14:02.343Z"
   },
   {
    "duration": 289,
    "start_time": "2024-04-09T18:14:02.591Z"
   },
   {
    "duration": 56,
    "start_time": "2024-04-09T18:14:02.884Z"
   },
   {
    "duration": 249,
    "start_time": "2024-04-09T18:14:02.941Z"
   },
   {
    "duration": 55,
    "start_time": "2024-04-09T18:14:03.191Z"
   },
   {
    "duration": 6410,
    "start_time": "2024-04-09T18:14:03.247Z"
   },
   {
    "duration": 0,
    "start_time": "2024-04-09T18:14:09.658Z"
   },
   {
    "duration": 0,
    "start_time": "2024-04-09T18:14:09.659Z"
   },
   {
    "duration": 0,
    "start_time": "2024-04-09T18:14:09.660Z"
   },
   {
    "duration": 0,
    "start_time": "2024-04-09T18:14:09.661Z"
   },
   {
    "duration": 0,
    "start_time": "2024-04-09T18:14:09.662Z"
   },
   {
    "duration": 0,
    "start_time": "2024-04-09T18:14:09.663Z"
   },
   {
    "duration": 0,
    "start_time": "2024-04-09T18:14:09.663Z"
   },
   {
    "duration": 0,
    "start_time": "2024-04-09T18:14:09.664Z"
   },
   {
    "duration": 1138,
    "start_time": "2024-04-09T18:14:32.887Z"
   },
   {
    "duration": 1099,
    "start_time": "2024-04-09T18:14:54.901Z"
   },
   {
    "duration": 1035,
    "start_time": "2024-04-09T18:15:01.275Z"
   },
   {
    "duration": 1789,
    "start_time": "2024-04-09T18:15:24.786Z"
   },
   {
    "duration": 1134,
    "start_time": "2024-04-09T18:21:27.353Z"
   },
   {
    "duration": 1009,
    "start_time": "2024-04-09T18:21:28.488Z"
   },
   {
    "duration": 350,
    "start_time": "2024-04-09T18:21:29.498Z"
   },
   {
    "duration": 83,
    "start_time": "2024-04-09T18:21:29.849Z"
   },
   {
    "duration": 29,
    "start_time": "2024-04-09T18:21:29.934Z"
   },
   {
    "duration": 71,
    "start_time": "2024-04-09T18:21:29.964Z"
   },
   {
    "duration": 201,
    "start_time": "2024-04-09T18:21:30.036Z"
   },
   {
    "duration": 297,
    "start_time": "2024-04-09T18:21:30.239Z"
   },
   {
    "duration": 334,
    "start_time": "2024-04-09T18:21:30.537Z"
   },
   {
    "duration": 27,
    "start_time": "2024-04-09T18:21:30.873Z"
   },
   {
    "duration": 77,
    "start_time": "2024-04-09T18:21:30.901Z"
   },
   {
    "duration": 108,
    "start_time": "2024-04-09T18:21:30.979Z"
   },
   {
    "duration": 78,
    "start_time": "2024-04-09T18:21:31.088Z"
   },
   {
    "duration": 167,
    "start_time": "2024-04-09T18:21:31.169Z"
   },
   {
    "duration": 138,
    "start_time": "2024-04-09T18:21:31.337Z"
   },
   {
    "duration": 142,
    "start_time": "2024-04-09T18:21:31.476Z"
   },
   {
    "duration": 74,
    "start_time": "2024-04-09T18:21:31.619Z"
   },
   {
    "duration": 65,
    "start_time": "2024-04-09T18:21:31.694Z"
   },
   {
    "duration": 128,
    "start_time": "2024-04-09T18:21:31.761Z"
   },
   {
    "duration": 41,
    "start_time": "2024-04-09T18:21:31.891Z"
   },
   {
    "duration": 279,
    "start_time": "2024-04-09T18:21:31.933Z"
   },
   {
    "duration": 259,
    "start_time": "2024-04-09T18:21:32.214Z"
   },
   {
    "duration": 63,
    "start_time": "2024-04-09T18:21:32.474Z"
   },
   {
    "duration": 263,
    "start_time": "2024-04-09T18:21:32.538Z"
   },
   {
    "duration": 56,
    "start_time": "2024-04-09T18:21:32.802Z"
   },
   {
    "duration": 1970,
    "start_time": "2024-04-09T18:21:32.860Z"
   },
   {
    "duration": 0,
    "start_time": "2024-04-09T18:21:34.831Z"
   },
   {
    "duration": 0,
    "start_time": "2024-04-09T18:21:34.833Z"
   },
   {
    "duration": 0,
    "start_time": "2024-04-09T18:21:34.834Z"
   },
   {
    "duration": 0,
    "start_time": "2024-04-09T18:21:34.835Z"
   },
   {
    "duration": 0,
    "start_time": "2024-04-09T18:21:34.836Z"
   },
   {
    "duration": 0,
    "start_time": "2024-04-09T18:21:34.837Z"
   },
   {
    "duration": 0,
    "start_time": "2024-04-09T18:21:34.839Z"
   },
   {
    "duration": 0,
    "start_time": "2024-04-09T18:21:34.840Z"
   },
   {
    "duration": 2126,
    "start_time": "2024-04-09T18:21:57.588Z"
   },
   {
    "duration": 2182,
    "start_time": "2024-04-09T18:22:43.530Z"
   },
   {
    "duration": 2151,
    "start_time": "2024-04-09T18:23:23.073Z"
   },
   {
    "duration": 2086,
    "start_time": "2024-04-09T18:26:03.673Z"
   },
   {
    "duration": 2173,
    "start_time": "2024-04-09T18:26:16.560Z"
   },
   {
    "duration": 2159,
    "start_time": "2024-04-09T18:26:26.264Z"
   },
   {
    "duration": 2135,
    "start_time": "2024-04-09T18:26:41.529Z"
   },
   {
    "duration": 1847,
    "start_time": "2024-04-09T18:27:15.717Z"
   },
   {
    "duration": 1863,
    "start_time": "2024-04-09T18:27:43.911Z"
   },
   {
    "duration": 1745,
    "start_time": "2024-04-09T18:28:02.181Z"
   },
   {
    "duration": 2115,
    "start_time": "2024-04-09T18:28:22.357Z"
   },
   {
    "duration": 2090,
    "start_time": "2024-04-09T18:28:31.760Z"
   },
   {
    "duration": 2099,
    "start_time": "2024-04-09T18:28:55.542Z"
   },
   {
    "duration": 2054,
    "start_time": "2024-04-09T18:29:04.890Z"
   },
   {
    "duration": 89,
    "start_time": "2024-04-09T18:30:09.356Z"
   },
   {
    "duration": 85,
    "start_time": "2024-04-09T18:31:27.699Z"
   },
   {
    "duration": 77,
    "start_time": "2024-04-09T18:33:22.009Z"
   },
   {
    "duration": 55065,
    "start_time": "2024-04-09T18:33:33.959Z"
   },
   {
    "duration": 11015,
    "start_time": "2024-04-09T18:42:53.878Z"
   },
   {
    "duration": 214669,
    "start_time": "2024-04-09T18:43:21.451Z"
   },
   {
    "duration": 172,
    "start_time": "2024-04-09T18:49:17.682Z"
   },
   {
    "duration": 87808,
    "start_time": "2024-04-09T18:49:29.683Z"
   },
   {
    "duration": 14040,
    "start_time": "2024-04-09T19:13:56.245Z"
   },
   {
    "duration": 75,
    "start_time": "2024-04-09T19:16:57.322Z"
   },
   {
    "duration": 5,
    "start_time": "2024-04-09T19:17:52.388Z"
   },
   {
    "duration": 495,
    "start_time": "2024-04-09T19:21:35.325Z"
   },
   {
    "duration": 10,
    "start_time": "2024-04-09T19:22:49.254Z"
   },
   {
    "duration": 3,
    "start_time": "2024-04-09T19:23:35.168Z"
   },
   {
    "duration": 23671,
    "start_time": "2024-04-09T19:24:40.494Z"
   },
   {
    "duration": 60,
    "start_time": "2024-04-09T19:25:24.166Z"
   },
   {
    "duration": 4,
    "start_time": "2024-04-09T19:25:55.001Z"
   },
   {
    "duration": 16865,
    "start_time": "2024-04-09T19:27:00.029Z"
   },
   {
    "duration": 379,
    "start_time": "2024-04-09T19:27:38.617Z"
   },
   {
    "duration": 4,
    "start_time": "2024-04-09T19:27:55.621Z"
   },
   {
    "duration": 82,
    "start_time": "2024-04-09T19:36:43.509Z"
   },
   {
    "duration": 11,
    "start_time": "2024-04-09T19:36:48.090Z"
   },
   {
    "duration": 25,
    "start_time": "2024-04-09T19:36:55.521Z"
   },
   {
    "duration": 1174,
    "start_time": "2024-04-09T19:43:37.978Z"
   },
   {
    "duration": 763,
    "start_time": "2024-04-09T19:43:39.154Z"
   },
   {
    "duration": 352,
    "start_time": "2024-04-09T19:43:39.918Z"
   },
   {
    "duration": 78,
    "start_time": "2024-04-09T19:43:40.271Z"
   },
   {
    "duration": 36,
    "start_time": "2024-04-09T19:43:40.351Z"
   },
   {
    "duration": 63,
    "start_time": "2024-04-09T19:43:40.388Z"
   },
   {
    "duration": 170,
    "start_time": "2024-04-09T19:43:40.453Z"
   },
   {
    "duration": 297,
    "start_time": "2024-04-09T19:43:40.624Z"
   },
   {
    "duration": 320,
    "start_time": "2024-04-09T19:43:40.923Z"
   },
   {
    "duration": 19,
    "start_time": "2024-04-09T19:43:41.244Z"
   },
   {
    "duration": 81,
    "start_time": "2024-04-09T19:43:41.264Z"
   },
   {
    "duration": 112,
    "start_time": "2024-04-09T19:43:41.346Z"
   },
   {
    "duration": 88,
    "start_time": "2024-04-09T19:43:41.459Z"
   },
   {
    "duration": 144,
    "start_time": "2024-04-09T19:43:41.550Z"
   },
   {
    "duration": 140,
    "start_time": "2024-04-09T19:43:41.695Z"
   },
   {
    "duration": 144,
    "start_time": "2024-04-09T19:43:41.836Z"
   },
   {
    "duration": 64,
    "start_time": "2024-04-09T19:43:41.981Z"
   },
   {
    "duration": 76,
    "start_time": "2024-04-09T19:43:42.046Z"
   },
   {
    "duration": 129,
    "start_time": "2024-04-09T19:43:42.123Z"
   },
   {
    "duration": 47,
    "start_time": "2024-04-09T19:43:42.253Z"
   },
   {
    "duration": 242,
    "start_time": "2024-04-09T19:43:42.301Z"
   },
   {
    "duration": 282,
    "start_time": "2024-04-09T19:43:42.544Z"
   },
   {
    "duration": 62,
    "start_time": "2024-04-09T19:43:42.827Z"
   },
   {
    "duration": 240,
    "start_time": "2024-04-09T19:43:42.890Z"
   },
   {
    "duration": 61,
    "start_time": "2024-04-09T19:43:43.131Z"
   },
   {
    "duration": 2001,
    "start_time": "2024-04-09T19:43:43.193Z"
   },
   {
    "duration": 52890,
    "start_time": "2024-04-09T19:43:45.195Z"
   },
   {
    "duration": 10705,
    "start_time": "2024-04-09T19:44:38.087Z"
   },
   {
    "duration": 84785,
    "start_time": "2024-04-09T19:48:18.500Z"
   },
   {
    "duration": 13098,
    "start_time": "2024-04-09T19:49:43.287Z"
   },
   {
    "duration": 117,
    "start_time": "2024-04-09T19:49:56.387Z"
   },
   {
    "duration": 82,
    "start_time": "2024-04-09T19:49:56.505Z"
   },
   {
    "duration": 572,
    "start_time": "2024-04-09T19:49:56.588Z"
   },
   {
    "duration": 10,
    "start_time": "2024-04-09T19:49:57.161Z"
   },
   {
    "duration": 14,
    "start_time": "2024-04-09T19:49:57.172Z"
   },
   {
    "duration": 1106,
    "start_time": "2024-04-09T19:50:21.316Z"
   },
   {
    "duration": 769,
    "start_time": "2024-04-09T19:50:22.424Z"
   },
   {
    "duration": 351,
    "start_time": "2024-04-09T19:50:23.194Z"
   },
   {
    "duration": 89,
    "start_time": "2024-04-09T19:50:23.547Z"
   },
   {
    "duration": 28,
    "start_time": "2024-04-09T19:50:23.637Z"
   },
   {
    "duration": 78,
    "start_time": "2024-04-09T19:50:23.666Z"
   },
   {
    "duration": 160,
    "start_time": "2024-04-09T19:50:23.745Z"
   },
   {
    "duration": 315,
    "start_time": "2024-04-09T19:50:23.906Z"
   },
   {
    "duration": 318,
    "start_time": "2024-04-09T19:50:24.222Z"
   },
   {
    "duration": 18,
    "start_time": "2024-04-09T19:50:24.541Z"
   },
   {
    "duration": 82,
    "start_time": "2024-04-09T19:50:24.560Z"
   },
   {
    "duration": 115,
    "start_time": "2024-04-09T19:50:24.643Z"
   },
   {
    "duration": 83,
    "start_time": "2024-04-09T19:50:24.759Z"
   },
   {
    "duration": 136,
    "start_time": "2024-04-09T19:50:24.844Z"
   },
   {
    "duration": 136,
    "start_time": "2024-04-09T19:50:24.981Z"
   },
   {
    "duration": 141,
    "start_time": "2024-04-09T19:50:25.118Z"
   },
   {
    "duration": 69,
    "start_time": "2024-04-09T19:50:25.260Z"
   },
   {
    "duration": 68,
    "start_time": "2024-04-09T19:50:25.331Z"
   },
   {
    "duration": 122,
    "start_time": "2024-04-09T19:50:25.401Z"
   },
   {
    "duration": 41,
    "start_time": "2024-04-09T19:50:25.524Z"
   },
   {
    "duration": 264,
    "start_time": "2024-04-09T19:50:25.566Z"
   },
   {
    "duration": 256,
    "start_time": "2024-04-09T19:50:25.832Z"
   },
   {
    "duration": 57,
    "start_time": "2024-04-09T19:50:26.090Z"
   },
   {
    "duration": 253,
    "start_time": "2024-04-09T19:50:26.148Z"
   },
   {
    "duration": 55,
    "start_time": "2024-04-09T19:50:26.402Z"
   },
   {
    "duration": 2052,
    "start_time": "2024-04-09T19:50:26.459Z"
   },
   {
    "duration": 55572,
    "start_time": "2024-04-09T19:50:28.513Z"
   },
   {
    "duration": 10624,
    "start_time": "2024-04-09T19:51:24.087Z"
   },
   {
    "duration": 207857,
    "start_time": "2024-04-09T19:51:34.712Z"
   },
   {
    "duration": 82921,
    "start_time": "2024-04-09T19:55:02.571Z"
   },
   {
    "duration": 12805,
    "start_time": "2024-04-09T19:56:25.584Z"
   },
   {
    "duration": 197,
    "start_time": "2024-04-09T19:56:38.390Z"
   },
   {
    "duration": 5,
    "start_time": "2024-04-09T19:56:38.588Z"
   },
   {
    "duration": 487,
    "start_time": "2024-04-09T19:56:38.685Z"
   },
   {
    "duration": 21,
    "start_time": "2024-04-09T19:56:39.173Z"
   },
   {
    "duration": 14,
    "start_time": "2024-04-09T19:56:39.195Z"
   },
   {
    "duration": 22867,
    "start_time": "2024-04-09T19:56:39.210Z"
   },
   {
    "duration": 63,
    "start_time": "2024-04-09T19:57:02.079Z"
   },
   {
    "duration": 5,
    "start_time": "2024-04-09T19:57:02.144Z"
   },
   {
    "duration": 7835,
    "start_time": "2024-04-09T19:57:02.150Z"
   },
   {
    "duration": 410,
    "start_time": "2024-04-09T19:57:09.988Z"
   },
   {
    "duration": 83,
    "start_time": "2024-04-09T19:57:10.400Z"
   },
   {
    "duration": 24,
    "start_time": "2024-04-09T19:57:10.485Z"
   },
   {
    "duration": 52,
    "start_time": "2024-04-11T16:21:37.606Z"
   },
   {
    "duration": 1333,
    "start_time": "2024-04-11T16:21:42.330Z"
   },
   {
    "duration": 3198,
    "start_time": "2024-04-11T16:21:43.666Z"
   },
   {
    "duration": 460,
    "start_time": "2024-04-11T16:21:46.865Z"
   },
   {
    "duration": 99,
    "start_time": "2024-04-11T16:21:47.327Z"
   },
   {
    "duration": 30,
    "start_time": "2024-04-11T16:21:47.428Z"
   },
   {
    "duration": 111,
    "start_time": "2024-04-11T16:21:47.459Z"
   },
   {
    "duration": 214,
    "start_time": "2024-04-11T16:21:47.572Z"
   },
   {
    "duration": 448,
    "start_time": "2024-04-11T16:21:47.787Z"
   },
   {
    "duration": 613,
    "start_time": "2024-04-11T16:21:48.237Z"
   },
   {
    "duration": 28,
    "start_time": "2024-04-11T16:21:48.859Z"
   },
   {
    "duration": 86,
    "start_time": "2024-04-11T16:21:48.888Z"
   },
   {
    "duration": 152,
    "start_time": "2024-04-11T16:21:48.976Z"
   },
   {
    "duration": 122,
    "start_time": "2024-04-11T16:21:49.130Z"
   },
   {
    "duration": 318,
    "start_time": "2024-04-11T16:21:49.255Z"
   },
   {
    "duration": 198,
    "start_time": "2024-04-11T16:21:49.575Z"
   },
   {
    "duration": 198,
    "start_time": "2024-04-11T16:21:49.775Z"
   },
   {
    "duration": 110,
    "start_time": "2024-04-11T16:21:49.974Z"
   },
   {
    "duration": 111,
    "start_time": "2024-04-11T16:21:50.086Z"
   },
   {
    "duration": 188,
    "start_time": "2024-04-11T16:21:50.199Z"
   },
   {
    "duration": 58,
    "start_time": "2024-04-11T16:21:50.389Z"
   },
   {
    "duration": 273,
    "start_time": "2024-04-11T16:21:50.448Z"
   },
   {
    "duration": 409,
    "start_time": "2024-04-11T16:21:50.723Z"
   },
   {
    "duration": 66,
    "start_time": "2024-04-11T16:21:51.134Z"
   },
   {
    "duration": 328,
    "start_time": "2024-04-11T16:21:51.214Z"
   },
   {
    "duration": 73,
    "start_time": "2024-04-11T16:21:51.543Z"
   },
   {
    "duration": 6,
    "start_time": "2024-04-11T16:23:14.018Z"
   },
   {
    "duration": 1080,
    "start_time": "2024-04-11T16:23:14.115Z"
   },
   {
    "duration": 408,
    "start_time": "2024-04-11T16:23:15.196Z"
   },
   {
    "duration": 91,
    "start_time": "2024-04-11T16:23:15.606Z"
   },
   {
    "duration": 36,
    "start_time": "2024-04-11T16:23:15.699Z"
   },
   {
    "duration": 113,
    "start_time": "2024-04-11T16:23:15.737Z"
   },
   {
    "duration": 190,
    "start_time": "2024-04-11T16:23:15.851Z"
   },
   {
    "duration": 353,
    "start_time": "2024-04-11T16:23:16.042Z"
   },
   {
    "duration": 273,
    "start_time": "2024-04-11T16:23:16.397Z"
   },
   {
    "duration": 22,
    "start_time": "2024-04-11T16:23:16.672Z"
   },
   {
    "duration": 81,
    "start_time": "2024-04-11T16:23:16.695Z"
   },
   {
    "duration": 148,
    "start_time": "2024-04-11T16:23:16.778Z"
   },
   {
    "duration": 108,
    "start_time": "2024-04-11T16:23:16.927Z"
   },
   {
    "duration": 211,
    "start_time": "2024-04-11T16:23:17.037Z"
   },
   {
    "duration": 202,
    "start_time": "2024-04-11T16:23:17.249Z"
   },
   {
    "duration": 203,
    "start_time": "2024-04-11T16:23:17.453Z"
   },
   {
    "duration": 107,
    "start_time": "2024-04-11T16:23:17.658Z"
   },
   {
    "duration": 111,
    "start_time": "2024-04-11T16:23:17.768Z"
   },
   {
    "duration": 203,
    "start_time": "2024-04-11T16:23:17.881Z"
   },
   {
    "duration": 59,
    "start_time": "2024-04-11T16:23:18.087Z"
   },
   {
    "duration": 268,
    "start_time": "2024-04-11T16:23:18.148Z"
   },
   {
    "duration": 356,
    "start_time": "2024-04-11T16:23:18.418Z"
   },
   {
    "duration": 87,
    "start_time": "2024-04-11T16:23:18.776Z"
   },
   {
    "duration": 336,
    "start_time": "2024-04-11T16:23:18.865Z"
   },
   {
    "duration": 73,
    "start_time": "2024-04-11T16:23:19.203Z"
   },
   {
    "duration": 3697,
    "start_time": "2024-04-11T16:23:19.278Z"
   },
   {
    "duration": 78145,
    "start_time": "2024-04-11T16:23:22.977Z"
   },
   {
    "duration": 12690,
    "start_time": "2024-04-11T16:24:41.124Z"
   },
   {
    "duration": 8,
    "start_time": "2024-04-11T16:24:57.518Z"
   },
   {
    "duration": 95,
    "start_time": "2024-04-11T16:34:06.277Z"
   },
   {
    "duration": 9,
    "start_time": "2024-04-11T16:34:10.294Z"
   },
   {
    "duration": 11,
    "start_time": "2024-04-11T16:34:17.568Z"
   },
   {
    "duration": 7,
    "start_time": "2024-04-11T16:44:46.486Z"
   },
   {
    "duration": 23,
    "start_time": "2024-04-11T16:44:51.591Z"
   },
   {
    "duration": 3,
    "start_time": "2024-04-11T16:54:15.439Z"
   },
   {
    "duration": 4,
    "start_time": "2024-04-11T16:56:04.541Z"
   },
   {
    "duration": 4,
    "start_time": "2024-04-11T16:56:37.815Z"
   },
   {
    "duration": 1412,
    "start_time": "2024-04-11T17:04:04.580Z"
   },
   {
    "duration": 1110,
    "start_time": "2024-04-11T17:04:05.993Z"
   },
   {
    "duration": 512,
    "start_time": "2024-04-11T17:04:07.105Z"
   },
   {
    "duration": 101,
    "start_time": "2024-04-11T17:04:07.619Z"
   },
   {
    "duration": 30,
    "start_time": "2024-04-11T17:04:07.723Z"
   },
   {
    "duration": 115,
    "start_time": "2024-04-11T17:04:07.755Z"
   },
   {
    "duration": 220,
    "start_time": "2024-04-11T17:04:07.872Z"
   },
   {
    "duration": 433,
    "start_time": "2024-04-11T17:04:08.093Z"
   },
   {
    "duration": 456,
    "start_time": "2024-04-11T17:04:08.527Z"
   },
   {
    "duration": 34,
    "start_time": "2024-04-11T17:04:08.985Z"
   },
   {
    "duration": 77,
    "start_time": "2024-04-11T17:04:09.020Z"
   },
   {
    "duration": 157,
    "start_time": "2024-04-11T17:04:09.099Z"
   },
   {
    "duration": 123,
    "start_time": "2024-04-11T17:04:09.257Z"
   },
   {
    "duration": 212,
    "start_time": "2024-04-11T17:04:09.383Z"
   },
   {
    "duration": 208,
    "start_time": "2024-04-11T17:04:09.597Z"
   },
   {
    "duration": 210,
    "start_time": "2024-04-11T17:04:09.806Z"
   },
   {
    "duration": 145,
    "start_time": "2024-04-11T17:04:10.018Z"
   },
   {
    "duration": 115,
    "start_time": "2024-04-11T17:04:10.165Z"
   },
   {
    "duration": 192,
    "start_time": "2024-04-11T17:04:10.281Z"
   },
   {
    "duration": 60,
    "start_time": "2024-04-11T17:04:10.475Z"
   },
   {
    "duration": 347,
    "start_time": "2024-04-11T17:04:10.537Z"
   },
   {
    "duration": 383,
    "start_time": "2024-04-11T17:04:10.886Z"
   },
   {
    "duration": 77,
    "start_time": "2024-04-11T17:04:11.270Z"
   },
   {
    "duration": 363,
    "start_time": "2024-04-11T17:04:11.348Z"
   },
   {
    "duration": 67,
    "start_time": "2024-04-11T17:04:11.715Z"
   },
   {
    "duration": 3419,
    "start_time": "2024-04-11T17:04:11.784Z"
   },
   {
    "duration": 3,
    "start_time": "2024-04-11T17:04:15.204Z"
   },
   {
    "duration": 1322,
    "start_time": "2024-04-11T17:07:35.344Z"
   },
   {
    "duration": 1150,
    "start_time": "2024-04-11T17:07:36.668Z"
   },
   {
    "duration": 571,
    "start_time": "2024-04-11T17:07:37.820Z"
   },
   {
    "duration": 117,
    "start_time": "2024-04-11T17:07:38.394Z"
   },
   {
    "duration": 42,
    "start_time": "2024-04-11T17:07:38.513Z"
   },
   {
    "duration": 107,
    "start_time": "2024-04-11T17:07:38.557Z"
   },
   {
    "duration": 237,
    "start_time": "2024-04-11T17:07:38.665Z"
   },
   {
    "duration": 425,
    "start_time": "2024-04-11T17:07:38.904Z"
   },
   {
    "duration": 452,
    "start_time": "2024-04-11T17:07:39.332Z"
   },
   {
    "duration": 45,
    "start_time": "2024-04-11T17:07:39.788Z"
   },
   {
    "duration": 77,
    "start_time": "2024-04-11T17:07:39.835Z"
   },
   {
    "duration": 154,
    "start_time": "2024-04-11T17:07:39.916Z"
   },
   {
    "duration": 134,
    "start_time": "2024-04-11T17:07:40.073Z"
   },
   {
    "duration": 259,
    "start_time": "2024-04-11T17:07:40.209Z"
   },
   {
    "duration": 222,
    "start_time": "2024-04-11T17:07:40.470Z"
   },
   {
    "duration": 258,
    "start_time": "2024-04-11T17:07:40.694Z"
   },
   {
    "duration": 127,
    "start_time": "2024-04-11T17:07:40.955Z"
   },
   {
    "duration": 149,
    "start_time": "2024-04-11T17:07:41.084Z"
   },
   {
    "duration": 199,
    "start_time": "2024-04-11T17:07:41.234Z"
   },
   {
    "duration": 48,
    "start_time": "2024-04-11T17:07:41.435Z"
   },
   {
    "duration": 361,
    "start_time": "2024-04-11T17:07:41.484Z"
   },
   {
    "duration": 414,
    "start_time": "2024-04-11T17:07:41.846Z"
   },
   {
    "duration": 84,
    "start_time": "2024-04-11T17:07:42.262Z"
   },
   {
    "duration": 377,
    "start_time": "2024-04-11T17:07:42.348Z"
   },
   {
    "duration": 65,
    "start_time": "2024-04-11T17:07:42.734Z"
   },
   {
    "duration": 3820,
    "start_time": "2024-04-11T17:07:42.800Z"
   },
   {
    "duration": 8,
    "start_time": "2024-04-11T17:07:46.622Z"
   },
   {
    "duration": 133117,
    "start_time": "2024-04-11T17:07:50.207Z"
   },
   {
    "duration": 13390,
    "start_time": "2024-04-11T17:10:35.239Z"
   },
   {
    "duration": 118633,
    "start_time": "2024-04-11T17:15:04.586Z"
   },
   {
    "duration": 98950,
    "start_time": "2024-04-11T17:19:08.770Z"
   },
   {
    "duration": 13048,
    "start_time": "2024-04-11T17:22:15.718Z"
   },
   {
    "duration": 253399,
    "start_time": "2024-04-11T17:23:56.891Z"
   },
   {
    "duration": 5,
    "start_time": "2024-04-11T17:31:15.348Z"
   },
   {
    "duration": 1057,
    "start_time": "2024-04-11T17:31:15.355Z"
   },
   {
    "duration": 405,
    "start_time": "2024-04-11T17:31:16.415Z"
   },
   {
    "duration": 95,
    "start_time": "2024-04-11T17:31:16.822Z"
   },
   {
    "duration": 26,
    "start_time": "2024-04-11T17:31:16.919Z"
   },
   {
    "duration": 140,
    "start_time": "2024-04-11T17:31:16.947Z"
   },
   {
    "duration": 182,
    "start_time": "2024-04-11T17:31:17.089Z"
   },
   {
    "duration": 346,
    "start_time": "2024-04-11T17:31:17.272Z"
   },
   {
    "duration": 263,
    "start_time": "2024-04-11T17:31:17.620Z"
   },
   {
    "duration": 30,
    "start_time": "2024-04-11T17:31:17.884Z"
   },
   {
    "duration": 71,
    "start_time": "2024-04-11T17:31:17.917Z"
   },
   {
    "duration": 160,
    "start_time": "2024-04-11T17:31:17.989Z"
   },
   {
    "duration": 120,
    "start_time": "2024-04-11T17:31:18.151Z"
   },
   {
    "duration": 211,
    "start_time": "2024-04-11T17:31:18.273Z"
   },
   {
    "duration": 236,
    "start_time": "2024-04-11T17:31:18.485Z"
   },
   {
    "duration": 202,
    "start_time": "2024-04-11T17:31:18.723Z"
   },
   {
    "duration": 115,
    "start_time": "2024-04-11T17:31:18.927Z"
   },
   {
    "duration": 110,
    "start_time": "2024-04-11T17:31:19.044Z"
   },
   {
    "duration": 191,
    "start_time": "2024-04-11T17:31:19.155Z"
   },
   {
    "duration": 47,
    "start_time": "2024-04-11T17:31:19.348Z"
   },
   {
    "duration": 278,
    "start_time": "2024-04-11T17:31:19.396Z"
   },
   {
    "duration": 391,
    "start_time": "2024-04-11T17:31:19.676Z"
   },
   {
    "duration": 81,
    "start_time": "2024-04-11T17:31:20.069Z"
   },
   {
    "duration": 321,
    "start_time": "2024-04-11T17:31:20.151Z"
   },
   {
    "duration": 73,
    "start_time": "2024-04-11T17:31:20.473Z"
   },
   {
    "duration": 3417,
    "start_time": "2024-04-11T17:31:20.547Z"
   },
   {
    "duration": 2,
    "start_time": "2024-04-11T17:31:23.966Z"
   },
   {
    "duration": 98654,
    "start_time": "2024-04-11T17:31:23.970Z"
   },
   {
    "duration": 13051,
    "start_time": "2024-04-11T17:33:02.719Z"
   },
   {
    "duration": 252953,
    "start_time": "2024-04-11T17:33:15.771Z"
   },
   {
    "duration": 113801,
    "start_time": "2024-04-11T17:37:28.726Z"
   },
   {
    "duration": 3,
    "start_time": "2024-04-11T17:40:36.930Z"
   },
   {
    "duration": 2,
    "start_time": "2024-04-11T17:40:40.361Z"
   },
   {
    "duration": 2,
    "start_time": "2024-04-11T17:40:45.219Z"
   },
   {
    "duration": 3,
    "start_time": "2024-04-11T17:40:55.347Z"
   },
   {
    "duration": 3,
    "start_time": "2024-04-11T17:41:04.082Z"
   },
   {
    "duration": 2,
    "start_time": "2024-04-11T17:41:12.406Z"
   },
   {
    "duration": 2,
    "start_time": "2024-04-11T17:41:15.992Z"
   },
   {
    "duration": 3,
    "start_time": "2024-04-11T17:41:20.392Z"
   },
   {
    "duration": 2,
    "start_time": "2024-04-11T17:41:31.046Z"
   },
   {
    "duration": 2,
    "start_time": "2024-04-11T17:41:33.941Z"
   },
   {
    "duration": 2,
    "start_time": "2024-04-11T17:41:37.422Z"
   },
   {
    "duration": 119,
    "start_time": "2024-04-11T17:41:55.304Z"
   },
   {
    "duration": 32,
    "start_time": "2024-04-11T17:42:43.914Z"
   },
   {
    "duration": 12,
    "start_time": "2024-04-11T17:43:49.427Z"
   },
   {
    "duration": 9,
    "start_time": "2024-04-11T17:44:36.196Z"
   },
   {
    "duration": 3,
    "start_time": "2024-04-11T17:44:44.062Z"
   },
   {
    "duration": 4,
    "start_time": "2024-04-11T17:44:54.145Z"
   },
   {
    "duration": 8,
    "start_time": "2024-04-11T17:45:03.124Z"
   },
   {
    "duration": 4,
    "start_time": "2024-04-11T17:47:01.390Z"
   },
   {
    "duration": 4,
    "start_time": "2024-04-11T17:47:06.091Z"
   },
   {
    "duration": 251912,
    "start_time": "2024-04-11T17:48:26.236Z"
   },
   {
    "duration": 9,
    "start_time": "2024-04-11T17:52:38.150Z"
   },
   {
    "duration": 15,
    "start_time": "2024-04-11T17:54:02.876Z"
   },
   {
    "duration": 16,
    "start_time": "2024-04-11T17:54:24.228Z"
   },
   {
    "duration": 11,
    "start_time": "2024-04-11T17:54:29.946Z"
   },
   {
    "duration": 11,
    "start_time": "2024-04-11T17:54:58.035Z"
   },
   {
    "duration": 61,
    "start_time": "2024-04-11T17:56:41.328Z"
   },
   {
    "duration": 17,
    "start_time": "2024-04-11T17:58:01.027Z"
   },
   {
    "duration": 60,
    "start_time": "2024-04-11T17:58:57.408Z"
   },
   {
    "duration": 582,
    "start_time": "2024-04-11T18:02:51.752Z"
   },
   {
    "duration": 581,
    "start_time": "2024-04-11T18:04:09.378Z"
   },
   {
    "duration": 202,
    "start_time": "2024-04-11T18:04:29.939Z"
   },
   {
    "duration": 13,
    "start_time": "2024-04-11T18:04:36.307Z"
   },
   {
    "duration": 6,
    "start_time": "2024-04-11T18:05:15.642Z"
   },
   {
    "duration": 1313,
    "start_time": "2024-04-11T18:08:43.231Z"
   },
   {
    "duration": 1126,
    "start_time": "2024-04-11T18:08:44.546Z"
   },
   {
    "duration": 515,
    "start_time": "2024-04-11T18:08:45.674Z"
   },
   {
    "duration": 109,
    "start_time": "2024-04-11T18:08:46.191Z"
   },
   {
    "duration": 40,
    "start_time": "2024-04-11T18:08:46.303Z"
   },
   {
    "duration": 126,
    "start_time": "2024-04-11T18:08:46.344Z"
   },
   {
    "duration": 257,
    "start_time": "2024-04-11T18:08:46.472Z"
   },
   {
    "duration": 546,
    "start_time": "2024-04-11T18:08:46.731Z"
   },
   {
    "duration": 475,
    "start_time": "2024-04-11T18:08:47.278Z"
   },
   {
    "duration": 25,
    "start_time": "2024-04-11T18:08:47.754Z"
   },
   {
    "duration": 90,
    "start_time": "2024-04-11T18:08:47.780Z"
   },
   {
    "duration": 151,
    "start_time": "2024-04-11T18:08:47.871Z"
   },
   {
    "duration": 133,
    "start_time": "2024-04-11T18:08:48.023Z"
   },
   {
    "duration": 220,
    "start_time": "2024-04-11T18:08:48.161Z"
   },
   {
    "duration": 228,
    "start_time": "2024-04-11T18:08:48.383Z"
   },
   {
    "duration": 200,
    "start_time": "2024-04-11T18:08:48.612Z"
   },
   {
    "duration": 125,
    "start_time": "2024-04-11T18:08:48.815Z"
   },
   {
    "duration": 111,
    "start_time": "2024-04-11T18:08:48.942Z"
   },
   {
    "duration": 189,
    "start_time": "2024-04-11T18:08:49.055Z"
   },
   {
    "duration": 49,
    "start_time": "2024-04-11T18:08:49.245Z"
   },
   {
    "duration": 354,
    "start_time": "2024-04-11T18:08:49.296Z"
   },
   {
    "duration": 404,
    "start_time": "2024-04-11T18:08:49.652Z"
   },
   {
    "duration": 76,
    "start_time": "2024-04-11T18:08:50.057Z"
   },
   {
    "duration": 336,
    "start_time": "2024-04-11T18:08:50.134Z"
   },
   {
    "duration": 70,
    "start_time": "2024-04-11T18:08:50.472Z"
   },
   {
    "duration": 3455,
    "start_time": "2024-04-11T18:08:50.544Z"
   },
   {
    "duration": 3,
    "start_time": "2024-04-11T18:08:54.001Z"
   },
   {
    "duration": 100610,
    "start_time": "2024-04-11T18:08:54.005Z"
   },
   {
    "duration": 13021,
    "start_time": "2024-04-11T18:10:34.617Z"
   },
   {
    "duration": 252131,
    "start_time": "2024-04-11T18:10:47.640Z"
   },
   {
    "duration": 109356,
    "start_time": "2024-04-11T18:14:59.773Z"
   },
   {
    "duration": 3,
    "start_time": "2024-04-11T18:16:49.131Z"
   },
   {
    "duration": 9,
    "start_time": "2024-04-11T18:16:49.135Z"
   },
   {
    "duration": 3,
    "start_time": "2024-04-11T18:16:49.215Z"
   },
   {
    "duration": 5,
    "start_time": "2024-04-11T18:16:49.219Z"
   },
   {
    "duration": 6,
    "start_time": "2024-04-11T18:16:49.225Z"
   },
   {
    "duration": 6,
    "start_time": "2024-04-11T18:16:49.232Z"
   },
   {
    "duration": 4,
    "start_time": "2024-04-11T18:16:49.240Z"
   },
   {
    "duration": 4,
    "start_time": "2024-04-11T18:16:49.245Z"
   },
   {
    "duration": 4,
    "start_time": "2024-04-11T18:16:49.251Z"
   },
   {
    "duration": 2,
    "start_time": "2024-04-11T18:16:49.258Z"
   },
   {
    "duration": 3,
    "start_time": "2024-04-11T18:16:49.262Z"
   },
   {
    "duration": 4,
    "start_time": "2024-04-11T18:16:49.266Z"
   },
   {
    "duration": 62,
    "start_time": "2024-04-11T18:16:49.272Z"
   },
   {
    "duration": 594,
    "start_time": "2024-04-11T18:16:49.337Z"
   },
   {
    "duration": 12,
    "start_time": "2024-04-11T18:16:49.933Z"
   },
   {
    "duration": 5,
    "start_time": "2024-04-11T18:16:49.947Z"
   }
  ],
  "kernelspec": {
   "display_name": "Python 3 (ipykernel)",
   "language": "python",
   "name": "python3"
  },
  "language_info": {
   "codemirror_mode": {
    "name": "ipython",
    "version": 3
   },
   "file_extension": ".py",
   "mimetype": "text/x-python",
   "name": "python",
   "nbconvert_exporter": "python",
   "pygments_lexer": "ipython3",
   "version": "3.11.5"
  },
  "toc": {
   "base_numbering": 1,
   "nav_menu": {},
   "number_sections": true,
   "sideBar": true,
   "skip_h1_title": true,
   "title_cell": "Table of Contents",
   "title_sidebar": "Contents",
   "toc_cell": false,
   "toc_position": {},
   "toc_section_display": true,
   "toc_window_display": false
  }
 },
 "nbformat": 4,
 "nbformat_minor": 2
}
